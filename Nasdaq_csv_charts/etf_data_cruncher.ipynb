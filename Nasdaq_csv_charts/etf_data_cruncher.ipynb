{
 "cells": [
  {
   "cell_type": "code",
   "execution_count": 1,
   "metadata": {},
   "outputs": [],
   "source": [
    "import pandas as pd\n",
    "import json"
   ]
  },
  {
   "cell_type": "code",
   "execution_count": 2,
   "metadata": {},
   "outputs": [],
   "source": [
    "# read in data for etf that targets the Nasdaq 100\n",
    "etf_qqq = pd.read_csv(\"resources/QQQ.csv\")\n",
    "\n",
    "# S&P 500\n",
    "etf_splg = pd.read_csv(\"resources/SPLG.csv\")\n",
    "etf_ivv = pd.read_csv(\"resources/IVV.csv\")\n",
    "etf_voo = pd.read_csv(\"resources/VOO.csv\")\n",
    "etf_spy = pd.read_csv(\"resources/SPY.csv\")\n",
    "\n",
    "# Dow Jones Industrial Average\n",
    "etf_dia = pd.read_csv(\"resources/DIA.csv\")\n",
    "\n",
    "# Global\n",
    "etf_acwi = pd.read_csv(\"resources/ACWI.csv\")\n",
    "etf_veu = pd.read_csv(\"resources/VEU.csv\")\n",
    "etf_vss = pd.read_csv(\"resources/VSS.csv\")"
   ]
  },
  {
   "cell_type": "code",
   "execution_count": 3,
   "metadata": {},
   "outputs": [],
   "source": [
    "# operations for converting a dataframe to a list of dictionaries\n",
    "\n",
    "# use .to_dict and 'records' orient to make our desired list\n",
    "list_d = etf_qqq.to_dict(orient='records')\n",
    "\n",
    "# write to a text file for our data.js later\n",
    "with open(\"etf_qqq.txt\", \"w\") as file:\n",
    "    file.write(json.dumps(list_d))"
   ]
  },
  {
   "cell_type": "code",
   "execution_count": 4,
   "metadata": {},
   "outputs": [],
   "source": [
    "list_d = etf_splg.to_dict(orient='records')\n",
    "with open(\"etf_splg.txt\", \"w\") as file:\n",
    "    file.write(json.dumps(list_d))"
   ]
  },
  {
   "cell_type": "code",
   "execution_count": 5,
   "metadata": {},
   "outputs": [],
   "source": [
    "list_d = etf_ivv.to_dict(orient='records')\n",
    "with open(\"etf_ivv.txt\", \"w\") as file:\n",
    "    file.write(json.dumps(list_d))"
   ]
  },
  {
   "cell_type": "code",
   "execution_count": 6,
   "metadata": {},
   "outputs": [],
   "source": [
    "list_d = etf_voo.to_dict(orient='records')\n",
    "with open(\"etf_voo.txt\", \"w\") as file:\n",
    "    file.write(json.dumps(list_d))"
   ]
  },
  {
   "cell_type": "code",
   "execution_count": 7,
   "metadata": {},
   "outputs": [],
   "source": [
    "list_d = etf_spy.to_dict(orient='records')\n",
    "with open(\"etf_spy.txt\", \"w\") as file:\n",
    "    file.write(json.dumps(list_d))"
   ]
  },
  {
   "cell_type": "code",
   "execution_count": 8,
   "metadata": {},
   "outputs": [],
   "source": [
    "list_d = etf_dia.to_dict(orient='records')\n",
    "with open(\"etf_dia.txt\", \"w\") as file:\n",
    "    file.write(json.dumps(list_d))"
   ]
  },
  {
   "cell_type": "code",
   "execution_count": 9,
   "metadata": {},
   "outputs": [],
   "source": [
    "list_d = etf_acwi.to_dict(orient='records')\n",
    "with open(\"etf_acwi.txt\", \"w\") as file:\n",
    "    file.write(json.dumps(list_d))"
   ]
  },
  {
   "cell_type": "code",
   "execution_count": 10,
   "metadata": {},
   "outputs": [],
   "source": [
    "list_d = etf_veu.to_dict(orient='records')\n",
    "with open(\"etf_veu.txt\", \"w\") as file:\n",
    "    file.write(json.dumps(list_d))"
   ]
  },
  {
   "cell_type": "code",
   "execution_count": 11,
   "metadata": {},
   "outputs": [],
   "source": [
    "list_d = etf_vss.to_dict(orient='records')\n",
    "with open(\"etf_vss.txt\", \"w\") as file:\n",
    "    file.write(json.dumps(list_d))"
   ]
  }
 ],
 "metadata": {
  "kernelspec": {
   "display_name": "Python 3",
   "language": "python",
   "name": "python3"
  },
  "language_info": {
   "codemirror_mode": {
    "name": "ipython",
    "version": 3
   },
   "file_extension": ".py",
   "mimetype": "text/x-python",
   "name": "python",
   "nbconvert_exporter": "python",
   "pygments_lexer": "ipython3",
   "version": "3.8.3"
  }
 },
 "nbformat": 4,
 "nbformat_minor": 4
}
