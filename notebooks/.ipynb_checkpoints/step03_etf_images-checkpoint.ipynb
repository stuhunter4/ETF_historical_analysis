{
 "cells": [
  {
   "cell_type": "code",
   "execution_count": 1,
   "metadata": {},
   "outputs": [],
   "source": [
    "import pandas_datareader.data as web\n",
    "import random\n",
    "import numpy as np\n",
    "import pandas as pd\n",
    "import seaborn as sns\n",
    "import matplotlib.pyplot as plt\n",
    "import datetime as dt\n",
    "#plt.style.use('ggplot')\n",
    "%matplotlib inline"
   ]
  },
  {
   "cell_type": "code",
   "execution_count": 2,
   "metadata": {},
   "outputs": [],
   "source": [
    "etf_df = pd.read_csv(\"resources/etf_df.csv\")"
   ]
  },
  {
   "cell_type": "markdown",
   "metadata": {},
   "source": [
    "### Period Datasets\n",
    "1M, 3M, 6M, 1Y, 5Y, 10Y, and MAX"
   ]
  },
  {
   "cell_type": "code",
   "execution_count": 3,
   "metadata": {},
   "outputs": [],
   "source": [
    "# last date configured\n",
    "last_date = list(etf_df.Date)[-1]\n",
    "last_split = last_date.split('-')\n",
    "d_list = [int(i) for i in last_split]\n",
    "date = dt.date(d_list[0], d_list[1], d_list[2])"
   ]
  },
  {
   "cell_type": "code",
   "execution_count": 4,
   "metadata": {},
   "outputs": [],
   "source": [
    "# calculate the dates from the last data point for 1m, 3m, 6m, 1y, 5y, and 10y...\n",
    "# ...then convert to string format for filtering DataFrame\n",
    "one_mo = (date - dt.timedelta(days=30.4167)).strftime(\"%Y-%m-%d\")\n",
    "three_mo = (date - dt.timedelta(days=91.2501)).strftime(\"%Y-%m-%d\")\n",
    "six_mo = (date - dt.timedelta(days=182.5)).strftime(\"%Y-%m-%d\")\n",
    "one_yr = (date - dt.timedelta(days=365)).strftime(\"%Y-%m-%d\")\n",
    "five_yr = (date - dt.timedelta(days=1825)).strftime(\"%Y-%m-%d\")\n",
    "ten_yr = (date - dt.timedelta(days=3650)).strftime(\"%Y-%m-%d\")"
   ]
  },
  {
   "cell_type": "code",
   "execution_count": 5,
   "metadata": {},
   "outputs": [
    {
     "data": {
      "text/html": [
       "<div>\n",
       "<style scoped>\n",
       "    .dataframe tbody tr th:only-of-type {\n",
       "        vertical-align: middle;\n",
       "    }\n",
       "\n",
       "    .dataframe tbody tr th {\n",
       "        vertical-align: top;\n",
       "    }\n",
       "\n",
       "    .dataframe thead th {\n",
       "        text-align: right;\n",
       "    }\n",
       "</style>\n",
       "<table border=\"1\" class=\"dataframe\">\n",
       "  <thead>\n",
       "    <tr style=\"text-align: right;\">\n",
       "      <th></th>\n",
       "      <th>Date</th>\n",
       "      <th>Open</th>\n",
       "      <th>High</th>\n",
       "      <th>Low</th>\n",
       "      <th>Close</th>\n",
       "      <th>Adj Close</th>\n",
       "      <th>Volume</th>\n",
       "      <th>symbol</th>\n",
       "    </tr>\n",
       "  </thead>\n",
       "  <tbody>\n",
       "    <tr>\n",
       "      <th>3052</th>\n",
       "      <td>2011-04-26</td>\n",
       "      <td>58.639999</td>\n",
       "      <td>59.029999</td>\n",
       "      <td>58.509998</td>\n",
       "      <td>58.820000</td>\n",
       "      <td>53.172684</td>\n",
       "      <td>49400000</td>\n",
       "      <td>QQQ</td>\n",
       "    </tr>\n",
       "    <tr>\n",
       "      <th>3053</th>\n",
       "      <td>2011-04-27</td>\n",
       "      <td>58.930000</td>\n",
       "      <td>59.290001</td>\n",
       "      <td>58.660000</td>\n",
       "      <td>59.220001</td>\n",
       "      <td>53.534275</td>\n",
       "      <td>56465500</td>\n",
       "      <td>QQQ</td>\n",
       "    </tr>\n",
       "    <tr>\n",
       "      <th>3054</th>\n",
       "      <td>2011-04-28</td>\n",
       "      <td>59.040001</td>\n",
       "      <td>59.230000</td>\n",
       "      <td>58.880001</td>\n",
       "      <td>59.130001</td>\n",
       "      <td>53.452900</td>\n",
       "      <td>48100000</td>\n",
       "      <td>QQQ</td>\n",
       "    </tr>\n",
       "    <tr>\n",
       "      <th>3055</th>\n",
       "      <td>2011-04-29</td>\n",
       "      <td>59.020000</td>\n",
       "      <td>59.290001</td>\n",
       "      <td>58.980000</td>\n",
       "      <td>59.080002</td>\n",
       "      <td>53.407722</td>\n",
       "      <td>44831200</td>\n",
       "      <td>QQQ</td>\n",
       "    </tr>\n",
       "    <tr>\n",
       "      <th>3056</th>\n",
       "      <td>2011-05-02</td>\n",
       "      <td>59.169998</td>\n",
       "      <td>59.340000</td>\n",
       "      <td>58.820000</td>\n",
       "      <td>58.970001</td>\n",
       "      <td>53.308273</td>\n",
       "      <td>48149400</td>\n",
       "      <td>QQQ</td>\n",
       "    </tr>\n",
       "    <tr>\n",
       "      <th>...</th>\n",
       "      <td>...</td>\n",
       "      <td>...</td>\n",
       "      <td>...</td>\n",
       "      <td>...</td>\n",
       "      <td>...</td>\n",
       "      <td>...</td>\n",
       "      <td>...</td>\n",
       "      <td>...</td>\n",
       "    </tr>\n",
       "    <tr>\n",
       "      <th>5563</th>\n",
       "      <td>2021-04-19</td>\n",
       "      <td>340.390015</td>\n",
       "      <td>341.579987</td>\n",
       "      <td>336.899994</td>\n",
       "      <td>338.880005</td>\n",
       "      <td>338.880005</td>\n",
       "      <td>34533100</td>\n",
       "      <td>QQQ</td>\n",
       "    </tr>\n",
       "    <tr>\n",
       "      <th>5564</th>\n",
       "      <td>2021-04-20</td>\n",
       "      <td>338.200012</td>\n",
       "      <td>339.519989</td>\n",
       "      <td>334.380005</td>\n",
       "      <td>336.410004</td>\n",
       "      <td>336.410004</td>\n",
       "      <td>38081800</td>\n",
       "      <td>QQQ</td>\n",
       "    </tr>\n",
       "    <tr>\n",
       "      <th>5565</th>\n",
       "      <td>2021-04-21</td>\n",
       "      <td>335.089996</td>\n",
       "      <td>339.480011</td>\n",
       "      <td>333.970001</td>\n",
       "      <td>339.290009</td>\n",
       "      <td>339.290009</td>\n",
       "      <td>36598100</td>\n",
       "      <td>QQQ</td>\n",
       "    </tr>\n",
       "    <tr>\n",
       "      <th>5566</th>\n",
       "      <td>2021-04-22</td>\n",
       "      <td>338.890015</td>\n",
       "      <td>339.899994</td>\n",
       "      <td>334.010010</td>\n",
       "      <td>335.200012</td>\n",
       "      <td>335.200012</td>\n",
       "      <td>45827400</td>\n",
       "      <td>QQQ</td>\n",
       "    </tr>\n",
       "    <tr>\n",
       "      <th>5567</th>\n",
       "      <td>2021-04-23</td>\n",
       "      <td>335.850006</td>\n",
       "      <td>340.760010</td>\n",
       "      <td>335.869995</td>\n",
       "      <td>339.420013</td>\n",
       "      <td>339.420013</td>\n",
       "      <td>34586896</td>\n",
       "      <td>QQQ</td>\n",
       "    </tr>\n",
       "  </tbody>\n",
       "</table>\n",
       "<p>2516 rows × 8 columns</p>\n",
       "</div>"
      ],
      "text/plain": [
       "            Date        Open        High         Low       Close   Adj Close  \\\n",
       "3052  2011-04-26   58.639999   59.029999   58.509998   58.820000   53.172684   \n",
       "3053  2011-04-27   58.930000   59.290001   58.660000   59.220001   53.534275   \n",
       "3054  2011-04-28   59.040001   59.230000   58.880001   59.130001   53.452900   \n",
       "3055  2011-04-29   59.020000   59.290001   58.980000   59.080002   53.407722   \n",
       "3056  2011-05-02   59.169998   59.340000   58.820000   58.970001   53.308273   \n",
       "...          ...         ...         ...         ...         ...         ...   \n",
       "5563  2021-04-19  340.390015  341.579987  336.899994  338.880005  338.880005   \n",
       "5564  2021-04-20  338.200012  339.519989  334.380005  336.410004  336.410004   \n",
       "5565  2021-04-21  335.089996  339.480011  333.970001  339.290009  339.290009   \n",
       "5566  2021-04-22  338.890015  339.899994  334.010010  335.200012  335.200012   \n",
       "5567  2021-04-23  335.850006  340.760010  335.869995  339.420013  339.420013   \n",
       "\n",
       "        Volume symbol  \n",
       "3052  49400000    QQQ  \n",
       "3053  56465500    QQQ  \n",
       "3054  48100000    QQQ  \n",
       "3055  44831200    QQQ  \n",
       "3056  48149400    QQQ  \n",
       "...        ...    ...  \n",
       "5563  34533100    QQQ  \n",
       "5564  38081800    QQQ  \n",
       "5565  36598100    QQQ  \n",
       "5566  45827400    QQQ  \n",
       "5567  34586896    QQQ  \n",
       "\n",
       "[2516 rows x 8 columns]"
      ]
     },
     "execution_count": 5,
     "metadata": {},
     "output_type": "execute_result"
    }
   ],
   "source": [
    "etf_df.loc[(etf_df.symbol == 'QQQ')&(etf_df.Date >= ten_yr)&(etf_df.Date <= last_date)]"
   ]
  },
  {
   "cell_type": "markdown",
   "metadata": {},
   "source": [
    "### 1. Relative Returns"
   ]
  },
  {
   "cell_type": "code",
   "execution_count": 6,
   "metadata": {},
   "outputs": [],
   "source": [
    "# three lists created to cover possible portfolio combinations to display\n",
    "qqq_symbols = ['QQQ', 'SPLG', 'DIA', 'VEU']\n",
    "sp_symbols = ['QQQ', 'SPLG', 'IVV', 'VOO', 'SPY', 'DIA']\n",
    "glob_symbols = ['QQQ', 'SPLG', 'ACWI', 'VEU', 'VSS']\n",
    "\n",
    "#list of lists...\n",
    "portfolios = [qqq_symbols, sp_symbols, glob_symbols]\n",
    "\n",
    "# list of years we need a portfolio display for\n",
    "dates_list = [one_mo, three_mo, six_mo, one_yr, five_yr, ten_yr]\n",
    "dates_str = ['1M', '3M', '6M', '1Y', '5Y', '10Y']"
   ]
  },
  {
   "cell_type": "code",
   "execution_count": 7,
   "metadata": {},
   "outputs": [],
   "source": [
    "# create function that exports a DataFrame for the list of symbols' relative returns\n",
    "def rel_returns(symbols, start):\n",
    "    df = pd.DataFrame(columns = symbols)\n",
    "    for symbol in symbols:\n",
    "        df_filter = etf_df.loc[(etf_df.symbol == symbol)&(etf_df.Date >= start)&(etf_df.Date <= last_date)]\n",
    "        df[symbol] = list(df_filter.Close)\n",
    "    df['Date'] = list(df_filter.Date)\n",
    "    df.set_index(\"Date\", inplace = True)\n",
    "    returns = (df/df.iloc[0])\n",
    "    return returns\n",
    "\n",
    "def close_compare(symbols, start):\n",
    "    df = pd.DataFrame(columns = symbols)\n",
    "    for symbol in symbols:\n",
    "        df_filter = etf_df.loc[(etf_df.symbol == symbol)&(etf_df.Date >= start)&(etf_df.Date <= last_date)]\n",
    "        df[symbol] = list(df_filter.Close)\n",
    "    df['Date'] = list(df_filter.Date)\n",
    "    df.set_index(\"Date\", inplace = True)\n",
    "    return df"
   ]
  },
  {
   "cell_type": "code",
   "execution_count": 8,
   "metadata": {},
   "outputs": [],
   "source": [
    "# create function that exports two charts for every period specified in dates_list...\n",
    "# ...one for Close price and one for relative returns\n",
    "def returns_charts(symbols):\n",
    "    for x in range(len(dates_list)):\n",
    "        new_df = rel_returns(symbols, dates_list[x])\n",
    "        new_df.plot(figsize=(10,8))\n",
    "        plt.title(f'Relative Returns: {dates_str[x]}, {last_date}', fontsize=24)\n",
    "        plt.xlabel('Date', fontsize=22)\n",
    "        plt.legend(fontsize=18)\n",
    "        plt.grid()\n",
    "        plt.tight_layout()\n",
    "        plt.savefig(f\"../images/returns/returns_{symbols[-1]}_{dates_str[x]}.jpg\", dpi=75)\n",
    "        plt.clf()\n",
    "        \n",
    "def close_charts(symbols):\n",
    "    for x in range(len(dates_list)):\n",
    "        new_df = close_compare(symbols, dates_list[x])\n",
    "        new_df.plot(figsize=(10,8))\n",
    "        plt.title(f'Close: {dates_str[x]}, {last_date}', fontsize=24)\n",
    "        plt.xlabel('Date', fontsize=22)\n",
    "        plt.legend(fontsize=18)\n",
    "        plt.grid()\n",
    "        plt.tight_layout()\n",
    "        plt.savefig(f\"../images/close/close_{symbols[-1]}_{dates_str[x]}.jpg\", dpi=75)\n",
    "        plt.clf()"
   ]
  },
  {
   "cell_type": "code",
   "execution_count": 9,
   "metadata": {},
   "outputs": [
    {
     "data": {
      "text/plain": [
       "<Figure size 720x576 with 0 Axes>"
      ]
     },
     "metadata": {},
     "output_type": "display_data"
    },
    {
     "data": {
      "text/plain": [
       "<Figure size 720x576 with 0 Axes>"
      ]
     },
     "metadata": {},
     "output_type": "display_data"
    },
    {
     "data": {
      "text/plain": [
       "<Figure size 720x576 with 0 Axes>"
      ]
     },
     "metadata": {},
     "output_type": "display_data"
    },
    {
     "data": {
      "text/plain": [
       "<Figure size 720x576 with 0 Axes>"
      ]
     },
     "metadata": {},
     "output_type": "display_data"
    },
    {
     "data": {
      "text/plain": [
       "<Figure size 720x576 with 0 Axes>"
      ]
     },
     "metadata": {},
     "output_type": "display_data"
    },
    {
     "data": {
      "text/plain": [
       "<Figure size 720x576 with 0 Axes>"
      ]
     },
     "metadata": {},
     "output_type": "display_data"
    },
    {
     "data": {
      "text/plain": [
       "<Figure size 720x576 with 0 Axes>"
      ]
     },
     "metadata": {},
     "output_type": "display_data"
    },
    {
     "data": {
      "text/plain": [
       "<Figure size 720x576 with 0 Axes>"
      ]
     },
     "metadata": {},
     "output_type": "display_data"
    },
    {
     "data": {
      "text/plain": [
       "<Figure size 720x576 with 0 Axes>"
      ]
     },
     "metadata": {},
     "output_type": "display_data"
    },
    {
     "data": {
      "text/plain": [
       "<Figure size 720x576 with 0 Axes>"
      ]
     },
     "metadata": {},
     "output_type": "display_data"
    },
    {
     "data": {
      "text/plain": [
       "<Figure size 720x576 with 0 Axes>"
      ]
     },
     "metadata": {},
     "output_type": "display_data"
    },
    {
     "data": {
      "text/plain": [
       "<Figure size 720x576 with 0 Axes>"
      ]
     },
     "metadata": {},
     "output_type": "display_data"
    },
    {
     "data": {
      "text/plain": [
       "<Figure size 720x576 with 0 Axes>"
      ]
     },
     "metadata": {},
     "output_type": "display_data"
    },
    {
     "data": {
      "text/plain": [
       "<Figure size 720x576 with 0 Axes>"
      ]
     },
     "metadata": {},
     "output_type": "display_data"
    },
    {
     "data": {
      "text/plain": [
       "<Figure size 720x576 with 0 Axes>"
      ]
     },
     "metadata": {},
     "output_type": "display_data"
    },
    {
     "data": {
      "text/plain": [
       "<Figure size 720x576 with 0 Axes>"
      ]
     },
     "metadata": {},
     "output_type": "display_data"
    },
    {
     "data": {
      "text/plain": [
       "<Figure size 720x576 with 0 Axes>"
      ]
     },
     "metadata": {},
     "output_type": "display_data"
    },
    {
     "data": {
      "text/plain": [
       "<Figure size 720x576 with 0 Axes>"
      ]
     },
     "metadata": {},
     "output_type": "display_data"
    }
   ],
   "source": [
    "returns_charts(qqq_symbols)\n",
    "returns_charts(sp_symbols)\n",
    "returns_charts(glob_symbols)"
   ]
  },
  {
   "cell_type": "code",
   "execution_count": 10,
   "metadata": {},
   "outputs": [
    {
     "data": {
      "text/plain": [
       "<Figure size 720x576 with 0 Axes>"
      ]
     },
     "metadata": {},
     "output_type": "display_data"
    },
    {
     "data": {
      "text/plain": [
       "<Figure size 720x576 with 0 Axes>"
      ]
     },
     "metadata": {},
     "output_type": "display_data"
    },
    {
     "data": {
      "text/plain": [
       "<Figure size 720x576 with 0 Axes>"
      ]
     },
     "metadata": {},
     "output_type": "display_data"
    },
    {
     "data": {
      "text/plain": [
       "<Figure size 720x576 with 0 Axes>"
      ]
     },
     "metadata": {},
     "output_type": "display_data"
    },
    {
     "data": {
      "text/plain": [
       "<Figure size 720x576 with 0 Axes>"
      ]
     },
     "metadata": {},
     "output_type": "display_data"
    },
    {
     "data": {
      "text/plain": [
       "<Figure size 720x576 with 0 Axes>"
      ]
     },
     "metadata": {},
     "output_type": "display_data"
    },
    {
     "data": {
      "text/plain": [
       "<Figure size 720x576 with 0 Axes>"
      ]
     },
     "metadata": {},
     "output_type": "display_data"
    },
    {
     "data": {
      "text/plain": [
       "<Figure size 720x576 with 0 Axes>"
      ]
     },
     "metadata": {},
     "output_type": "display_data"
    },
    {
     "data": {
      "text/plain": [
       "<Figure size 720x576 with 0 Axes>"
      ]
     },
     "metadata": {},
     "output_type": "display_data"
    },
    {
     "data": {
      "text/plain": [
       "<Figure size 720x576 with 0 Axes>"
      ]
     },
     "metadata": {},
     "output_type": "display_data"
    },
    {
     "data": {
      "text/plain": [
       "<Figure size 720x576 with 0 Axes>"
      ]
     },
     "metadata": {},
     "output_type": "display_data"
    },
    {
     "data": {
      "text/plain": [
       "<Figure size 720x576 with 0 Axes>"
      ]
     },
     "metadata": {},
     "output_type": "display_data"
    },
    {
     "data": {
      "text/plain": [
       "<Figure size 720x576 with 0 Axes>"
      ]
     },
     "metadata": {},
     "output_type": "display_data"
    },
    {
     "data": {
      "text/plain": [
       "<Figure size 720x576 with 0 Axes>"
      ]
     },
     "metadata": {},
     "output_type": "display_data"
    },
    {
     "data": {
      "text/plain": [
       "<Figure size 720x576 with 0 Axes>"
      ]
     },
     "metadata": {},
     "output_type": "display_data"
    },
    {
     "data": {
      "text/plain": [
       "<Figure size 720x576 with 0 Axes>"
      ]
     },
     "metadata": {},
     "output_type": "display_data"
    },
    {
     "data": {
      "text/plain": [
       "<Figure size 720x576 with 0 Axes>"
      ]
     },
     "metadata": {},
     "output_type": "display_data"
    },
    {
     "data": {
      "text/plain": [
       "<Figure size 720x576 with 0 Axes>"
      ]
     },
     "metadata": {},
     "output_type": "display_data"
    }
   ],
   "source": [
    "close_charts(qqq_symbols)\n",
    "close_charts(sp_symbols)\n",
    "close_charts(glob_symbols)"
   ]
  },
  {
   "cell_type": "markdown",
   "metadata": {},
   "source": [
    "### 2. Volatility - Histograms"
   ]
  },
  {
   "cell_type": "code",
   "execution_count": 11,
   "metadata": {},
   "outputs": [],
   "source": [
    "df = rel_returns(qqq_symbols, ten_yr)"
   ]
  },
  {
   "cell_type": "code",
   "execution_count": 12,
   "metadata": {},
   "outputs": [
    {
     "data": {
      "text/html": [
       "<div>\n",
       "<style scoped>\n",
       "    .dataframe tbody tr th:only-of-type {\n",
       "        vertical-align: middle;\n",
       "    }\n",
       "\n",
       "    .dataframe tbody tr th {\n",
       "        vertical-align: top;\n",
       "    }\n",
       "\n",
       "    .dataframe thead th {\n",
       "        text-align: right;\n",
       "    }\n",
       "</style>\n",
       "<table border=\"1\" class=\"dataframe\">\n",
       "  <thead>\n",
       "    <tr style=\"text-align: right;\">\n",
       "      <th></th>\n",
       "      <th>QQQ</th>\n",
       "      <th>SPLG</th>\n",
       "      <th>DIA</th>\n",
       "      <th>VEU</th>\n",
       "    </tr>\n",
       "    <tr>\n",
       "      <th>Date</th>\n",
       "      <th></th>\n",
       "      <th></th>\n",
       "      <th></th>\n",
       "      <th></th>\n",
       "    </tr>\n",
       "  </thead>\n",
       "  <tbody>\n",
       "    <tr>\n",
       "      <th>2011-04-26</th>\n",
       "      <td>1.000000</td>\n",
       "      <td>1.000000</td>\n",
       "      <td>1.000000</td>\n",
       "      <td>1.000000</td>\n",
       "    </tr>\n",
       "    <tr>\n",
       "      <th>2011-04-27</th>\n",
       "      <td>1.006800</td>\n",
       "      <td>1.000000</td>\n",
       "      <td>1.007876</td>\n",
       "      <td>1.008796</td>\n",
       "    </tr>\n",
       "    <tr>\n",
       "      <th>2011-04-28</th>\n",
       "      <td>1.005270</td>\n",
       "      <td>1.007409</td>\n",
       "      <td>1.013683</td>\n",
       "      <td>1.011532</td>\n",
       "    </tr>\n",
       "    <tr>\n",
       "      <th>2011-04-29</th>\n",
       "      <td>1.004420</td>\n",
       "      <td>1.012295</td>\n",
       "      <td>1.018616</td>\n",
       "      <td>1.016615</td>\n",
       "    </tr>\n",
       "    <tr>\n",
       "      <th>2011-05-02</th>\n",
       "      <td>1.002550</td>\n",
       "      <td>1.010719</td>\n",
       "      <td>1.017025</td>\n",
       "      <td>1.014269</td>\n",
       "    </tr>\n",
       "    <tr>\n",
       "      <th>...</th>\n",
       "      <td>...</td>\n",
       "      <td>...</td>\n",
       "      <td>...</td>\n",
       "      <td>...</td>\n",
       "    </tr>\n",
       "    <tr>\n",
       "      <th>2021-04-19</th>\n",
       "      <td>5.761306</td>\n",
       "      <td>3.076923</td>\n",
       "      <td>2.710819</td>\n",
       "      <td>1.227131</td>\n",
       "    </tr>\n",
       "    <tr>\n",
       "      <th>2021-04-20</th>\n",
       "      <td>5.719313</td>\n",
       "      <td>3.056116</td>\n",
       "      <td>2.689897</td>\n",
       "      <td>1.208952</td>\n",
       "    </tr>\n",
       "    <tr>\n",
       "      <th>2021-04-21</th>\n",
       "      <td>5.768276</td>\n",
       "      <td>3.085120</td>\n",
       "      <td>2.715195</td>\n",
       "      <td>1.219507</td>\n",
       "    </tr>\n",
       "    <tr>\n",
       "      <th>2021-04-22</th>\n",
       "      <td>5.698742</td>\n",
       "      <td>3.055486</td>\n",
       "      <td>2.689897</td>\n",
       "      <td>1.215598</td>\n",
       "    </tr>\n",
       "    <tr>\n",
       "      <th>2021-04-23</th>\n",
       "      <td>5.770486</td>\n",
       "      <td>3.089533</td>\n",
       "      <td>2.708274</td>\n",
       "      <td>1.228694</td>\n",
       "    </tr>\n",
       "  </tbody>\n",
       "</table>\n",
       "<p>2516 rows × 4 columns</p>\n",
       "</div>"
      ],
      "text/plain": [
       "                 QQQ      SPLG       DIA       VEU\n",
       "Date                                              \n",
       "2011-04-26  1.000000  1.000000  1.000000  1.000000\n",
       "2011-04-27  1.006800  1.000000  1.007876  1.008796\n",
       "2011-04-28  1.005270  1.007409  1.013683  1.011532\n",
       "2011-04-29  1.004420  1.012295  1.018616  1.016615\n",
       "2011-05-02  1.002550  1.010719  1.017025  1.014269\n",
       "...              ...       ...       ...       ...\n",
       "2021-04-19  5.761306  3.076923  2.710819  1.227131\n",
       "2021-04-20  5.719313  3.056116  2.689897  1.208952\n",
       "2021-04-21  5.768276  3.085120  2.715195  1.219507\n",
       "2021-04-22  5.698742  3.055486  2.689897  1.215598\n",
       "2021-04-23  5.770486  3.089533  2.708274  1.228694\n",
       "\n",
       "[2516 rows x 4 columns]"
      ]
     },
     "execution_count": 12,
     "metadata": {},
     "output_type": "execute_result"
    }
   ],
   "source": [
    "df"
   ]
  },
  {
   "cell_type": "code",
   "execution_count": 13,
   "metadata": {},
   "outputs": [
    {
     "data": {
      "text/plain": [
       "<Figure size 720x576 with 0 Axes>"
      ]
     },
     "metadata": {},
     "output_type": "display_data"
    }
   ],
   "source": [
    "# create histograms for returns, qqq_symbols list\n",
    "for x in range(len(dates_list)):\n",
    "    df = rel_returns(qqq_symbols, dates_list[x])\n",
    "    df.QQQ.hist(bins=50, figsize=(10,8), label='QQQ', alpha=0.5)\n",
    "    df.SPLG.hist(bins=50, label='SPLG', alpha=0.5)\n",
    "    df.DIA.hist(bins=50, label='DIA', alpha=0.5)\n",
    "    df.VEU.hist(bins=50, label='VEU', alpha=0.5)\n",
    "    plt.title(f'Volatility: {dates_str[x]}, {last_date}', fontsize=24)\n",
    "    plt.legend(fontsize=18)\n",
    "    plt.tight_layout()\n",
    "    plt.savefig(f\"../images/vol_hist/histogram_qqq_symbols_{dates_str[x]}.jpg\", dpi=75)\n",
    "    plt.clf()"
   ]
  },
  {
   "cell_type": "code",
   "execution_count": 14,
   "metadata": {},
   "outputs": [
    {
     "data": {
      "text/plain": [
       "<Figure size 720x576 with 0 Axes>"
      ]
     },
     "metadata": {},
     "output_type": "display_data"
    }
   ],
   "source": [
    "# create histograms kernel for clarity, qqq_symbols list\n",
    "for x in range(len(dates_list)):\n",
    "    df = rel_returns(qqq_symbols, dates_list[x])\n",
    "    df.QQQ.plot(kind='kde', label='QQQ', figsize=(10,8))\n",
    "    df.SPLG.plot(kind='kde', label='SPLG')\n",
    "    df.DIA.plot(kind='kde', label='DIA')\n",
    "    df.VEU.plot(kind='kde', label='VEU')\n",
    "    plt.title(f'Volatility Normalized: {dates_str[x]}, {last_date}', fontsize=24)\n",
    "    plt.legend(fontsize=18)\n",
    "    plt.tight_layout()\n",
    "    plt.grid()\n",
    "    plt.savefig(f\"../images/vol_hist/ked_hist_qqq_symbols_{dates_str[x]}.jpg\", dpi=75)\n",
    "    plt.clf()"
   ]
  },
  {
   "cell_type": "code",
   "execution_count": 15,
   "metadata": {},
   "outputs": [
    {
     "data": {
      "text/plain": [
       "<Figure size 720x576 with 0 Axes>"
      ]
     },
     "metadata": {},
     "output_type": "display_data"
    }
   ],
   "source": [
    "# repeat operations for sp_symbols, glob_symbols\n",
    "for x in range(len(dates_list)):\n",
    "    df = rel_returns(sp_symbols, dates_list[x])\n",
    "    df.QQQ.hist(bins=50, figsize=(10,8), label='QQQ', alpha=0.5)\n",
    "    df.SPLG.hist(bins=50, label='SPLG', alpha=0.5)\n",
    "    df.IVV.hist(bins=50, label='IVV', alpha=0.5)\n",
    "    df.VOO.hist(bins=50, label='VOO', alpha=0.5)\n",
    "    df.SPY.hist(bins=50, label='SPY', alpha=0.5)\n",
    "    df.DIA.hist(bins=50, label='DIA', alpha=0.5)\n",
    "    plt.title(f'Volatility: {dates_str[x]}, {last_date}', fontsize=24)\n",
    "    plt.legend(fontsize=18)\n",
    "    plt.tight_layout()\n",
    "    plt.savefig(f\"../images/vol_hist/histogram_sp_symbols_{dates_str[x]}.jpg\", dpi=75)\n",
    "    plt.clf()\n",
    "for x in range(len(dates_list)):\n",
    "    df = rel_returns(sp_symbols, dates_list[x])\n",
    "    df.QQQ.plot(kind='kde', label='QQQ', figsize=(10,8))\n",
    "    df.SPLG.plot(kind='kde', label='SPLG')\n",
    "    df.IVV.plot(kind='kde', label='IVV')\n",
    "    df.VOO.plot(kind='kde', label='VOO')\n",
    "    df.SPY.plot(kind='kde', label='SPY')\n",
    "    df.DIA.plot(kind='kde', label='DIA')\n",
    "    plt.title(f'Volatility Normalized: {dates_str[x]}, {last_date}', fontsize=24)\n",
    "    plt.legend(fontsize=18)\n",
    "    plt.tight_layout()\n",
    "    plt.grid()\n",
    "    plt.savefig(f\"../images/vol_hist/ked_hist_sp_symbols_{dates_str[x]}.jpg\", dpi=75)\n",
    "    plt.clf()"
   ]
  },
  {
   "cell_type": "code",
   "execution_count": 16,
   "metadata": {},
   "outputs": [
    {
     "data": {
      "text/plain": [
       "<Figure size 720x576 with 0 Axes>"
      ]
     },
     "metadata": {},
     "output_type": "display_data"
    }
   ],
   "source": [
    "for x in range(len(dates_list)):\n",
    "    df = rel_returns(glob_symbols, dates_list[x])\n",
    "    df.QQQ.hist(bins=50, figsize=(10,8), label='QQQ', alpha=0.5)\n",
    "    df.SPLG.hist(bins=50, label='SPLG', alpha=0.5)\n",
    "    df.ACWI.hist(bins=50, label='ACWI', alpha=0.5)\n",
    "    df.VEU.hist(bins=50, label='VEU', alpha=0.5)\n",
    "    df.VSS.hist(bins=50, label='VSS', alpha=0.5)\n",
    "    plt.title(f'Volatility: {dates_str[x]}, {last_date}', fontsize=24)\n",
    "    plt.legend(fontsize=18)\n",
    "    plt.tight_layout()\n",
    "    plt.savefig(f\"../images/vol_hist/histogram_glob_symbols_{dates_str[x]}.jpg\", dpi=75)\n",
    "    plt.clf()\n",
    "for x in range(len(dates_list)):\n",
    "    df = rel_returns(glob_symbols, dates_list[x])\n",
    "    df.QQQ.plot(kind='kde', label='QQQ', figsize=(10,8))\n",
    "    df.SPLG.plot(kind='kde', label='SPLG')\n",
    "    df.ACWI.plot(kind='kde', label='ACWI')\n",
    "    df.VEU.plot(kind='kde', label='VEU')\n",
    "    df.VSS.plot(kind='kde', label='VSS')\n",
    "    plt.title(f'Volatility Normalized: {dates_str[x]}, {last_date}', fontsize=24)\n",
    "    plt.legend(fontsize=18)\n",
    "    plt.tight_layout()\n",
    "    plt.grid()\n",
    "    plt.savefig(f\"../images/vol_hist/ked_hist_glob_symbols_{dates_str[x]}.jpg\", dpi=75)\n",
    "    plt.clf()"
   ]
  },
  {
   "cell_type": "markdown",
   "metadata": {},
   "source": [
    "### Correlation"
   ]
  },
  {
   "cell_type": "code",
   "execution_count": 17,
   "metadata": {},
   "outputs": [],
   "source": [
    "from pandas.plotting import scatter_matrix"
   ]
  },
  {
   "cell_type": "code",
   "execution_count": 18,
   "metadata": {},
   "outputs": [],
   "source": [
    "def scatter_plots(portfolio_list):\n",
    "    for portfolio in portfolio_list:\n",
    "        for x in range(len(dates_list)):\n",
    "            df = close_compare(portfolio, dates_list[x])\n",
    "            scatter_matrix(df, figsize=(10,10), color='dodgerblue', hist_kwds={'color':'lightblue', 'alpha':0.50, 'bins':50})\n",
    "            plt.tight_layout()\n",
    "            plt.savefig(f\"../images/correlation/scatter_{portfolio[-1]}_{dates_str[x]}.jpg\", dpi=150)\n",
    "            plt.clf()"
   ]
  },
  {
   "cell_type": "code",
   "execution_count": 19,
   "metadata": {},
   "outputs": [
    {
     "data": {
      "text/plain": [
       "<Figure size 720x720 with 0 Axes>"
      ]
     },
     "metadata": {},
     "output_type": "display_data"
    },
    {
     "data": {
      "text/plain": [
       "<Figure size 720x720 with 0 Axes>"
      ]
     },
     "metadata": {},
     "output_type": "display_data"
    },
    {
     "data": {
      "text/plain": [
       "<Figure size 720x720 with 0 Axes>"
      ]
     },
     "metadata": {},
     "output_type": "display_data"
    },
    {
     "data": {
      "text/plain": [
       "<Figure size 720x720 with 0 Axes>"
      ]
     },
     "metadata": {},
     "output_type": "display_data"
    },
    {
     "data": {
      "text/plain": [
       "<Figure size 720x720 with 0 Axes>"
      ]
     },
     "metadata": {},
     "output_type": "display_data"
    },
    {
     "data": {
      "text/plain": [
       "<Figure size 720x720 with 0 Axes>"
      ]
     },
     "metadata": {},
     "output_type": "display_data"
    },
    {
     "data": {
      "text/plain": [
       "<Figure size 720x720 with 0 Axes>"
      ]
     },
     "metadata": {},
     "output_type": "display_data"
    },
    {
     "data": {
      "text/plain": [
       "<Figure size 720x720 with 0 Axes>"
      ]
     },
     "metadata": {},
     "output_type": "display_data"
    },
    {
     "data": {
      "text/plain": [
       "<Figure size 720x720 with 0 Axes>"
      ]
     },
     "metadata": {},
     "output_type": "display_data"
    },
    {
     "data": {
      "text/plain": [
       "<Figure size 720x720 with 0 Axes>"
      ]
     },
     "metadata": {},
     "output_type": "display_data"
    },
    {
     "data": {
      "text/plain": [
       "<Figure size 720x720 with 0 Axes>"
      ]
     },
     "metadata": {},
     "output_type": "display_data"
    },
    {
     "data": {
      "text/plain": [
       "<Figure size 720x720 with 0 Axes>"
      ]
     },
     "metadata": {},
     "output_type": "display_data"
    },
    {
     "data": {
      "text/plain": [
       "<Figure size 720x720 with 0 Axes>"
      ]
     },
     "metadata": {},
     "output_type": "display_data"
    },
    {
     "data": {
      "text/plain": [
       "<Figure size 720x720 with 0 Axes>"
      ]
     },
     "metadata": {},
     "output_type": "display_data"
    },
    {
     "data": {
      "text/plain": [
       "<Figure size 720x720 with 0 Axes>"
      ]
     },
     "metadata": {},
     "output_type": "display_data"
    },
    {
     "data": {
      "text/plain": [
       "<Figure size 720x720 with 0 Axes>"
      ]
     },
     "metadata": {},
     "output_type": "display_data"
    },
    {
     "data": {
      "text/plain": [
       "<Figure size 720x720 with 0 Axes>"
      ]
     },
     "metadata": {},
     "output_type": "display_data"
    },
    {
     "data": {
      "text/plain": [
       "<Figure size 720x720 with 0 Axes>"
      ]
     },
     "metadata": {},
     "output_type": "display_data"
    }
   ],
   "source": [
    "scatter_plots(portfolios)"
   ]
  },
  {
   "cell_type": "markdown",
   "metadata": {},
   "source": [
    "### Monte Carlo Simulation\n",
    "Currently discontinued"
   ]
  },
  {
   "cell_type": "code",
   "execution_count": 20,
   "metadata": {},
   "outputs": [],
   "source": [
    "# create function that randomly selects a 60 day period 1000 times, plots the simulation and...\n",
    "# an easier to read quantile version\n",
    "#def monte_carlo(portfolio):\n",
    "    #for x in range(len(dates_list)):\n",
    "        #stocks = close_compare(portfolio, dates_list[x])\n",
    "        #prf_returns = (stocks.pct_change() +1)[1:]\n",
    "        #simulated = pd.DataFrame([((prf_returns.iloc[random.choices(range(len(prf_returns)), k=60)])\\\n",
    "                        #.mean(axis=1)).cumprod().values for x in range(1000)]).T\n",
    "        #simulated.plot(legend=False, linewidth=1, alpha=0.1, color='blue', figsize=(12,8))\n",
    "        #plt.tight_layout()\n",
    "        #plt.savefig(f\"../images/monte_carlo/simulated_{portfolio[-1]}_{dates_str[x]}.jpg\", dpi=150)\n",
    "        #plt.clf()\n",
    "        #simulated.quantile([0.05, 0.50, 0.95], axis=1).T.plot(figsize=(12,8))\n",
    "        #plt.legend(fontsize=18)\n",
    "        #plt.tight_layout()\n",
    "        #plt.savefig(f\"../images/monte_carlo/quantile_{portfolio[-1]}_{dates_str[x]}.jpg\", dpi=75)\n",
    "        #plt.clf()"
   ]
  },
  {
   "cell_type": "code",
   "execution_count": 21,
   "metadata": {},
   "outputs": [],
   "source": [
    "#monte_carlo(qqq_symbols)"
   ]
  },
  {
   "cell_type": "code",
   "execution_count": 22,
   "metadata": {},
   "outputs": [],
   "source": [
    "#monte_carlo(sp_symbols)"
   ]
  },
  {
   "cell_type": "code",
   "execution_count": 23,
   "metadata": {},
   "outputs": [],
   "source": [
    "#monte_carlo(glob_symbols)"
   ]
  },
  {
   "cell_type": "code",
   "execution_count": null,
   "metadata": {},
   "outputs": [],
   "source": []
  }
 ],
 "metadata": {
  "kernelspec": {
   "display_name": "Python 3",
   "language": "python",
   "name": "python3"
  },
  "language_info": {
   "codemirror_mode": {
    "name": "ipython",
    "version": 3
   },
   "file_extension": ".py",
   "mimetype": "text/x-python",
   "name": "python",
   "nbconvert_exporter": "python",
   "pygments_lexer": "ipython3",
   "version": "3.8.3"
  }
 },
 "nbformat": 4,
 "nbformat_minor": 4
}
