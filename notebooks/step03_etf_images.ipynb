{
 "cells": [
  {
   "cell_type": "code",
   "execution_count": 1,
   "metadata": {},
   "outputs": [],
   "source": [
    "import pandas_datareader.data as web\n",
    "import random\n",
    "import numpy as np\n",
    "import pandas as pd\n",
    "import seaborn as sns\n",
    "import matplotlib.pyplot as plt\n",
    "import datetime as dt\n",
    "#plt.style.use('ggplot')\n",
    "%matplotlib inline"
   ]
  },
  {
   "cell_type": "code",
   "execution_count": 2,
   "metadata": {},
   "outputs": [],
   "source": [
    "etf_df = pd.read_csv(\"resources/etf_df.csv\")"
   ]
  },
  {
   "cell_type": "markdown",
   "metadata": {},
   "source": [
    "### Period Datasets\n",
    "1M, 3M, 6M, 1Y, 5Y, 10Y, and MAX"
   ]
  },
  {
   "cell_type": "code",
   "execution_count": 3,
   "metadata": {},
   "outputs": [],
   "source": [
    "# last date configured\n",
    "last_date = list(etf_df.Date)[-1]\n",
    "last_split = last_date.split('-')\n",
    "d_list = [int(i) for i in last_split]\n",
    "date = dt.date(d_list[0], d_list[1], d_list[2])"
   ]
  },
  {
   "cell_type": "code",
   "execution_count": 4,
   "metadata": {},
   "outputs": [],
   "source": [
    "# calculate the dates from the last data point for 1m, 3m, 6m, 1y, 5y, and 10y...\n",
    "# ...then convert to string format for filtering DataFrame\n",
    "one_mo = (date - dt.timedelta(days=30.4167)).strftime(\"%Y-%m-%d\")\n",
    "three_mo = (date - dt.timedelta(days=91.2501)).strftime(\"%Y-%m-%d\")\n",
    "six_mo = (date - dt.timedelta(days=182.5)).strftime(\"%Y-%m-%d\")\n",
    "one_yr = (date - dt.timedelta(days=365)).strftime(\"%Y-%m-%d\")\n",
    "five_yr = (date - dt.timedelta(days=1825)).strftime(\"%Y-%m-%d\")\n",
    "ten_yr = (date - dt.timedelta(days=3650)).strftime(\"%Y-%m-%d\")"
   ]
  },
  {
   "cell_type": "code",
   "execution_count": 5,
   "metadata": {},
   "outputs": [
    {
     "data": {
      "text/html": [
       "<div>\n",
       "<style scoped>\n",
       "    .dataframe tbody tr th:only-of-type {\n",
       "        vertical-align: middle;\n",
       "    }\n",
       "\n",
       "    .dataframe tbody tr th {\n",
       "        vertical-align: top;\n",
       "    }\n",
       "\n",
       "    .dataframe thead th {\n",
       "        text-align: right;\n",
       "    }\n",
       "</style>\n",
       "<table border=\"1\" class=\"dataframe\">\n",
       "  <thead>\n",
       "    <tr style=\"text-align: right;\">\n",
       "      <th></th>\n",
       "      <th>Date</th>\n",
       "      <th>Open</th>\n",
       "      <th>High</th>\n",
       "      <th>Low</th>\n",
       "      <th>Close</th>\n",
       "      <th>Adj Close</th>\n",
       "      <th>Volume</th>\n",
       "      <th>symbol</th>\n",
       "    </tr>\n",
       "  </thead>\n",
       "  <tbody>\n",
       "    <tr>\n",
       "      <th>3062</th>\n",
       "      <td>2011-05-10</td>\n",
       "      <td>58.860001</td>\n",
       "      <td>59.279999</td>\n",
       "      <td>58.779999</td>\n",
       "      <td>59.189999</td>\n",
       "      <td>53.507156</td>\n",
       "      <td>38053600</td>\n",
       "      <td>QQQ</td>\n",
       "    </tr>\n",
       "    <tr>\n",
       "      <th>3063</th>\n",
       "      <td>2011-05-11</td>\n",
       "      <td>59.099998</td>\n",
       "      <td>59.310001</td>\n",
       "      <td>58.360001</td>\n",
       "      <td>58.759998</td>\n",
       "      <td>53.118435</td>\n",
       "      <td>61900000</td>\n",
       "      <td>QQQ</td>\n",
       "    </tr>\n",
       "    <tr>\n",
       "      <th>3064</th>\n",
       "      <td>2011-05-12</td>\n",
       "      <td>58.580002</td>\n",
       "      <td>59.189999</td>\n",
       "      <td>58.240002</td>\n",
       "      <td>59.110001</td>\n",
       "      <td>53.434837</td>\n",
       "      <td>66100000</td>\n",
       "      <td>QQQ</td>\n",
       "    </tr>\n",
       "    <tr>\n",
       "      <th>3065</th>\n",
       "      <td>2011-05-13</td>\n",
       "      <td>58.970001</td>\n",
       "      <td>59.070000</td>\n",
       "      <td>58.389999</td>\n",
       "      <td>58.410000</td>\n",
       "      <td>52.802040</td>\n",
       "      <td>63506600</td>\n",
       "      <td>QQQ</td>\n",
       "    </tr>\n",
       "    <tr>\n",
       "      <th>3066</th>\n",
       "      <td>2011-05-16</td>\n",
       "      <td>58.139999</td>\n",
       "      <td>58.320000</td>\n",
       "      <td>57.270000</td>\n",
       "      <td>57.400002</td>\n",
       "      <td>51.889015</td>\n",
       "      <td>73115300</td>\n",
       "      <td>QQQ</td>\n",
       "    </tr>\n",
       "    <tr>\n",
       "      <th>...</th>\n",
       "      <td>...</td>\n",
       "      <td>...</td>\n",
       "      <td>...</td>\n",
       "      <td>...</td>\n",
       "      <td>...</td>\n",
       "      <td>...</td>\n",
       "      <td>...</td>\n",
       "      <td>...</td>\n",
       "    </tr>\n",
       "    <tr>\n",
       "      <th>5573</th>\n",
       "      <td>2021-05-03</td>\n",
       "      <td>339.230011</td>\n",
       "      <td>340.000000</td>\n",
       "      <td>335.730011</td>\n",
       "      <td>336.190002</td>\n",
       "      <td>336.190002</td>\n",
       "      <td>29729700</td>\n",
       "      <td>QQQ</td>\n",
       "    </tr>\n",
       "    <tr>\n",
       "      <th>5574</th>\n",
       "      <td>2021-05-04</td>\n",
       "      <td>333.559998</td>\n",
       "      <td>333.890015</td>\n",
       "      <td>326.209991</td>\n",
       "      <td>330.140015</td>\n",
       "      <td>330.140015</td>\n",
       "      <td>65147000</td>\n",
       "      <td>QQQ</td>\n",
       "    </tr>\n",
       "    <tr>\n",
       "      <th>5575</th>\n",
       "      <td>2021-05-05</td>\n",
       "      <td>332.250000</td>\n",
       "      <td>333.140015</td>\n",
       "      <td>328.230011</td>\n",
       "      <td>329.029999</td>\n",
       "      <td>329.029999</td>\n",
       "      <td>46219300</td>\n",
       "      <td>QQQ</td>\n",
       "    </tr>\n",
       "    <tr>\n",
       "      <th>5576</th>\n",
       "      <td>2021-05-06</td>\n",
       "      <td>328.760010</td>\n",
       "      <td>331.670013</td>\n",
       "      <td>326.450012</td>\n",
       "      <td>331.510010</td>\n",
       "      <td>331.510010</td>\n",
       "      <td>46814300</td>\n",
       "      <td>QQQ</td>\n",
       "    </tr>\n",
       "    <tr>\n",
       "      <th>5577</th>\n",
       "      <td>2021-05-07</td>\n",
       "      <td>334.369995</td>\n",
       "      <td>336.649994</td>\n",
       "      <td>331.690002</td>\n",
       "      <td>334.200012</td>\n",
       "      <td>334.200012</td>\n",
       "      <td>53300900</td>\n",
       "      <td>QQQ</td>\n",
       "    </tr>\n",
       "  </tbody>\n",
       "</table>\n",
       "<p>2516 rows × 8 columns</p>\n",
       "</div>"
      ],
      "text/plain": [
       "            Date        Open        High         Low       Close   Adj Close  \\\n",
       "3062  2011-05-10   58.860001   59.279999   58.779999   59.189999   53.507156   \n",
       "3063  2011-05-11   59.099998   59.310001   58.360001   58.759998   53.118435   \n",
       "3064  2011-05-12   58.580002   59.189999   58.240002   59.110001   53.434837   \n",
       "3065  2011-05-13   58.970001   59.070000   58.389999   58.410000   52.802040   \n",
       "3066  2011-05-16   58.139999   58.320000   57.270000   57.400002   51.889015   \n",
       "...          ...         ...         ...         ...         ...         ...   \n",
       "5573  2021-05-03  339.230011  340.000000  335.730011  336.190002  336.190002   \n",
       "5574  2021-05-04  333.559998  333.890015  326.209991  330.140015  330.140015   \n",
       "5575  2021-05-05  332.250000  333.140015  328.230011  329.029999  329.029999   \n",
       "5576  2021-05-06  328.760010  331.670013  326.450012  331.510010  331.510010   \n",
       "5577  2021-05-07  334.369995  336.649994  331.690002  334.200012  334.200012   \n",
       "\n",
       "        Volume symbol  \n",
       "3062  38053600    QQQ  \n",
       "3063  61900000    QQQ  \n",
       "3064  66100000    QQQ  \n",
       "3065  63506600    QQQ  \n",
       "3066  73115300    QQQ  \n",
       "...        ...    ...  \n",
       "5573  29729700    QQQ  \n",
       "5574  65147000    QQQ  \n",
       "5575  46219300    QQQ  \n",
       "5576  46814300    QQQ  \n",
       "5577  53300900    QQQ  \n",
       "\n",
       "[2516 rows x 8 columns]"
      ]
     },
     "execution_count": 5,
     "metadata": {},
     "output_type": "execute_result"
    }
   ],
   "source": [
    "etf_df.loc[(etf_df.symbol == 'QQQ')&(etf_df.Date >= ten_yr)&(etf_df.Date <= last_date)]"
   ]
  },
  {
   "cell_type": "markdown",
   "metadata": {},
   "source": [
    "### 1. Relative Returns"
   ]
  },
  {
   "cell_type": "code",
   "execution_count": 6,
   "metadata": {},
   "outputs": [],
   "source": [
    "# three lists created to cover possible portfolio combinations to display\n",
    "qqq_symbols = ['QQQ', 'SPLG', 'DIA', 'VEU']\n",
    "sp_symbols = ['QQQ', 'SPLG', 'IVV', 'VOO', 'SPY', 'DIA']\n",
    "glob_symbols = ['QQQ', 'SPLG', 'ACWI', 'VEU', 'VSS']\n",
    "\n",
    "#list of lists...\n",
    "portfolios = [qqq_symbols, sp_symbols, glob_symbols]\n",
    "\n",
    "# list of years we need a portfolio display for\n",
    "dates_list = [one_mo, three_mo, six_mo, one_yr, five_yr, ten_yr]\n",
    "dates_str = ['1M', '3M', '6M', '1Y', '5Y', '10Y']"
   ]
  },
  {
   "cell_type": "code",
   "execution_count": 7,
   "metadata": {},
   "outputs": [],
   "source": [
    "# create function that exports a DataFrame for the list of symbols' relative returns\n",
    "def rel_returns(symbols, start):\n",
    "    df = pd.DataFrame(columns = symbols)\n",
    "    for symbol in symbols:\n",
    "        df_filter = etf_df.loc[(etf_df.symbol == symbol)&(etf_df.Date >= start)&(etf_df.Date <= last_date)]\n",
    "        df[symbol] = list(df_filter.Close)\n",
    "    df['Date'] = list(df_filter.Date)\n",
    "    df.set_index(\"Date\", inplace = True)\n",
    "    returns = (df/df.iloc[0])\n",
    "    return returns\n",
    "\n",
    "def close_compare(symbols, start):\n",
    "    df = pd.DataFrame(columns = symbols)\n",
    "    for symbol in symbols:\n",
    "        df_filter = etf_df.loc[(etf_df.symbol == symbol)&(etf_df.Date >= start)&(etf_df.Date <= last_date)]\n",
    "        df[symbol] = list(df_filter.Close)\n",
    "    df['Date'] = list(df_filter.Date)\n",
    "    df.set_index(\"Date\", inplace = True)\n",
    "    return df"
   ]
  },
  {
   "cell_type": "code",
   "execution_count": 8,
   "metadata": {},
   "outputs": [],
   "source": [
    "# create function that exports two charts for every period specified in dates_list...\n",
    "# ...one for Close price and one for relative returns\n",
    "def returns_charts(symbols):\n",
    "    for x in range(len(dates_list)):\n",
    "        new_df = rel_returns(symbols, dates_list[x])\n",
    "        new_df.plot(figsize=(10,8))\n",
    "        plt.title(f'Relative Returns: {dates_str[x]}, {last_date}', fontsize=24)\n",
    "        plt.xlabel('Date', fontsize=22)\n",
    "        plt.legend(fontsize=18)\n",
    "        plt.grid()\n",
    "        plt.tight_layout()\n",
    "        plt.savefig(f\"../images/returns/returns_{symbols[-1]}_{dates_str[x]}.jpg\", dpi=75)\n",
    "        plt.clf()\n",
    "        \n",
    "def close_charts(symbols):\n",
    "    for x in range(len(dates_list)):\n",
    "        new_df = close_compare(symbols, dates_list[x])\n",
    "        new_df.plot(figsize=(10,8))\n",
    "        plt.title(f'Close: {dates_str[x]}, {last_date}', fontsize=24)\n",
    "        plt.xlabel('Date', fontsize=22)\n",
    "        plt.legend(fontsize=18)\n",
    "        plt.grid()\n",
    "        plt.tight_layout()\n",
    "        plt.savefig(f\"../images/close/close_{symbols[-1]}_{dates_str[x]}.jpg\", dpi=75)\n",
    "        plt.clf()"
   ]
  },
  {
   "cell_type": "code",
   "execution_count": 9,
   "metadata": {},
   "outputs": [
    {
     "data": {
      "text/plain": [
       "<Figure size 720x576 with 0 Axes>"
      ]
     },
     "metadata": {},
     "output_type": "display_data"
    },
    {
     "data": {
      "text/plain": [
       "<Figure size 720x576 with 0 Axes>"
      ]
     },
     "metadata": {},
     "output_type": "display_data"
    },
    {
     "data": {
      "text/plain": [
       "<Figure size 720x576 with 0 Axes>"
      ]
     },
     "metadata": {},
     "output_type": "display_data"
    },
    {
     "data": {
      "text/plain": [
       "<Figure size 720x576 with 0 Axes>"
      ]
     },
     "metadata": {},
     "output_type": "display_data"
    },
    {
     "data": {
      "text/plain": [
       "<Figure size 720x576 with 0 Axes>"
      ]
     },
     "metadata": {},
     "output_type": "display_data"
    },
    {
     "data": {
      "text/plain": [
       "<Figure size 720x576 with 0 Axes>"
      ]
     },
     "metadata": {},
     "output_type": "display_data"
    },
    {
     "data": {
      "text/plain": [
       "<Figure size 720x576 with 0 Axes>"
      ]
     },
     "metadata": {},
     "output_type": "display_data"
    },
    {
     "data": {
      "text/plain": [
       "<Figure size 720x576 with 0 Axes>"
      ]
     },
     "metadata": {},
     "output_type": "display_data"
    },
    {
     "data": {
      "text/plain": [
       "<Figure size 720x576 with 0 Axes>"
      ]
     },
     "metadata": {},
     "output_type": "display_data"
    },
    {
     "data": {
      "text/plain": [
       "<Figure size 720x576 with 0 Axes>"
      ]
     },
     "metadata": {},
     "output_type": "display_data"
    },
    {
     "data": {
      "text/plain": [
       "<Figure size 720x576 with 0 Axes>"
      ]
     },
     "metadata": {},
     "output_type": "display_data"
    },
    {
     "data": {
      "text/plain": [
       "<Figure size 720x576 with 0 Axes>"
      ]
     },
     "metadata": {},
     "output_type": "display_data"
    },
    {
     "data": {
      "text/plain": [
       "<Figure size 720x576 with 0 Axes>"
      ]
     },
     "metadata": {},
     "output_type": "display_data"
    },
    {
     "data": {
      "text/plain": [
       "<Figure size 720x576 with 0 Axes>"
      ]
     },
     "metadata": {},
     "output_type": "display_data"
    },
    {
     "data": {
      "text/plain": [
       "<Figure size 720x576 with 0 Axes>"
      ]
     },
     "metadata": {},
     "output_type": "display_data"
    },
    {
     "data": {
      "text/plain": [
       "<Figure size 720x576 with 0 Axes>"
      ]
     },
     "metadata": {},
     "output_type": "display_data"
    },
    {
     "data": {
      "text/plain": [
       "<Figure size 720x576 with 0 Axes>"
      ]
     },
     "metadata": {},
     "output_type": "display_data"
    },
    {
     "data": {
      "text/plain": [
       "<Figure size 720x576 with 0 Axes>"
      ]
     },
     "metadata": {},
     "output_type": "display_data"
    }
   ],
   "source": [
    "returns_charts(qqq_symbols)\n",
    "returns_charts(sp_symbols)\n",
    "returns_charts(glob_symbols)"
   ]
  },
  {
   "cell_type": "code",
   "execution_count": 10,
   "metadata": {},
   "outputs": [
    {
     "data": {
      "text/plain": [
       "<Figure size 720x576 with 0 Axes>"
      ]
     },
     "metadata": {},
     "output_type": "display_data"
    },
    {
     "data": {
      "text/plain": [
       "<Figure size 720x576 with 0 Axes>"
      ]
     },
     "metadata": {},
     "output_type": "display_data"
    },
    {
     "data": {
      "text/plain": [
       "<Figure size 720x576 with 0 Axes>"
      ]
     },
     "metadata": {},
     "output_type": "display_data"
    },
    {
     "data": {
      "text/plain": [
       "<Figure size 720x576 with 0 Axes>"
      ]
     },
     "metadata": {},
     "output_type": "display_data"
    },
    {
     "data": {
      "text/plain": [
       "<Figure size 720x576 with 0 Axes>"
      ]
     },
     "metadata": {},
     "output_type": "display_data"
    },
    {
     "data": {
      "text/plain": [
       "<Figure size 720x576 with 0 Axes>"
      ]
     },
     "metadata": {},
     "output_type": "display_data"
    },
    {
     "data": {
      "text/plain": [
       "<Figure size 720x576 with 0 Axes>"
      ]
     },
     "metadata": {},
     "output_type": "display_data"
    },
    {
     "data": {
      "text/plain": [
       "<Figure size 720x576 with 0 Axes>"
      ]
     },
     "metadata": {},
     "output_type": "display_data"
    },
    {
     "data": {
      "text/plain": [
       "<Figure size 720x576 with 0 Axes>"
      ]
     },
     "metadata": {},
     "output_type": "display_data"
    },
    {
     "data": {
      "text/plain": [
       "<Figure size 720x576 with 0 Axes>"
      ]
     },
     "metadata": {},
     "output_type": "display_data"
    },
    {
     "data": {
      "text/plain": [
       "<Figure size 720x576 with 0 Axes>"
      ]
     },
     "metadata": {},
     "output_type": "display_data"
    },
    {
     "data": {
      "text/plain": [
       "<Figure size 720x576 with 0 Axes>"
      ]
     },
     "metadata": {},
     "output_type": "display_data"
    },
    {
     "data": {
      "text/plain": [
       "<Figure size 720x576 with 0 Axes>"
      ]
     },
     "metadata": {},
     "output_type": "display_data"
    },
    {
     "data": {
      "text/plain": [
       "<Figure size 720x576 with 0 Axes>"
      ]
     },
     "metadata": {},
     "output_type": "display_data"
    },
    {
     "data": {
      "text/plain": [
       "<Figure size 720x576 with 0 Axes>"
      ]
     },
     "metadata": {},
     "output_type": "display_data"
    },
    {
     "data": {
      "text/plain": [
       "<Figure size 720x576 with 0 Axes>"
      ]
     },
     "metadata": {},
     "output_type": "display_data"
    },
    {
     "data": {
      "text/plain": [
       "<Figure size 720x576 with 0 Axes>"
      ]
     },
     "metadata": {},
     "output_type": "display_data"
    },
    {
     "data": {
      "text/plain": [
       "<Figure size 720x576 with 0 Axes>"
      ]
     },
     "metadata": {},
     "output_type": "display_data"
    }
   ],
   "source": [
    "close_charts(qqq_symbols)\n",
    "close_charts(sp_symbols)\n",
    "close_charts(glob_symbols)"
   ]
  },
  {
   "cell_type": "markdown",
   "metadata": {},
   "source": [
    "### 2. Volatility - Histograms"
   ]
  },
  {
   "cell_type": "code",
   "execution_count": 11,
   "metadata": {},
   "outputs": [],
   "source": [
    "df = rel_returns(qqq_symbols, ten_yr)"
   ]
  },
  {
   "cell_type": "code",
   "execution_count": 12,
   "metadata": {},
   "outputs": [
    {
     "data": {
      "text/html": [
       "<div>\n",
       "<style scoped>\n",
       "    .dataframe tbody tr th:only-of-type {\n",
       "        vertical-align: middle;\n",
       "    }\n",
       "\n",
       "    .dataframe tbody tr th {\n",
       "        vertical-align: top;\n",
       "    }\n",
       "\n",
       "    .dataframe thead th {\n",
       "        text-align: right;\n",
       "    }\n",
       "</style>\n",
       "<table border=\"1\" class=\"dataframe\">\n",
       "  <thead>\n",
       "    <tr style=\"text-align: right;\">\n",
       "      <th></th>\n",
       "      <th>QQQ</th>\n",
       "      <th>SPLG</th>\n",
       "      <th>DIA</th>\n",
       "      <th>VEU</th>\n",
       "    </tr>\n",
       "    <tr>\n",
       "      <th>Date</th>\n",
       "      <th></th>\n",
       "      <th></th>\n",
       "      <th></th>\n",
       "      <th></th>\n",
       "    </tr>\n",
       "  </thead>\n",
       "  <tbody>\n",
       "    <tr>\n",
       "      <th>2011-05-10</th>\n",
       "      <td>1.000000</td>\n",
       "      <td>1.000000</td>\n",
       "      <td>1.000000</td>\n",
       "      <td>1.000000</td>\n",
       "    </tr>\n",
       "    <tr>\n",
       "      <th>2011-05-11</th>\n",
       "      <td>0.992735</td>\n",
       "      <td>0.991046</td>\n",
       "      <td>0.991055</td>\n",
       "      <td>0.981262</td>\n",
       "    </tr>\n",
       "    <tr>\n",
       "      <th>2011-05-12</th>\n",
       "      <td>0.998648</td>\n",
       "      <td>0.997644</td>\n",
       "      <td>0.996391</td>\n",
       "      <td>0.984418</td>\n",
       "    </tr>\n",
       "    <tr>\n",
       "      <th>2011-05-13</th>\n",
       "      <td>0.986822</td>\n",
       "      <td>0.997015</td>\n",
       "      <td>0.988309</td>\n",
       "      <td>0.969034</td>\n",
       "    </tr>\n",
       "    <tr>\n",
       "      <th>2011-05-16</th>\n",
       "      <td>0.969758</td>\n",
       "      <td>0.988690</td>\n",
       "      <td>0.984465</td>\n",
       "      <td>0.967061</td>\n",
       "    </tr>\n",
       "    <tr>\n",
       "      <th>...</th>\n",
       "      <td>...</td>\n",
       "      <td>...</td>\n",
       "      <td>...</td>\n",
       "      <td>...</td>\n",
       "    </tr>\n",
       "    <tr>\n",
       "      <th>2021-05-03</th>\n",
       "      <td>5.679845</td>\n",
       "      <td>3.088282</td>\n",
       "      <td>2.676422</td>\n",
       "      <td>1.237475</td>\n",
       "    </tr>\n",
       "    <tr>\n",
       "      <th>2021-05-04</th>\n",
       "      <td>5.577632</td>\n",
       "      <td>3.070060</td>\n",
       "      <td>2.679404</td>\n",
       "      <td>1.221499</td>\n",
       "    </tr>\n",
       "    <tr>\n",
       "      <th>2021-05-05</th>\n",
       "      <td>5.558878</td>\n",
       "      <td>3.071316</td>\n",
       "      <td>2.685602</td>\n",
       "      <td>1.234517</td>\n",
       "    </tr>\n",
       "    <tr>\n",
       "      <th>2021-05-06</th>\n",
       "      <td>5.600777</td>\n",
       "      <td>3.095822</td>\n",
       "      <td>2.710946</td>\n",
       "      <td>1.244576</td>\n",
       "    </tr>\n",
       "    <tr>\n",
       "      <th>2021-05-07</th>\n",
       "      <td>5.646224</td>\n",
       "      <td>3.117813</td>\n",
       "      <td>2.729541</td>\n",
       "      <td>1.258383</td>\n",
       "    </tr>\n",
       "  </tbody>\n",
       "</table>\n",
       "<p>2516 rows × 4 columns</p>\n",
       "</div>"
      ],
      "text/plain": [
       "                 QQQ      SPLG       DIA       VEU\n",
       "Date                                              \n",
       "2011-05-10  1.000000  1.000000  1.000000  1.000000\n",
       "2011-05-11  0.992735  0.991046  0.991055  0.981262\n",
       "2011-05-12  0.998648  0.997644  0.996391  0.984418\n",
       "2011-05-13  0.986822  0.997015  0.988309  0.969034\n",
       "2011-05-16  0.969758  0.988690  0.984465  0.967061\n",
       "...              ...       ...       ...       ...\n",
       "2021-05-03  5.679845  3.088282  2.676422  1.237475\n",
       "2021-05-04  5.577632  3.070060  2.679404  1.221499\n",
       "2021-05-05  5.558878  3.071316  2.685602  1.234517\n",
       "2021-05-06  5.600777  3.095822  2.710946  1.244576\n",
       "2021-05-07  5.646224  3.117813  2.729541  1.258383\n",
       "\n",
       "[2516 rows x 4 columns]"
      ]
     },
     "execution_count": 12,
     "metadata": {},
     "output_type": "execute_result"
    }
   ],
   "source": [
    "df"
   ]
  },
  {
   "cell_type": "code",
   "execution_count": 13,
   "metadata": {},
   "outputs": [
    {
     "data": {
      "text/plain": [
       "<Figure size 720x576 with 0 Axes>"
      ]
     },
     "metadata": {},
     "output_type": "display_data"
    }
   ],
   "source": [
    "# create histograms for returns, qqq_symbols list\n",
    "for x in range(len(dates_list)):\n",
    "    df = rel_returns(qqq_symbols, dates_list[x])\n",
    "    df.QQQ.hist(bins=50, figsize=(10,8), label='QQQ', alpha=0.5)\n",
    "    df.SPLG.hist(bins=50, label='SPLG', alpha=0.5)\n",
    "    df.DIA.hist(bins=50, label='DIA', alpha=0.5)\n",
    "    df.VEU.hist(bins=50, label='VEU', alpha=0.5)\n",
    "    plt.title(f'Volatility: {dates_str[x]}, {last_date}', fontsize=24)\n",
    "    plt.legend(fontsize=18)\n",
    "    plt.tight_layout()\n",
    "    plt.savefig(f\"../images/vol_hist/histogram_qqq_symbols_{dates_str[x]}.jpg\", dpi=75)\n",
    "    plt.clf()"
   ]
  },
  {
   "cell_type": "code",
   "execution_count": 14,
   "metadata": {},
   "outputs": [
    {
     "data": {
      "text/plain": [
       "<Figure size 720x576 with 0 Axes>"
      ]
     },
     "metadata": {},
     "output_type": "display_data"
    }
   ],
   "source": [
    "# create histograms kernel for clarity, qqq_symbols list\n",
    "for x in range(len(dates_list)):\n",
    "    df = rel_returns(qqq_symbols, dates_list[x])\n",
    "    df.QQQ.plot(kind='kde', label='QQQ', figsize=(10,8))\n",
    "    df.SPLG.plot(kind='kde', label='SPLG')\n",
    "    df.DIA.plot(kind='kde', label='DIA')\n",
    "    df.VEU.plot(kind='kde', label='VEU')\n",
    "    plt.title(f'Volatility Normalized: {dates_str[x]}, {last_date}', fontsize=24)\n",
    "    plt.legend(fontsize=18)\n",
    "    plt.tight_layout()\n",
    "    plt.grid()\n",
    "    plt.savefig(f\"../images/vol_hist/ked_hist_qqq_symbols_{dates_str[x]}.jpg\", dpi=75)\n",
    "    plt.clf()"
   ]
  },
  {
   "cell_type": "code",
   "execution_count": 15,
   "metadata": {},
   "outputs": [
    {
     "data": {
      "text/plain": [
       "<Figure size 720x576 with 0 Axes>"
      ]
     },
     "metadata": {},
     "output_type": "display_data"
    }
   ],
   "source": [
    "# repeat operations for sp_symbols, glob_symbols\n",
    "for x in range(len(dates_list)):\n",
    "    df = rel_returns(sp_symbols, dates_list[x])\n",
    "    df.QQQ.hist(bins=50, figsize=(10,8), label='QQQ', alpha=0.5)\n",
    "    df.SPLG.hist(bins=50, label='SPLG', alpha=0.5)\n",
    "    df.IVV.hist(bins=50, label='IVV', alpha=0.5)\n",
    "    df.VOO.hist(bins=50, label='VOO', alpha=0.5)\n",
    "    df.SPY.hist(bins=50, label='SPY', alpha=0.5)\n",
    "    df.DIA.hist(bins=50, label='DIA', alpha=0.5)\n",
    "    plt.title(f'Volatility: {dates_str[x]}, {last_date}', fontsize=24)\n",
    "    plt.legend(fontsize=18)\n",
    "    plt.tight_layout()\n",
    "    plt.savefig(f\"../images/vol_hist/histogram_sp_symbols_{dates_str[x]}.jpg\", dpi=75)\n",
    "    plt.clf()\n",
    "for x in range(len(dates_list)):\n",
    "    df = rel_returns(sp_symbols, dates_list[x])\n",
    "    df.QQQ.plot(kind='kde', label='QQQ', figsize=(10,8))\n",
    "    df.SPLG.plot(kind='kde', label='SPLG')\n",
    "    df.IVV.plot(kind='kde', label='IVV')\n",
    "    df.VOO.plot(kind='kde', label='VOO')\n",
    "    df.SPY.plot(kind='kde', label='SPY')\n",
    "    df.DIA.plot(kind='kde', label='DIA')\n",
    "    plt.title(f'Volatility Normalized: {dates_str[x]}, {last_date}', fontsize=24)\n",
    "    plt.legend(fontsize=18)\n",
    "    plt.tight_layout()\n",
    "    plt.grid()\n",
    "    plt.savefig(f\"../images/vol_hist/ked_hist_sp_symbols_{dates_str[x]}.jpg\", dpi=75)\n",
    "    plt.clf()"
   ]
  },
  {
   "cell_type": "code",
   "execution_count": 16,
   "metadata": {},
   "outputs": [
    {
     "data": {
      "text/plain": [
       "<Figure size 720x576 with 0 Axes>"
      ]
     },
     "metadata": {},
     "output_type": "display_data"
    }
   ],
   "source": [
    "for x in range(len(dates_list)):\n",
    "    df = rel_returns(glob_symbols, dates_list[x])\n",
    "    df.QQQ.hist(bins=50, figsize=(10,8), label='QQQ', alpha=0.5)\n",
    "    df.SPLG.hist(bins=50, label='SPLG', alpha=0.5)\n",
    "    df.ACWI.hist(bins=50, label='ACWI', alpha=0.5)\n",
    "    df.VEU.hist(bins=50, label='VEU', alpha=0.5)\n",
    "    df.VSS.hist(bins=50, label='VSS', alpha=0.5)\n",
    "    plt.title(f'Volatility: {dates_str[x]}, {last_date}', fontsize=24)\n",
    "    plt.legend(fontsize=18)\n",
    "    plt.tight_layout()\n",
    "    plt.savefig(f\"../images/vol_hist/histogram_glob_symbols_{dates_str[x]}.jpg\", dpi=75)\n",
    "    plt.clf()\n",
    "for x in range(len(dates_list)):\n",
    "    df = rel_returns(glob_symbols, dates_list[x])\n",
    "    df.QQQ.plot(kind='kde', label='QQQ', figsize=(10,8))\n",
    "    df.SPLG.plot(kind='kde', label='SPLG')\n",
    "    df.ACWI.plot(kind='kde', label='ACWI')\n",
    "    df.VEU.plot(kind='kde', label='VEU')\n",
    "    df.VSS.plot(kind='kde', label='VSS')\n",
    "    plt.title(f'Volatility Normalized: {dates_str[x]}, {last_date}', fontsize=24)\n",
    "    plt.legend(fontsize=18)\n",
    "    plt.tight_layout()\n",
    "    plt.grid()\n",
    "    plt.savefig(f\"../images/vol_hist/ked_hist_glob_symbols_{dates_str[x]}.jpg\", dpi=75)\n",
    "    plt.clf()"
   ]
  },
  {
   "cell_type": "markdown",
   "metadata": {},
   "source": [
    "### Correlation"
   ]
  },
  {
   "cell_type": "code",
   "execution_count": 17,
   "metadata": {},
   "outputs": [],
   "source": [
    "from pandas.plotting import scatter_matrix"
   ]
  },
  {
   "cell_type": "code",
   "execution_count": 18,
   "metadata": {},
   "outputs": [],
   "source": [
    "def scatter_plots(portfolio_list):\n",
    "    for portfolio in portfolio_list:\n",
    "        for x in range(len(dates_list)):\n",
    "            df = close_compare(portfolio, dates_list[x])\n",
    "            scatter_matrix(df, figsize=(10,10), color='dodgerblue', hist_kwds={'color':'lightblue', 'alpha':0.50, 'bins':50})\n",
    "            plt.tight_layout()\n",
    "            plt.savefig(f\"../images/correlation/scatter_{portfolio[-1]}_{dates_str[x]}.jpg\", dpi=150)\n",
    "            plt.clf()"
   ]
  },
  {
   "cell_type": "code",
   "execution_count": 19,
   "metadata": {},
   "outputs": [
    {
     "data": {
      "text/plain": [
       "<Figure size 720x720 with 0 Axes>"
      ]
     },
     "metadata": {},
     "output_type": "display_data"
    },
    {
     "data": {
      "text/plain": [
       "<Figure size 720x720 with 0 Axes>"
      ]
     },
     "metadata": {},
     "output_type": "display_data"
    },
    {
     "data": {
      "text/plain": [
       "<Figure size 720x720 with 0 Axes>"
      ]
     },
     "metadata": {},
     "output_type": "display_data"
    },
    {
     "data": {
      "text/plain": [
       "<Figure size 720x720 with 0 Axes>"
      ]
     },
     "metadata": {},
     "output_type": "display_data"
    },
    {
     "data": {
      "text/plain": [
       "<Figure size 720x720 with 0 Axes>"
      ]
     },
     "metadata": {},
     "output_type": "display_data"
    },
    {
     "data": {
      "text/plain": [
       "<Figure size 720x720 with 0 Axes>"
      ]
     },
     "metadata": {},
     "output_type": "display_data"
    },
    {
     "data": {
      "text/plain": [
       "<Figure size 720x720 with 0 Axes>"
      ]
     },
     "metadata": {},
     "output_type": "display_data"
    },
    {
     "data": {
      "text/plain": [
       "<Figure size 720x720 with 0 Axes>"
      ]
     },
     "metadata": {},
     "output_type": "display_data"
    },
    {
     "data": {
      "text/plain": [
       "<Figure size 720x720 with 0 Axes>"
      ]
     },
     "metadata": {},
     "output_type": "display_data"
    },
    {
     "data": {
      "text/plain": [
       "<Figure size 720x720 with 0 Axes>"
      ]
     },
     "metadata": {},
     "output_type": "display_data"
    },
    {
     "data": {
      "text/plain": [
       "<Figure size 720x720 with 0 Axes>"
      ]
     },
     "metadata": {},
     "output_type": "display_data"
    },
    {
     "data": {
      "text/plain": [
       "<Figure size 720x720 with 0 Axes>"
      ]
     },
     "metadata": {},
     "output_type": "display_data"
    },
    {
     "data": {
      "text/plain": [
       "<Figure size 720x720 with 0 Axes>"
      ]
     },
     "metadata": {},
     "output_type": "display_data"
    },
    {
     "data": {
      "text/plain": [
       "<Figure size 720x720 with 0 Axes>"
      ]
     },
     "metadata": {},
     "output_type": "display_data"
    },
    {
     "data": {
      "text/plain": [
       "<Figure size 720x720 with 0 Axes>"
      ]
     },
     "metadata": {},
     "output_type": "display_data"
    },
    {
     "data": {
      "text/plain": [
       "<Figure size 720x720 with 0 Axes>"
      ]
     },
     "metadata": {},
     "output_type": "display_data"
    },
    {
     "data": {
      "text/plain": [
       "<Figure size 720x720 with 0 Axes>"
      ]
     },
     "metadata": {},
     "output_type": "display_data"
    },
    {
     "data": {
      "text/plain": [
       "<Figure size 720x720 with 0 Axes>"
      ]
     },
     "metadata": {},
     "output_type": "display_data"
    }
   ],
   "source": [
    "scatter_plots(portfolios)"
   ]
  },
  {
   "cell_type": "markdown",
   "metadata": {},
   "source": [
    "### Monte Carlo Simulation\n",
    "Currently discontinued"
   ]
  },
  {
   "cell_type": "code",
   "execution_count": 20,
   "metadata": {},
   "outputs": [],
   "source": [
    "# create function that randomly selects a 60 day period 1000 times, plots the simulation and...\n",
    "# an easier to read quantile version\n",
    "#def monte_carlo(portfolio):\n",
    "    #for x in range(len(dates_list)):\n",
    "        #stocks = close_compare(portfolio, dates_list[x])\n",
    "        #prf_returns = (stocks.pct_change() +1)[1:]\n",
    "        #simulated = pd.DataFrame([((prf_returns.iloc[random.choices(range(len(prf_returns)), k=60)])\\\n",
    "                        #.mean(axis=1)).cumprod().values for x in range(1000)]).T\n",
    "        #simulated.plot(legend=False, linewidth=1, alpha=0.1, color='blue', figsize=(12,8))\n",
    "        #plt.tight_layout()\n",
    "        #plt.savefig(f\"../images/monte_carlo/simulated_{portfolio[-1]}_{dates_str[x]}.jpg\", dpi=150)\n",
    "        #plt.clf()\n",
    "        #simulated.quantile([0.05, 0.50, 0.95], axis=1).T.plot(figsize=(12,8))\n",
    "        #plt.legend(fontsize=18)\n",
    "        #plt.tight_layout()\n",
    "        #plt.savefig(f\"../images/monte_carlo/quantile_{portfolio[-1]}_{dates_str[x]}.jpg\", dpi=75)\n",
    "        #plt.clf()"
   ]
  },
  {
   "cell_type": "code",
   "execution_count": 21,
   "metadata": {},
   "outputs": [],
   "source": [
    "#monte_carlo(qqq_symbols)"
   ]
  },
  {
   "cell_type": "code",
   "execution_count": 22,
   "metadata": {},
   "outputs": [],
   "source": [
    "#monte_carlo(sp_symbols)"
   ]
  },
  {
   "cell_type": "code",
   "execution_count": 23,
   "metadata": {},
   "outputs": [],
   "source": [
    "#monte_carlo(glob_symbols)"
   ]
  },
  {
   "cell_type": "code",
   "execution_count": null,
   "metadata": {},
   "outputs": [],
   "source": []
  }
 ],
 "metadata": {
  "kernelspec": {
   "display_name": "Python 3",
   "language": "python",
   "name": "python3"
  },
  "language_info": {
   "codemirror_mode": {
    "name": "ipython",
    "version": 3
   },
   "file_extension": ".py",
   "mimetype": "text/x-python",
   "name": "python",
   "nbconvert_exporter": "python",
   "pygments_lexer": "ipython3",
   "version": "3.8.3"
  }
 },
 "nbformat": 4,
 "nbformat_minor": 4
}
