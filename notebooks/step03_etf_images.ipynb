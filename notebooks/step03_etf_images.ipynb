{
 "cells": [
  {
   "cell_type": "code",
   "execution_count": 1,
   "metadata": {},
   "outputs": [],
   "source": [
    "import pandas_datareader.data as web\n",
    "import random\n",
    "import numpy as np\n",
    "import pandas as pd\n",
    "import seaborn as sns\n",
    "import matplotlib.pyplot as plt\n",
    "import datetime as dt\n",
    "#plt.style.use('ggplot')\n",
    "%matplotlib inline"
   ]
  },
  {
   "cell_type": "code",
   "execution_count": 2,
   "metadata": {},
   "outputs": [],
   "source": [
    "etf_df = pd.read_csv(\"resources/etf_df.csv\")"
   ]
  },
  {
   "cell_type": "markdown",
   "metadata": {},
   "source": [
    "### Period Datasets\n",
    "1M, 3M, 6M, 1Y, 5Y, 10Y, and MAX"
   ]
  },
  {
   "cell_type": "code",
   "execution_count": 3,
   "metadata": {},
   "outputs": [],
   "source": [
    "# last date configured\n",
    "last_date = list(etf_df.Date)[-1]\n",
    "last_split = last_date.split('-')\n",
    "d_list = [int(i) for i in last_split]\n",
    "date = dt.date(d_list[0], d_list[1], d_list[2])"
   ]
  },
  {
   "cell_type": "code",
   "execution_count": 4,
   "metadata": {},
   "outputs": [],
   "source": [
    "# calculate the dates from the last data point for 1m, 3m, 6m, 1y, 5y, and 10y...\n",
    "# ...then convert to string format for filtering DataFrame\n",
    "one_mo = (date - dt.timedelta(days=30.4167)).strftime(\"%Y-%m-%d\")\n",
    "three_mo = (date - dt.timedelta(days=91.2501)).strftime(\"%Y-%m-%d\")\n",
    "six_mo = (date - dt.timedelta(days=182.5)).strftime(\"%Y-%m-%d\")\n",
    "one_yr = (date - dt.timedelta(days=365)).strftime(\"%Y-%m-%d\")\n",
    "five_yr = (date - dt.timedelta(days=1825)).strftime(\"%Y-%m-%d\")\n",
    "ten_yr = (date - dt.timedelta(days=3650)).strftime(\"%Y-%m-%d\")"
   ]
  },
  {
   "cell_type": "code",
   "execution_count": 5,
   "metadata": {},
   "outputs": [
    {
     "data": {
      "text/html": [
       "<div>\n",
       "<style scoped>\n",
       "    .dataframe tbody tr th:only-of-type {\n",
       "        vertical-align: middle;\n",
       "    }\n",
       "\n",
       "    .dataframe tbody tr th {\n",
       "        vertical-align: top;\n",
       "    }\n",
       "\n",
       "    .dataframe thead th {\n",
       "        text-align: right;\n",
       "    }\n",
       "</style>\n",
       "<table border=\"1\" class=\"dataframe\">\n",
       "  <thead>\n",
       "    <tr style=\"text-align: right;\">\n",
       "      <th></th>\n",
       "      <th>Date</th>\n",
       "      <th>Open</th>\n",
       "      <th>High</th>\n",
       "      <th>Low</th>\n",
       "      <th>Close</th>\n",
       "      <th>Adj Close</th>\n",
       "      <th>Volume</th>\n",
       "      <th>symbol</th>\n",
       "    </tr>\n",
       "  </thead>\n",
       "  <tbody>\n",
       "    <tr>\n",
       "      <th>3037</th>\n",
       "      <td>2011-04-04</td>\n",
       "      <td>57.619999</td>\n",
       "      <td>57.680000</td>\n",
       "      <td>57.020000</td>\n",
       "      <td>57.270000</td>\n",
       "      <td>51.771496</td>\n",
       "      <td>48659100</td>\n",
       "      <td>QQQ</td>\n",
       "    </tr>\n",
       "    <tr>\n",
       "      <th>3038</th>\n",
       "      <td>2011-04-05</td>\n",
       "      <td>57.160000</td>\n",
       "      <td>57.490002</td>\n",
       "      <td>57.000000</td>\n",
       "      <td>57.119999</td>\n",
       "      <td>51.635883</td>\n",
       "      <td>55349400</td>\n",
       "      <td>QQQ</td>\n",
       "    </tr>\n",
       "    <tr>\n",
       "      <th>3039</th>\n",
       "      <td>2011-04-06</td>\n",
       "      <td>57.560001</td>\n",
       "      <td>57.730000</td>\n",
       "      <td>56.930000</td>\n",
       "      <td>57.259998</td>\n",
       "      <td>51.762459</td>\n",
       "      <td>49532100</td>\n",
       "      <td>QQQ</td>\n",
       "    </tr>\n",
       "    <tr>\n",
       "      <th>3040</th>\n",
       "      <td>2011-04-07</td>\n",
       "      <td>57.240002</td>\n",
       "      <td>57.599998</td>\n",
       "      <td>56.810001</td>\n",
       "      <td>57.220001</td>\n",
       "      <td>51.726295</td>\n",
       "      <td>60697000</td>\n",
       "      <td>QQQ</td>\n",
       "    </tr>\n",
       "    <tr>\n",
       "      <th>3041</th>\n",
       "      <td>2011-04-08</td>\n",
       "      <td>57.480000</td>\n",
       "      <td>57.570000</td>\n",
       "      <td>56.650002</td>\n",
       "      <td>56.950001</td>\n",
       "      <td>51.482220</td>\n",
       "      <td>42782200</td>\n",
       "      <td>QQQ</td>\n",
       "    </tr>\n",
       "    <tr>\n",
       "      <th>...</th>\n",
       "      <td>...</td>\n",
       "      <td>...</td>\n",
       "      <td>...</td>\n",
       "      <td>...</td>\n",
       "      <td>...</td>\n",
       "      <td>...</td>\n",
       "      <td>...</td>\n",
       "      <td>...</td>\n",
       "    </tr>\n",
       "    <tr>\n",
       "      <th>5548</th>\n",
       "      <td>2021-03-26</td>\n",
       "      <td>311.109985</td>\n",
       "      <td>316.329987</td>\n",
       "      <td>309.670013</td>\n",
       "      <td>316.000000</td>\n",
       "      <td>316.000000</td>\n",
       "      <td>63454900</td>\n",
       "      <td>QQQ</td>\n",
       "    </tr>\n",
       "    <tr>\n",
       "      <th>5549</th>\n",
       "      <td>2021-03-29</td>\n",
       "      <td>315.450012</td>\n",
       "      <td>316.989990</td>\n",
       "      <td>312.470001</td>\n",
       "      <td>315.910004</td>\n",
       "      <td>315.910004</td>\n",
       "      <td>54608000</td>\n",
       "      <td>QQQ</td>\n",
       "    </tr>\n",
       "    <tr>\n",
       "      <th>5550</th>\n",
       "      <td>2021-03-30</td>\n",
       "      <td>313.890015</td>\n",
       "      <td>314.910004</td>\n",
       "      <td>311.540009</td>\n",
       "      <td>314.320007</td>\n",
       "      <td>314.320007</td>\n",
       "      <td>44635700</td>\n",
       "      <td>QQQ</td>\n",
       "    </tr>\n",
       "    <tr>\n",
       "      <th>5551</th>\n",
       "      <td>2021-03-31</td>\n",
       "      <td>316.160004</td>\n",
       "      <td>320.739990</td>\n",
       "      <td>315.809998</td>\n",
       "      <td>319.130005</td>\n",
       "      <td>319.130005</td>\n",
       "      <td>55032500</td>\n",
       "      <td>QQQ</td>\n",
       "    </tr>\n",
       "    <tr>\n",
       "      <th>5552</th>\n",
       "      <td>2021-04-01</td>\n",
       "      <td>323.070007</td>\n",
       "      <td>324.709991</td>\n",
       "      <td>322.809998</td>\n",
       "      <td>324.570007</td>\n",
       "      <td>324.570007</td>\n",
       "      <td>55685600</td>\n",
       "      <td>QQQ</td>\n",
       "    </tr>\n",
       "  </tbody>\n",
       "</table>\n",
       "<p>2516 rows × 8 columns</p>\n",
       "</div>"
      ],
      "text/plain": [
       "            Date        Open        High         Low       Close   Adj Close  \\\n",
       "3037  2011-04-04   57.619999   57.680000   57.020000   57.270000   51.771496   \n",
       "3038  2011-04-05   57.160000   57.490002   57.000000   57.119999   51.635883   \n",
       "3039  2011-04-06   57.560001   57.730000   56.930000   57.259998   51.762459   \n",
       "3040  2011-04-07   57.240002   57.599998   56.810001   57.220001   51.726295   \n",
       "3041  2011-04-08   57.480000   57.570000   56.650002   56.950001   51.482220   \n",
       "...          ...         ...         ...         ...         ...         ...   \n",
       "5548  2021-03-26  311.109985  316.329987  309.670013  316.000000  316.000000   \n",
       "5549  2021-03-29  315.450012  316.989990  312.470001  315.910004  315.910004   \n",
       "5550  2021-03-30  313.890015  314.910004  311.540009  314.320007  314.320007   \n",
       "5551  2021-03-31  316.160004  320.739990  315.809998  319.130005  319.130005   \n",
       "5552  2021-04-01  323.070007  324.709991  322.809998  324.570007  324.570007   \n",
       "\n",
       "        Volume symbol  \n",
       "3037  48659100    QQQ  \n",
       "3038  55349400    QQQ  \n",
       "3039  49532100    QQQ  \n",
       "3040  60697000    QQQ  \n",
       "3041  42782200    QQQ  \n",
       "...        ...    ...  \n",
       "5548  63454900    QQQ  \n",
       "5549  54608000    QQQ  \n",
       "5550  44635700    QQQ  \n",
       "5551  55032500    QQQ  \n",
       "5552  55685600    QQQ  \n",
       "\n",
       "[2516 rows x 8 columns]"
      ]
     },
     "execution_count": 5,
     "metadata": {},
     "output_type": "execute_result"
    }
   ],
   "source": [
    "etf_df.loc[(etf_df.symbol == 'QQQ')&(etf_df.Date >= ten_yr)&(etf_df.Date <= last_date)]"
   ]
  },
  {
   "cell_type": "markdown",
   "metadata": {},
   "source": [
    "### 1. Relative Returns"
   ]
  },
  {
   "cell_type": "code",
   "execution_count": 6,
   "metadata": {},
   "outputs": [],
   "source": [
    "# three lists created to cover possible portfolio combinations to display\n",
    "qqq_symbols = ['QQQ', 'SPLG', 'DIA', 'VEU']\n",
    "sp_symbols = ['QQQ', 'SPLG', 'IVV', 'VOO', 'SPY', 'DIA']\n",
    "glob_symbols = ['QQQ', 'SPLG', 'ACWI', 'VEU', 'VSS']\n",
    "\n",
    "#list of lists...\n",
    "portfolios = [qqq_symbols, sp_symbols, glob_symbols]\n",
    "\n",
    "# list of years we need a portfolio display for\n",
    "dates_list = [one_mo, three_mo, six_mo, one_yr, five_yr, ten_yr]\n",
    "dates_str = ['1M', '3M', '6M', '1Y', '5Y', '10Y']"
   ]
  },
  {
   "cell_type": "code",
   "execution_count": 7,
   "metadata": {},
   "outputs": [],
   "source": [
    "# create function that exports a DataFrame for the list of symbols' relative returns\n",
    "def rel_returns(symbols, start):\n",
    "    df = pd.DataFrame(columns = symbols)\n",
    "    for symbol in symbols:\n",
    "        df_filter = etf_df.loc[(etf_df.symbol == symbol)&(etf_df.Date >= start)&(etf_df.Date <= last_date)]\n",
    "        df[symbol] = list(df_filter.Close)\n",
    "    df['Date'] = list(df_filter.Date)\n",
    "    df.set_index(\"Date\", inplace = True)\n",
    "    returns = (df/df.iloc[0])\n",
    "    return returns\n",
    "\n",
    "def close_compare(symbols, start):\n",
    "    df = pd.DataFrame(columns = symbols)\n",
    "    for symbol in symbols:\n",
    "        df_filter = etf_df.loc[(etf_df.symbol == symbol)&(etf_df.Date >= start)&(etf_df.Date <= last_date)]\n",
    "        df[symbol] = list(df_filter.Close)\n",
    "    df['Date'] = list(df_filter.Date)\n",
    "    df.set_index(\"Date\", inplace = True)\n",
    "    return df"
   ]
  },
  {
   "cell_type": "code",
   "execution_count": 8,
   "metadata": {},
   "outputs": [],
   "source": [
    "# create function that exports two charts for every period specified in dates_list...\n",
    "# ...one for Close price and one for relative returns\n",
    "def returns_charts(symbols):\n",
    "    for x in range(len(dates_list)):\n",
    "        new_df = rel_returns(symbols, dates_list[x])\n",
    "        new_df.plot(figsize=(10,8))\n",
    "        plt.title(f'Relative Returns: {dates_str[x]}, {last_date}', fontsize=24)\n",
    "        plt.xlabel('Date', fontsize=22)\n",
    "        plt.legend(fontsize=18)\n",
    "        plt.grid()\n",
    "        plt.tight_layout()\n",
    "        plt.savefig(f\"../images/returns/returns_{symbols[-1]}_{dates_str[x]}.jpg\", dpi=75)\n",
    "        plt.clf()\n",
    "        \n",
    "def close_charts(symbols):\n",
    "    for x in range(len(dates_list)):\n",
    "        new_df = close_compare(symbols, dates_list[x])\n",
    "        new_df.plot(figsize=(10,8))\n",
    "        plt.title(f'Close: {dates_str[x]}, {last_date}', fontsize=24)\n",
    "        plt.xlabel('Date', fontsize=22)\n",
    "        plt.legend(fontsize=18)\n",
    "        plt.grid()\n",
    "        plt.tight_layout()\n",
    "        plt.savefig(f\"../images/close/close_{symbols[-1]}_{dates_str[x]}.jpg\", dpi=75)\n",
    "        plt.clf()"
   ]
  },
  {
   "cell_type": "code",
   "execution_count": 9,
   "metadata": {},
   "outputs": [
    {
     "data": {
      "text/plain": [
       "<Figure size 720x576 with 0 Axes>"
      ]
     },
     "metadata": {},
     "output_type": "display_data"
    },
    {
     "data": {
      "text/plain": [
       "<Figure size 720x576 with 0 Axes>"
      ]
     },
     "metadata": {},
     "output_type": "display_data"
    },
    {
     "data": {
      "text/plain": [
       "<Figure size 720x576 with 0 Axes>"
      ]
     },
     "metadata": {},
     "output_type": "display_data"
    },
    {
     "data": {
      "text/plain": [
       "<Figure size 720x576 with 0 Axes>"
      ]
     },
     "metadata": {},
     "output_type": "display_data"
    },
    {
     "data": {
      "text/plain": [
       "<Figure size 720x576 with 0 Axes>"
      ]
     },
     "metadata": {},
     "output_type": "display_data"
    },
    {
     "data": {
      "text/plain": [
       "<Figure size 720x576 with 0 Axes>"
      ]
     },
     "metadata": {},
     "output_type": "display_data"
    },
    {
     "data": {
      "text/plain": [
       "<Figure size 720x576 with 0 Axes>"
      ]
     },
     "metadata": {},
     "output_type": "display_data"
    },
    {
     "data": {
      "text/plain": [
       "<Figure size 720x576 with 0 Axes>"
      ]
     },
     "metadata": {},
     "output_type": "display_data"
    },
    {
     "data": {
      "text/plain": [
       "<Figure size 720x576 with 0 Axes>"
      ]
     },
     "metadata": {},
     "output_type": "display_data"
    },
    {
     "data": {
      "text/plain": [
       "<Figure size 720x576 with 0 Axes>"
      ]
     },
     "metadata": {},
     "output_type": "display_data"
    },
    {
     "data": {
      "text/plain": [
       "<Figure size 720x576 with 0 Axes>"
      ]
     },
     "metadata": {},
     "output_type": "display_data"
    },
    {
     "data": {
      "text/plain": [
       "<Figure size 720x576 with 0 Axes>"
      ]
     },
     "metadata": {},
     "output_type": "display_data"
    },
    {
     "data": {
      "text/plain": [
       "<Figure size 720x576 with 0 Axes>"
      ]
     },
     "metadata": {},
     "output_type": "display_data"
    },
    {
     "data": {
      "text/plain": [
       "<Figure size 720x576 with 0 Axes>"
      ]
     },
     "metadata": {},
     "output_type": "display_data"
    },
    {
     "data": {
      "text/plain": [
       "<Figure size 720x576 with 0 Axes>"
      ]
     },
     "metadata": {},
     "output_type": "display_data"
    },
    {
     "data": {
      "text/plain": [
       "<Figure size 720x576 with 0 Axes>"
      ]
     },
     "metadata": {},
     "output_type": "display_data"
    },
    {
     "data": {
      "text/plain": [
       "<Figure size 720x576 with 0 Axes>"
      ]
     },
     "metadata": {},
     "output_type": "display_data"
    },
    {
     "data": {
      "text/plain": [
       "<Figure size 720x576 with 0 Axes>"
      ]
     },
     "metadata": {},
     "output_type": "display_data"
    }
   ],
   "source": [
    "returns_charts(qqq_symbols)\n",
    "returns_charts(sp_symbols)\n",
    "returns_charts(glob_symbols)"
   ]
  },
  {
   "cell_type": "code",
   "execution_count": 10,
   "metadata": {},
   "outputs": [
    {
     "data": {
      "text/plain": [
       "<Figure size 720x576 with 0 Axes>"
      ]
     },
     "metadata": {},
     "output_type": "display_data"
    },
    {
     "data": {
      "text/plain": [
       "<Figure size 720x576 with 0 Axes>"
      ]
     },
     "metadata": {},
     "output_type": "display_data"
    },
    {
     "data": {
      "text/plain": [
       "<Figure size 720x576 with 0 Axes>"
      ]
     },
     "metadata": {},
     "output_type": "display_data"
    },
    {
     "data": {
      "text/plain": [
       "<Figure size 720x576 with 0 Axes>"
      ]
     },
     "metadata": {},
     "output_type": "display_data"
    },
    {
     "data": {
      "text/plain": [
       "<Figure size 720x576 with 0 Axes>"
      ]
     },
     "metadata": {},
     "output_type": "display_data"
    },
    {
     "data": {
      "text/plain": [
       "<Figure size 720x576 with 0 Axes>"
      ]
     },
     "metadata": {},
     "output_type": "display_data"
    },
    {
     "data": {
      "text/plain": [
       "<Figure size 720x576 with 0 Axes>"
      ]
     },
     "metadata": {},
     "output_type": "display_data"
    },
    {
     "data": {
      "text/plain": [
       "<Figure size 720x576 with 0 Axes>"
      ]
     },
     "metadata": {},
     "output_type": "display_data"
    },
    {
     "data": {
      "text/plain": [
       "<Figure size 720x576 with 0 Axes>"
      ]
     },
     "metadata": {},
     "output_type": "display_data"
    },
    {
     "data": {
      "text/plain": [
       "<Figure size 720x576 with 0 Axes>"
      ]
     },
     "metadata": {},
     "output_type": "display_data"
    },
    {
     "data": {
      "text/plain": [
       "<Figure size 720x576 with 0 Axes>"
      ]
     },
     "metadata": {},
     "output_type": "display_data"
    },
    {
     "data": {
      "text/plain": [
       "<Figure size 720x576 with 0 Axes>"
      ]
     },
     "metadata": {},
     "output_type": "display_data"
    },
    {
     "data": {
      "text/plain": [
       "<Figure size 720x576 with 0 Axes>"
      ]
     },
     "metadata": {},
     "output_type": "display_data"
    },
    {
     "data": {
      "text/plain": [
       "<Figure size 720x576 with 0 Axes>"
      ]
     },
     "metadata": {},
     "output_type": "display_data"
    },
    {
     "data": {
      "text/plain": [
       "<Figure size 720x576 with 0 Axes>"
      ]
     },
     "metadata": {},
     "output_type": "display_data"
    },
    {
     "data": {
      "text/plain": [
       "<Figure size 720x576 with 0 Axes>"
      ]
     },
     "metadata": {},
     "output_type": "display_data"
    },
    {
     "data": {
      "text/plain": [
       "<Figure size 720x576 with 0 Axes>"
      ]
     },
     "metadata": {},
     "output_type": "display_data"
    },
    {
     "data": {
      "text/plain": [
       "<Figure size 720x576 with 0 Axes>"
      ]
     },
     "metadata": {},
     "output_type": "display_data"
    }
   ],
   "source": [
    "close_charts(qqq_symbols)\n",
    "close_charts(sp_symbols)\n",
    "close_charts(glob_symbols)"
   ]
  },
  {
   "cell_type": "markdown",
   "metadata": {},
   "source": [
    "### 2. Volatility - Histograms"
   ]
  },
  {
   "cell_type": "code",
   "execution_count": 11,
   "metadata": {},
   "outputs": [],
   "source": [
    "df = rel_returns(qqq_symbols, ten_yr)"
   ]
  },
  {
   "cell_type": "code",
   "execution_count": 12,
   "metadata": {},
   "outputs": [
    {
     "data": {
      "text/html": [
       "<div>\n",
       "<style scoped>\n",
       "    .dataframe tbody tr th:only-of-type {\n",
       "        vertical-align: middle;\n",
       "    }\n",
       "\n",
       "    .dataframe tbody tr th {\n",
       "        vertical-align: top;\n",
       "    }\n",
       "\n",
       "    .dataframe thead th {\n",
       "        text-align: right;\n",
       "    }\n",
       "</style>\n",
       "<table border=\"1\" class=\"dataframe\">\n",
       "  <thead>\n",
       "    <tr style=\"text-align: right;\">\n",
       "      <th></th>\n",
       "      <th>QQQ</th>\n",
       "      <th>SPLG</th>\n",
       "      <th>DIA</th>\n",
       "      <th>VEU</th>\n",
       "    </tr>\n",
       "    <tr>\n",
       "      <th>Date</th>\n",
       "      <th></th>\n",
       "      <th></th>\n",
       "      <th></th>\n",
       "      <th></th>\n",
       "    </tr>\n",
       "  </thead>\n",
       "  <tbody>\n",
       "    <tr>\n",
       "      <th>2011-04-04</th>\n",
       "      <td>1.000000</td>\n",
       "      <td>1.000000</td>\n",
       "      <td>1.000000</td>\n",
       "      <td>1.000000</td>\n",
       "    </tr>\n",
       "    <tr>\n",
       "      <th>2011-04-05</th>\n",
       "      <td>0.997381</td>\n",
       "      <td>1.000959</td>\n",
       "      <td>0.999111</td>\n",
       "      <td>0.997403</td>\n",
       "    </tr>\n",
       "    <tr>\n",
       "      <th>2011-04-06</th>\n",
       "      <td>0.999825</td>\n",
       "      <td>1.001438</td>\n",
       "      <td>1.003313</td>\n",
       "      <td>1.004594</td>\n",
       "    </tr>\n",
       "    <tr>\n",
       "      <th>2011-04-07</th>\n",
       "      <td>0.999127</td>\n",
       "      <td>1.000320</td>\n",
       "      <td>1.001212</td>\n",
       "      <td>0.999800</td>\n",
       "    </tr>\n",
       "    <tr>\n",
       "      <th>2011-04-08</th>\n",
       "      <td>0.994412</td>\n",
       "      <td>0.994887</td>\n",
       "      <td>0.999111</td>\n",
       "      <td>1.006792</td>\n",
       "    </tr>\n",
       "    <tr>\n",
       "      <th>...</th>\n",
       "      <td>...</td>\n",
       "      <td>...</td>\n",
       "      <td>...</td>\n",
       "      <td>...</td>\n",
       "    </tr>\n",
       "    <tr>\n",
       "      <th>2021-03-26</th>\n",
       "      <td>5.517723</td>\n",
       "      <td>2.974277</td>\n",
       "      <td>2.671380</td>\n",
       "      <td>1.218937</td>\n",
       "    </tr>\n",
       "    <tr>\n",
       "      <th>2021-03-29</th>\n",
       "      <td>5.516152</td>\n",
       "      <td>2.972360</td>\n",
       "      <td>2.679864</td>\n",
       "      <td>1.213344</td>\n",
       "    </tr>\n",
       "    <tr>\n",
       "      <th>2021-03-30</th>\n",
       "      <td>5.488388</td>\n",
       "      <td>2.965330</td>\n",
       "      <td>2.673077</td>\n",
       "      <td>1.212745</td>\n",
       "    </tr>\n",
       "    <tr>\n",
       "      <th>2021-03-31</th>\n",
       "      <td>5.572377</td>\n",
       "      <td>2.978751</td>\n",
       "      <td>2.667906</td>\n",
       "      <td>1.212145</td>\n",
       "    </tr>\n",
       "    <tr>\n",
       "      <th>2021-04-01</th>\n",
       "      <td>5.667365</td>\n",
       "      <td>3.008787</td>\n",
       "      <td>2.678167</td>\n",
       "      <td>1.227527</td>\n",
       "    </tr>\n",
       "  </tbody>\n",
       "</table>\n",
       "<p>2516 rows × 4 columns</p>\n",
       "</div>"
      ],
      "text/plain": [
       "                 QQQ      SPLG       DIA       VEU\n",
       "Date                                              \n",
       "2011-04-04  1.000000  1.000000  1.000000  1.000000\n",
       "2011-04-05  0.997381  1.000959  0.999111  0.997403\n",
       "2011-04-06  0.999825  1.001438  1.003313  1.004594\n",
       "2011-04-07  0.999127  1.000320  1.001212  0.999800\n",
       "2011-04-08  0.994412  0.994887  0.999111  1.006792\n",
       "...              ...       ...       ...       ...\n",
       "2021-03-26  5.517723  2.974277  2.671380  1.218937\n",
       "2021-03-29  5.516152  2.972360  2.679864  1.213344\n",
       "2021-03-30  5.488388  2.965330  2.673077  1.212745\n",
       "2021-03-31  5.572377  2.978751  2.667906  1.212145\n",
       "2021-04-01  5.667365  3.008787  2.678167  1.227527\n",
       "\n",
       "[2516 rows x 4 columns]"
      ]
     },
     "execution_count": 12,
     "metadata": {},
     "output_type": "execute_result"
    }
   ],
   "source": [
    "df"
   ]
  },
  {
   "cell_type": "code",
   "execution_count": 13,
   "metadata": {},
   "outputs": [
    {
     "data": {
      "text/plain": [
       "<Figure size 720x576 with 0 Axes>"
      ]
     },
     "metadata": {},
     "output_type": "display_data"
    }
   ],
   "source": [
    "# create histograms for returns, qqq_symbols list\n",
    "for x in range(len(dates_list)):\n",
    "    df = rel_returns(qqq_symbols, dates_list[x])\n",
    "    df.QQQ.hist(bins=50, figsize=(10,8), label='QQQ', alpha=0.5)\n",
    "    df.SPLG.hist(bins=50, label='SPLG', alpha=0.5)\n",
    "    df.DIA.hist(bins=50, label='DIA', alpha=0.5)\n",
    "    df.VEU.hist(bins=50, label='VEU', alpha=0.5)\n",
    "    plt.title(f'Volatility: {dates_str[x]}, {last_date}', fontsize=24)\n",
    "    plt.legend(fontsize=18)\n",
    "    plt.tight_layout()\n",
    "    plt.savefig(f\"../images/vol_hist/histogram_qqq_symbols_{dates_str[x]}.jpg\", dpi=75)\n",
    "    plt.clf()"
   ]
  },
  {
   "cell_type": "code",
   "execution_count": 14,
   "metadata": {},
   "outputs": [
    {
     "data": {
      "text/plain": [
       "<Figure size 720x576 with 0 Axes>"
      ]
     },
     "metadata": {},
     "output_type": "display_data"
    }
   ],
   "source": [
    "# create histograms kernel for clarity, qqq_symbols list\n",
    "for x in range(len(dates_list)):\n",
    "    df = rel_returns(qqq_symbols, dates_list[x])\n",
    "    df.QQQ.plot(kind='kde', label='QQQ', figsize=(10,8))\n",
    "    df.SPLG.plot(kind='kde', label='SPLG')\n",
    "    df.DIA.plot(kind='kde', label='DIA')\n",
    "    df.VEU.plot(kind='kde', label='VEU')\n",
    "    plt.title(f'Volatility Normalized: {dates_str[x]}, {last_date}', fontsize=24)\n",
    "    plt.legend(fontsize=18)\n",
    "    plt.tight_layout()\n",
    "    plt.grid()\n",
    "    plt.savefig(f\"../images/vol_hist/ked_hist_qqq_symbols_{dates_str[x]}.jpg\", dpi=75)\n",
    "    plt.clf()"
   ]
  },
  {
   "cell_type": "code",
   "execution_count": 15,
   "metadata": {},
   "outputs": [
    {
     "data": {
      "text/plain": [
       "<Figure size 720x576 with 0 Axes>"
      ]
     },
     "metadata": {},
     "output_type": "display_data"
    }
   ],
   "source": [
    "# repeat operations for sp_symbols, glob_symbols\n",
    "for x in range(len(dates_list)):\n",
    "    df = rel_returns(sp_symbols, dates_list[x])\n",
    "    df.QQQ.hist(bins=50, figsize=(10,8), label='QQQ', alpha=0.5)\n",
    "    df.SPLG.hist(bins=50, label='SPLG', alpha=0.5)\n",
    "    df.IVV.hist(bins=50, label='IVV', alpha=0.5)\n",
    "    df.VOO.hist(bins=50, label='VOO', alpha=0.5)\n",
    "    df.SPY.hist(bins=50, label='SPY', alpha=0.5)\n",
    "    df.DIA.hist(bins=50, label='DIA', alpha=0.5)\n",
    "    plt.title(f'Volatility: {dates_str[x]}, {last_date}', fontsize=24)\n",
    "    plt.legend(fontsize=18)\n",
    "    plt.tight_layout()\n",
    "    plt.savefig(f\"../images/vol_hist/histogram_sp_symbols_{dates_str[x]}.jpg\", dpi=75)\n",
    "    plt.clf()\n",
    "for x in range(len(dates_list)):\n",
    "    df = rel_returns(sp_symbols, dates_list[x])\n",
    "    df.QQQ.plot(kind='kde', label='QQQ', figsize=(10,8))\n",
    "    df.SPLG.plot(kind='kde', label='SPLG')\n",
    "    df.IVV.plot(kind='kde', label='IVV')\n",
    "    df.VOO.plot(kind='kde', label='VOO')\n",
    "    df.SPY.plot(kind='kde', label='SPY')\n",
    "    df.DIA.plot(kind='kde', label='DIA')\n",
    "    plt.title(f'Volatility Normalized: {dates_str[x]}, {last_date}', fontsize=24)\n",
    "    plt.legend(fontsize=18)\n",
    "    plt.tight_layout()\n",
    "    plt.grid()\n",
    "    plt.savefig(f\"../images/vol_hist/ked_hist_sp_symbols_{dates_str[x]}.jpg\", dpi=75)\n",
    "    plt.clf()"
   ]
  },
  {
   "cell_type": "code",
   "execution_count": 16,
   "metadata": {},
   "outputs": [
    {
     "data": {
      "text/plain": [
       "<Figure size 720x576 with 0 Axes>"
      ]
     },
     "metadata": {},
     "output_type": "display_data"
    }
   ],
   "source": [
    "for x in range(len(dates_list)):\n",
    "    df = rel_returns(glob_symbols, dates_list[x])\n",
    "    df.QQQ.hist(bins=50, figsize=(10,8), label='QQQ', alpha=0.5)\n",
    "    df.SPLG.hist(bins=50, label='SPLG', alpha=0.5)\n",
    "    df.ACWI.hist(bins=50, label='ACWI', alpha=0.5)\n",
    "    df.VEU.hist(bins=50, label='VEU', alpha=0.5)\n",
    "    df.VSS.hist(bins=50, label='VSS', alpha=0.5)\n",
    "    plt.title(f'Volatility: {dates_str[x]}, {last_date}', fontsize=24)\n",
    "    plt.legend(fontsize=18)\n",
    "    plt.tight_layout()\n",
    "    plt.savefig(f\"../images/vol_hist/histogram_glob_symbols_{dates_str[x]}.jpg\", dpi=75)\n",
    "    plt.clf()\n",
    "for x in range(len(dates_list)):\n",
    "    df = rel_returns(glob_symbols, dates_list[x])\n",
    "    df.QQQ.plot(kind='kde', label='QQQ', figsize=(10,8))\n",
    "    df.SPLG.plot(kind='kde', label='SPLG')\n",
    "    df.ACWI.plot(kind='kde', label='ACWI')\n",
    "    df.VEU.plot(kind='kde', label='VEU')\n",
    "    df.VSS.plot(kind='kde', label='VSS')\n",
    "    plt.title(f'Volatility Normalized: {dates_str[x]}, {last_date}', fontsize=24)\n",
    "    plt.legend(fontsize=18)\n",
    "    plt.tight_layout()\n",
    "    plt.grid()\n",
    "    plt.savefig(f\"../images/vol_hist/ked_hist_glob_symbols_{dates_str[x]}.jpg\", dpi=75)\n",
    "    plt.clf()"
   ]
  },
  {
   "cell_type": "markdown",
   "metadata": {},
   "source": [
    "### Correlation"
   ]
  },
  {
   "cell_type": "code",
   "execution_count": 17,
   "metadata": {},
   "outputs": [],
   "source": [
    "from pandas.plotting import scatter_matrix"
   ]
  },
  {
   "cell_type": "code",
   "execution_count": 18,
   "metadata": {},
   "outputs": [],
   "source": [
    "def scatter_plots(portfolio_list):\n",
    "    for portfolio in portfolio_list:\n",
    "        for x in range(len(dates_list)):\n",
    "            df = close_compare(portfolio, dates_list[x])\n",
    "            scatter_matrix(df, figsize=(10,10), color='dodgerblue', hist_kwds={'color':'lightblue', 'alpha':0.50, 'bins':50})\n",
    "            plt.tight_layout()\n",
    "            plt.savefig(f\"../images/correlation/scatter_{portfolio[-1]}_{dates_str[x]}.jpg\", dpi=150)\n",
    "            plt.clf()"
   ]
  },
  {
   "cell_type": "code",
   "execution_count": 19,
   "metadata": {},
   "outputs": [
    {
     "data": {
      "text/plain": [
       "<Figure size 720x720 with 0 Axes>"
      ]
     },
     "metadata": {},
     "output_type": "display_data"
    },
    {
     "data": {
      "text/plain": [
       "<Figure size 720x720 with 0 Axes>"
      ]
     },
     "metadata": {},
     "output_type": "display_data"
    },
    {
     "data": {
      "text/plain": [
       "<Figure size 720x720 with 0 Axes>"
      ]
     },
     "metadata": {},
     "output_type": "display_data"
    },
    {
     "data": {
      "text/plain": [
       "<Figure size 720x720 with 0 Axes>"
      ]
     },
     "metadata": {},
     "output_type": "display_data"
    },
    {
     "data": {
      "text/plain": [
       "<Figure size 720x720 with 0 Axes>"
      ]
     },
     "metadata": {},
     "output_type": "display_data"
    },
    {
     "data": {
      "text/plain": [
       "<Figure size 720x720 with 0 Axes>"
      ]
     },
     "metadata": {},
     "output_type": "display_data"
    },
    {
     "data": {
      "text/plain": [
       "<Figure size 720x720 with 0 Axes>"
      ]
     },
     "metadata": {},
     "output_type": "display_data"
    },
    {
     "data": {
      "text/plain": [
       "<Figure size 720x720 with 0 Axes>"
      ]
     },
     "metadata": {},
     "output_type": "display_data"
    },
    {
     "data": {
      "text/plain": [
       "<Figure size 720x720 with 0 Axes>"
      ]
     },
     "metadata": {},
     "output_type": "display_data"
    },
    {
     "data": {
      "text/plain": [
       "<Figure size 720x720 with 0 Axes>"
      ]
     },
     "metadata": {},
     "output_type": "display_data"
    },
    {
     "data": {
      "text/plain": [
       "<Figure size 720x720 with 0 Axes>"
      ]
     },
     "metadata": {},
     "output_type": "display_data"
    },
    {
     "data": {
      "text/plain": [
       "<Figure size 720x720 with 0 Axes>"
      ]
     },
     "metadata": {},
     "output_type": "display_data"
    },
    {
     "data": {
      "text/plain": [
       "<Figure size 720x720 with 0 Axes>"
      ]
     },
     "metadata": {},
     "output_type": "display_data"
    },
    {
     "data": {
      "text/plain": [
       "<Figure size 720x720 with 0 Axes>"
      ]
     },
     "metadata": {},
     "output_type": "display_data"
    },
    {
     "data": {
      "text/plain": [
       "<Figure size 720x720 with 0 Axes>"
      ]
     },
     "metadata": {},
     "output_type": "display_data"
    },
    {
     "data": {
      "text/plain": [
       "<Figure size 720x720 with 0 Axes>"
      ]
     },
     "metadata": {},
     "output_type": "display_data"
    },
    {
     "data": {
      "text/plain": [
       "<Figure size 720x720 with 0 Axes>"
      ]
     },
     "metadata": {},
     "output_type": "display_data"
    },
    {
     "data": {
      "text/plain": [
       "<Figure size 720x720 with 0 Axes>"
      ]
     },
     "metadata": {},
     "output_type": "display_data"
    }
   ],
   "source": [
    "scatter_plots(portfolios)"
   ]
  },
  {
   "cell_type": "markdown",
   "metadata": {},
   "source": [
    "### Monte Carlo Simulation\n",
    "Currently discontinued"
   ]
  },
  {
   "cell_type": "code",
   "execution_count": 20,
   "metadata": {},
   "outputs": [],
   "source": [
    "# create function that randomly selects a 60 day period 1000 times, plots the simulation and...\n",
    "# an easier to read quantile version\n",
    "#def monte_carlo(portfolio):\n",
    "    #for x in range(len(dates_list)):\n",
    "        #stocks = close_compare(portfolio, dates_list[x])\n",
    "        #prf_returns = (stocks.pct_change() +1)[1:]\n",
    "        #simulated = pd.DataFrame([((prf_returns.iloc[random.choices(range(len(prf_returns)), k=60)])\\\n",
    "                        #.mean(axis=1)).cumprod().values for x in range(1000)]).T\n",
    "        #simulated.plot(legend=False, linewidth=1, alpha=0.1, color='blue', figsize=(12,8))\n",
    "        #plt.tight_layout()\n",
    "        #plt.savefig(f\"../images/monte_carlo/simulated_{portfolio[-1]}_{dates_str[x]}.jpg\", dpi=150)\n",
    "        #plt.clf()\n",
    "        #simulated.quantile([0.05, 0.50, 0.95], axis=1).T.plot(figsize=(12,8))\n",
    "        #plt.legend(fontsize=18)\n",
    "        #plt.tight_layout()\n",
    "        #plt.savefig(f\"../images/monte_carlo/quantile_{portfolio[-1]}_{dates_str[x]}.jpg\", dpi=75)\n",
    "        #plt.clf()"
   ]
  },
  {
   "cell_type": "code",
   "execution_count": 21,
   "metadata": {},
   "outputs": [],
   "source": [
    "#monte_carlo(qqq_symbols)"
   ]
  },
  {
   "cell_type": "code",
   "execution_count": 22,
   "metadata": {},
   "outputs": [],
   "source": [
    "#monte_carlo(sp_symbols)"
   ]
  },
  {
   "cell_type": "code",
   "execution_count": 23,
   "metadata": {},
   "outputs": [],
   "source": [
    "#monte_carlo(glob_symbols)"
   ]
  },
  {
   "cell_type": "code",
   "execution_count": null,
   "metadata": {},
   "outputs": [],
   "source": []
  }
 ],
 "metadata": {
  "kernelspec": {
   "display_name": "Python 3",
   "language": "python",
   "name": "python3"
  },
  "language_info": {
   "codemirror_mode": {
    "name": "ipython",
    "version": 3
   },
   "file_extension": ".py",
   "mimetype": "text/x-python",
   "name": "python",
   "nbconvert_exporter": "python",
   "pygments_lexer": "ipython3",
   "version": "3.8.3"
  }
 },
 "nbformat": 4,
 "nbformat_minor": 4
}
