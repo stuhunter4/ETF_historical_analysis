{
 "cells": [
  {
   "cell_type": "code",
   "execution_count": 1,
   "metadata": {},
   "outputs": [],
   "source": [
    "import pandas_datareader.data as web\n",
    "import random\n",
    "import numpy as np\n",
    "import pandas as pd\n",
    "import seaborn as sns\n",
    "import matplotlib.pyplot as plt\n",
    "import datetime as dt\n",
    "#plt.style.use('ggplot')\n",
    "%matplotlib inline"
   ]
  },
  {
   "cell_type": "code",
   "execution_count": 2,
   "metadata": {},
   "outputs": [],
   "source": [
    "etf_df = pd.read_csv(\"resources/etf_df.csv\")"
   ]
  },
  {
   "cell_type": "markdown",
   "metadata": {},
   "source": [
    "### Period Datasets\n",
    "1M, 3M, 6M, 1Y, 5Y, 10Y, and MAX"
   ]
  },
  {
   "cell_type": "code",
   "execution_count": 3,
   "metadata": {},
   "outputs": [],
   "source": [
    "# last date configured\n",
    "last_date = list(etf_df.Date)[-1]\n",
    "last_split = last_date.split('-')\n",
    "d_list = [int(i) for i in last_split]\n",
    "date = dt.date(d_list[0], d_list[1], d_list[2])"
   ]
  },
  {
   "cell_type": "code",
   "execution_count": 4,
   "metadata": {},
   "outputs": [],
   "source": [
    "# calculate the dates from the last data point for 1m, 3m, 6m, 1y, 5y, and 10y...\n",
    "# ...then convert to string format for filtering DataFrame\n",
    "one_mo = (date - dt.timedelta(days=30.4167)).strftime(\"%Y-%m-%d\")\n",
    "three_mo = (date - dt.timedelta(days=91.2501)).strftime(\"%Y-%m-%d\")\n",
    "six_mo = (date - dt.timedelta(days=182.5)).strftime(\"%Y-%m-%d\")\n",
    "one_yr = (date - dt.timedelta(days=365)).strftime(\"%Y-%m-%d\")\n",
    "five_yr = (date - dt.timedelta(days=1825)).strftime(\"%Y-%m-%d\")\n",
    "ten_yr = (date - dt.timedelta(days=3650)).strftime(\"%Y-%m-%d\")"
   ]
  },
  {
   "cell_type": "code",
   "execution_count": 5,
   "metadata": {},
   "outputs": [
    {
     "data": {
      "text/html": [
       "<div>\n",
       "<style scoped>\n",
       "    .dataframe tbody tr th:only-of-type {\n",
       "        vertical-align: middle;\n",
       "    }\n",
       "\n",
       "    .dataframe tbody tr th {\n",
       "        vertical-align: top;\n",
       "    }\n",
       "\n",
       "    .dataframe thead th {\n",
       "        text-align: right;\n",
       "    }\n",
       "</style>\n",
       "<table border=\"1\" class=\"dataframe\">\n",
       "  <thead>\n",
       "    <tr style=\"text-align: right;\">\n",
       "      <th></th>\n",
       "      <th>Date</th>\n",
       "      <th>Open</th>\n",
       "      <th>High</th>\n",
       "      <th>Low</th>\n",
       "      <th>Close</th>\n",
       "      <th>Adj Close</th>\n",
       "      <th>Volume</th>\n",
       "      <th>symbol</th>\n",
       "    </tr>\n",
       "  </thead>\n",
       "  <tbody>\n",
       "    <tr>\n",
       "      <th>3057</th>\n",
       "      <td>2011-05-03</td>\n",
       "      <td>58.939999</td>\n",
       "      <td>59.000000</td>\n",
       "      <td>58.330002</td>\n",
       "      <td>58.689999</td>\n",
       "      <td>53.055153</td>\n",
       "      <td>38100000</td>\n",
       "      <td>QQQ</td>\n",
       "    </tr>\n",
       "    <tr>\n",
       "      <th>3058</th>\n",
       "      <td>2011-05-04</td>\n",
       "      <td>58.720001</td>\n",
       "      <td>58.869999</td>\n",
       "      <td>58.110001</td>\n",
       "      <td>58.599998</td>\n",
       "      <td>52.973808</td>\n",
       "      <td>53097200</td>\n",
       "      <td>QQQ</td>\n",
       "    </tr>\n",
       "    <tr>\n",
       "      <th>3059</th>\n",
       "      <td>2011-05-05</td>\n",
       "      <td>58.310001</td>\n",
       "      <td>58.970001</td>\n",
       "      <td>58.080002</td>\n",
       "      <td>58.279999</td>\n",
       "      <td>52.684517</td>\n",
       "      <td>72200000</td>\n",
       "      <td>QQQ</td>\n",
       "    </tr>\n",
       "    <tr>\n",
       "      <th>3060</th>\n",
       "      <td>2011-05-06</td>\n",
       "      <td>58.860001</td>\n",
       "      <td>59.200001</td>\n",
       "      <td>58.310001</td>\n",
       "      <td>58.470001</td>\n",
       "      <td>52.856274</td>\n",
       "      <td>72507000</td>\n",
       "      <td>QQQ</td>\n",
       "    </tr>\n",
       "    <tr>\n",
       "      <th>3061</th>\n",
       "      <td>2011-05-09</td>\n",
       "      <td>58.570000</td>\n",
       "      <td>58.919998</td>\n",
       "      <td>58.340000</td>\n",
       "      <td>58.689999</td>\n",
       "      <td>53.055153</td>\n",
       "      <td>40022000</td>\n",
       "      <td>QQQ</td>\n",
       "    </tr>\n",
       "    <tr>\n",
       "      <th>...</th>\n",
       "      <td>...</td>\n",
       "      <td>...</td>\n",
       "      <td>...</td>\n",
       "      <td>...</td>\n",
       "      <td>...</td>\n",
       "      <td>...</td>\n",
       "      <td>...</td>\n",
       "      <td>...</td>\n",
       "    </tr>\n",
       "    <tr>\n",
       "      <th>5568</th>\n",
       "      <td>2021-04-26</td>\n",
       "      <td>339.670013</td>\n",
       "      <td>341.920013</td>\n",
       "      <td>338.899994</td>\n",
       "      <td>341.630005</td>\n",
       "      <td>341.630005</td>\n",
       "      <td>30812000</td>\n",
       "      <td>QQQ</td>\n",
       "    </tr>\n",
       "    <tr>\n",
       "      <th>5569</th>\n",
       "      <td>2021-04-27</td>\n",
       "      <td>341.929993</td>\n",
       "      <td>342.149994</td>\n",
       "      <td>339.170013</td>\n",
       "      <td>340.149994</td>\n",
       "      <td>340.149994</td>\n",
       "      <td>33187200</td>\n",
       "      <td>QQQ</td>\n",
       "    </tr>\n",
       "    <tr>\n",
       "      <th>5570</th>\n",
       "      <td>2021-04-28</td>\n",
       "      <td>339.809998</td>\n",
       "      <td>340.850006</td>\n",
       "      <td>338.329987</td>\n",
       "      <td>339.000000</td>\n",
       "      <td>339.000000</td>\n",
       "      <td>33615700</td>\n",
       "      <td>QQQ</td>\n",
       "    </tr>\n",
       "    <tr>\n",
       "      <th>5571</th>\n",
       "      <td>2021-04-29</td>\n",
       "      <td>342.369995</td>\n",
       "      <td>342.799988</td>\n",
       "      <td>336.899994</td>\n",
       "      <td>340.220001</td>\n",
       "      <td>340.220001</td>\n",
       "      <td>37708900</td>\n",
       "      <td>QQQ</td>\n",
       "    </tr>\n",
       "    <tr>\n",
       "      <th>5572</th>\n",
       "      <td>2021-04-30</td>\n",
       "      <td>337.700012</td>\n",
       "      <td>340.260010</td>\n",
       "      <td>337.049988</td>\n",
       "      <td>337.989990</td>\n",
       "      <td>337.989990</td>\n",
       "      <td>38232800</td>\n",
       "      <td>QQQ</td>\n",
       "    </tr>\n",
       "  </tbody>\n",
       "</table>\n",
       "<p>2516 rows × 8 columns</p>\n",
       "</div>"
      ],
      "text/plain": [
       "            Date        Open        High         Low       Close   Adj Close  \\\n",
       "3057  2011-05-03   58.939999   59.000000   58.330002   58.689999   53.055153   \n",
       "3058  2011-05-04   58.720001   58.869999   58.110001   58.599998   52.973808   \n",
       "3059  2011-05-05   58.310001   58.970001   58.080002   58.279999   52.684517   \n",
       "3060  2011-05-06   58.860001   59.200001   58.310001   58.470001   52.856274   \n",
       "3061  2011-05-09   58.570000   58.919998   58.340000   58.689999   53.055153   \n",
       "...          ...         ...         ...         ...         ...         ...   \n",
       "5568  2021-04-26  339.670013  341.920013  338.899994  341.630005  341.630005   \n",
       "5569  2021-04-27  341.929993  342.149994  339.170013  340.149994  340.149994   \n",
       "5570  2021-04-28  339.809998  340.850006  338.329987  339.000000  339.000000   \n",
       "5571  2021-04-29  342.369995  342.799988  336.899994  340.220001  340.220001   \n",
       "5572  2021-04-30  337.700012  340.260010  337.049988  337.989990  337.989990   \n",
       "\n",
       "        Volume symbol  \n",
       "3057  38100000    QQQ  \n",
       "3058  53097200    QQQ  \n",
       "3059  72200000    QQQ  \n",
       "3060  72507000    QQQ  \n",
       "3061  40022000    QQQ  \n",
       "...        ...    ...  \n",
       "5568  30812000    QQQ  \n",
       "5569  33187200    QQQ  \n",
       "5570  33615700    QQQ  \n",
       "5571  37708900    QQQ  \n",
       "5572  38232800    QQQ  \n",
       "\n",
       "[2516 rows x 8 columns]"
      ]
     },
     "execution_count": 5,
     "metadata": {},
     "output_type": "execute_result"
    }
   ],
   "source": [
    "etf_df.loc[(etf_df.symbol == 'QQQ')&(etf_df.Date >= ten_yr)&(etf_df.Date <= last_date)]"
   ]
  },
  {
   "cell_type": "markdown",
   "metadata": {},
   "source": [
    "### 1. Relative Returns"
   ]
  },
  {
   "cell_type": "code",
   "execution_count": 6,
   "metadata": {},
   "outputs": [],
   "source": [
    "# three lists created to cover possible portfolio combinations to display\n",
    "qqq_symbols = ['QQQ', 'SPLG', 'DIA', 'VEU']\n",
    "sp_symbols = ['QQQ', 'SPLG', 'IVV', 'VOO', 'SPY', 'DIA']\n",
    "glob_symbols = ['QQQ', 'SPLG', 'ACWI', 'VEU', 'VSS']\n",
    "\n",
    "#list of lists...\n",
    "portfolios = [qqq_symbols, sp_symbols, glob_symbols]\n",
    "\n",
    "# list of years we need a portfolio display for\n",
    "dates_list = [one_mo, three_mo, six_mo, one_yr, five_yr, ten_yr]\n",
    "dates_str = ['1M', '3M', '6M', '1Y', '5Y', '10Y']"
   ]
  },
  {
   "cell_type": "code",
   "execution_count": 7,
   "metadata": {},
   "outputs": [],
   "source": [
    "# create function that exports a DataFrame for the list of symbols' relative returns\n",
    "def rel_returns(symbols, start):\n",
    "    df = pd.DataFrame(columns = symbols)\n",
    "    for symbol in symbols:\n",
    "        df_filter = etf_df.loc[(etf_df.symbol == symbol)&(etf_df.Date >= start)&(etf_df.Date <= last_date)]\n",
    "        df[symbol] = list(df_filter.Close)\n",
    "    df['Date'] = list(df_filter.Date)\n",
    "    df.set_index(\"Date\", inplace = True)\n",
    "    returns = (df/df.iloc[0])\n",
    "    return returns\n",
    "\n",
    "def close_compare(symbols, start):\n",
    "    df = pd.DataFrame(columns = symbols)\n",
    "    for symbol in symbols:\n",
    "        df_filter = etf_df.loc[(etf_df.symbol == symbol)&(etf_df.Date >= start)&(etf_df.Date <= last_date)]\n",
    "        df[symbol] = list(df_filter.Close)\n",
    "    df['Date'] = list(df_filter.Date)\n",
    "    df.set_index(\"Date\", inplace = True)\n",
    "    return df"
   ]
  },
  {
   "cell_type": "code",
   "execution_count": 8,
   "metadata": {},
   "outputs": [],
   "source": [
    "# create function that exports two charts for every period specified in dates_list...\n",
    "# ...one for Close price and one for relative returns\n",
    "def returns_charts(symbols):\n",
    "    for x in range(len(dates_list)):\n",
    "        new_df = rel_returns(symbols, dates_list[x])\n",
    "        new_df.plot(figsize=(10,8))\n",
    "        plt.title(f'Relative Returns: {dates_str[x]}, {last_date}', fontsize=24)\n",
    "        plt.xlabel('Date', fontsize=22)\n",
    "        plt.legend(fontsize=18)\n",
    "        plt.grid()\n",
    "        plt.tight_layout()\n",
    "        plt.savefig(f\"../images/returns/returns_{symbols[-1]}_{dates_str[x]}.jpg\", dpi=75)\n",
    "        plt.clf()\n",
    "        \n",
    "def close_charts(symbols):\n",
    "    for x in range(len(dates_list)):\n",
    "        new_df = close_compare(symbols, dates_list[x])\n",
    "        new_df.plot(figsize=(10,8))\n",
    "        plt.title(f'Close: {dates_str[x]}, {last_date}', fontsize=24)\n",
    "        plt.xlabel('Date', fontsize=22)\n",
    "        plt.legend(fontsize=18)\n",
    "        plt.grid()\n",
    "        plt.tight_layout()\n",
    "        plt.savefig(f\"../images/close/close_{symbols[-1]}_{dates_str[x]}.jpg\", dpi=75)\n",
    "        plt.clf()"
   ]
  },
  {
   "cell_type": "code",
   "execution_count": 9,
   "metadata": {},
   "outputs": [
    {
     "data": {
      "text/plain": [
       "<Figure size 720x576 with 0 Axes>"
      ]
     },
     "metadata": {},
     "output_type": "display_data"
    },
    {
     "data": {
      "text/plain": [
       "<Figure size 720x576 with 0 Axes>"
      ]
     },
     "metadata": {},
     "output_type": "display_data"
    },
    {
     "data": {
      "text/plain": [
       "<Figure size 720x576 with 0 Axes>"
      ]
     },
     "metadata": {},
     "output_type": "display_data"
    },
    {
     "data": {
      "text/plain": [
       "<Figure size 720x576 with 0 Axes>"
      ]
     },
     "metadata": {},
     "output_type": "display_data"
    },
    {
     "data": {
      "text/plain": [
       "<Figure size 720x576 with 0 Axes>"
      ]
     },
     "metadata": {},
     "output_type": "display_data"
    },
    {
     "data": {
      "text/plain": [
       "<Figure size 720x576 with 0 Axes>"
      ]
     },
     "metadata": {},
     "output_type": "display_data"
    },
    {
     "data": {
      "text/plain": [
       "<Figure size 720x576 with 0 Axes>"
      ]
     },
     "metadata": {},
     "output_type": "display_data"
    },
    {
     "data": {
      "text/plain": [
       "<Figure size 720x576 with 0 Axes>"
      ]
     },
     "metadata": {},
     "output_type": "display_data"
    },
    {
     "data": {
      "text/plain": [
       "<Figure size 720x576 with 0 Axes>"
      ]
     },
     "metadata": {},
     "output_type": "display_data"
    },
    {
     "data": {
      "text/plain": [
       "<Figure size 720x576 with 0 Axes>"
      ]
     },
     "metadata": {},
     "output_type": "display_data"
    },
    {
     "data": {
      "text/plain": [
       "<Figure size 720x576 with 0 Axes>"
      ]
     },
     "metadata": {},
     "output_type": "display_data"
    },
    {
     "data": {
      "text/plain": [
       "<Figure size 720x576 with 0 Axes>"
      ]
     },
     "metadata": {},
     "output_type": "display_data"
    },
    {
     "data": {
      "text/plain": [
       "<Figure size 720x576 with 0 Axes>"
      ]
     },
     "metadata": {},
     "output_type": "display_data"
    },
    {
     "data": {
      "text/plain": [
       "<Figure size 720x576 with 0 Axes>"
      ]
     },
     "metadata": {},
     "output_type": "display_data"
    },
    {
     "data": {
      "text/plain": [
       "<Figure size 720x576 with 0 Axes>"
      ]
     },
     "metadata": {},
     "output_type": "display_data"
    },
    {
     "data": {
      "text/plain": [
       "<Figure size 720x576 with 0 Axes>"
      ]
     },
     "metadata": {},
     "output_type": "display_data"
    },
    {
     "data": {
      "text/plain": [
       "<Figure size 720x576 with 0 Axes>"
      ]
     },
     "metadata": {},
     "output_type": "display_data"
    },
    {
     "data": {
      "text/plain": [
       "<Figure size 720x576 with 0 Axes>"
      ]
     },
     "metadata": {},
     "output_type": "display_data"
    }
   ],
   "source": [
    "returns_charts(qqq_symbols)\n",
    "returns_charts(sp_symbols)\n",
    "returns_charts(glob_symbols)"
   ]
  },
  {
   "cell_type": "code",
   "execution_count": 10,
   "metadata": {},
   "outputs": [
    {
     "data": {
      "text/plain": [
       "<Figure size 720x576 with 0 Axes>"
      ]
     },
     "metadata": {},
     "output_type": "display_data"
    },
    {
     "data": {
      "text/plain": [
       "<Figure size 720x576 with 0 Axes>"
      ]
     },
     "metadata": {},
     "output_type": "display_data"
    },
    {
     "data": {
      "text/plain": [
       "<Figure size 720x576 with 0 Axes>"
      ]
     },
     "metadata": {},
     "output_type": "display_data"
    },
    {
     "data": {
      "text/plain": [
       "<Figure size 720x576 with 0 Axes>"
      ]
     },
     "metadata": {},
     "output_type": "display_data"
    },
    {
     "data": {
      "text/plain": [
       "<Figure size 720x576 with 0 Axes>"
      ]
     },
     "metadata": {},
     "output_type": "display_data"
    },
    {
     "data": {
      "text/plain": [
       "<Figure size 720x576 with 0 Axes>"
      ]
     },
     "metadata": {},
     "output_type": "display_data"
    },
    {
     "data": {
      "text/plain": [
       "<Figure size 720x576 with 0 Axes>"
      ]
     },
     "metadata": {},
     "output_type": "display_data"
    },
    {
     "data": {
      "text/plain": [
       "<Figure size 720x576 with 0 Axes>"
      ]
     },
     "metadata": {},
     "output_type": "display_data"
    },
    {
     "data": {
      "text/plain": [
       "<Figure size 720x576 with 0 Axes>"
      ]
     },
     "metadata": {},
     "output_type": "display_data"
    },
    {
     "data": {
      "text/plain": [
       "<Figure size 720x576 with 0 Axes>"
      ]
     },
     "metadata": {},
     "output_type": "display_data"
    },
    {
     "data": {
      "text/plain": [
       "<Figure size 720x576 with 0 Axes>"
      ]
     },
     "metadata": {},
     "output_type": "display_data"
    },
    {
     "data": {
      "text/plain": [
       "<Figure size 720x576 with 0 Axes>"
      ]
     },
     "metadata": {},
     "output_type": "display_data"
    },
    {
     "data": {
      "text/plain": [
       "<Figure size 720x576 with 0 Axes>"
      ]
     },
     "metadata": {},
     "output_type": "display_data"
    },
    {
     "data": {
      "text/plain": [
       "<Figure size 720x576 with 0 Axes>"
      ]
     },
     "metadata": {},
     "output_type": "display_data"
    },
    {
     "data": {
      "text/plain": [
       "<Figure size 720x576 with 0 Axes>"
      ]
     },
     "metadata": {},
     "output_type": "display_data"
    },
    {
     "data": {
      "text/plain": [
       "<Figure size 720x576 with 0 Axes>"
      ]
     },
     "metadata": {},
     "output_type": "display_data"
    },
    {
     "data": {
      "text/plain": [
       "<Figure size 720x576 with 0 Axes>"
      ]
     },
     "metadata": {},
     "output_type": "display_data"
    },
    {
     "data": {
      "text/plain": [
       "<Figure size 720x576 with 0 Axes>"
      ]
     },
     "metadata": {},
     "output_type": "display_data"
    }
   ],
   "source": [
    "close_charts(qqq_symbols)\n",
    "close_charts(sp_symbols)\n",
    "close_charts(glob_symbols)"
   ]
  },
  {
   "cell_type": "markdown",
   "metadata": {},
   "source": [
    "### 2. Volatility - Histograms"
   ]
  },
  {
   "cell_type": "code",
   "execution_count": 11,
   "metadata": {},
   "outputs": [],
   "source": [
    "df = rel_returns(qqq_symbols, ten_yr)"
   ]
  },
  {
   "cell_type": "code",
   "execution_count": 12,
   "metadata": {},
   "outputs": [
    {
     "data": {
      "text/html": [
       "<div>\n",
       "<style scoped>\n",
       "    .dataframe tbody tr th:only-of-type {\n",
       "        vertical-align: middle;\n",
       "    }\n",
       "\n",
       "    .dataframe tbody tr th {\n",
       "        vertical-align: top;\n",
       "    }\n",
       "\n",
       "    .dataframe thead th {\n",
       "        text-align: right;\n",
       "    }\n",
       "</style>\n",
       "<table border=\"1\" class=\"dataframe\">\n",
       "  <thead>\n",
       "    <tr style=\"text-align: right;\">\n",
       "      <th></th>\n",
       "      <th>QQQ</th>\n",
       "      <th>SPLG</th>\n",
       "      <th>DIA</th>\n",
       "      <th>VEU</th>\n",
       "    </tr>\n",
       "    <tr>\n",
       "      <th>Date</th>\n",
       "      <th></th>\n",
       "      <th></th>\n",
       "      <th></th>\n",
       "      <th></th>\n",
       "    </tr>\n",
       "  </thead>\n",
       "  <tbody>\n",
       "    <tr>\n",
       "      <th>2011-05-03</th>\n",
       "      <td>1.000000</td>\n",
       "      <td>1.000000</td>\n",
       "      <td>1.000000</td>\n",
       "      <td>1.000000</td>\n",
       "    </tr>\n",
       "    <tr>\n",
       "      <th>2011-05-04</th>\n",
       "      <td>0.998467</td>\n",
       "      <td>0.995914</td>\n",
       "      <td>0.993350</td>\n",
       "      <td>0.988501</td>\n",
       "    </tr>\n",
       "    <tr>\n",
       "      <th>2011-05-05</th>\n",
       "      <td>0.993014</td>\n",
       "      <td>0.992771</td>\n",
       "      <td>0.982945</td>\n",
       "      <td>0.970961</td>\n",
       "    </tr>\n",
       "    <tr>\n",
       "      <th>2011-05-06</th>\n",
       "      <td>0.996252</td>\n",
       "      <td>0.992142</td>\n",
       "      <td>0.987874</td>\n",
       "      <td>0.975248</td>\n",
       "    </tr>\n",
       "    <tr>\n",
       "      <th>2011-05-09</th>\n",
       "      <td>1.000000</td>\n",
       "      <td>0.997485</td>\n",
       "      <td>0.991316</td>\n",
       "      <td>0.979341</td>\n",
       "    </tr>\n",
       "    <tr>\n",
       "      <th>...</th>\n",
       "      <td>...</td>\n",
       "      <td>...</td>\n",
       "      <td>...</td>\n",
       "      <td>...</td>\n",
       "    </tr>\n",
       "    <tr>\n",
       "      <th>2021-04-26</th>\n",
       "      <td>5.820924</td>\n",
       "      <td>3.085337</td>\n",
       "      <td>2.658974</td>\n",
       "      <td>1.227636</td>\n",
       "    </tr>\n",
       "    <tr>\n",
       "      <th>2021-04-27</th>\n",
       "      <td>5.795706</td>\n",
       "      <td>3.085337</td>\n",
       "      <td>2.658661</td>\n",
       "      <td>1.224128</td>\n",
       "    </tr>\n",
       "    <tr>\n",
       "      <th>2021-04-28</th>\n",
       "      <td>5.776112</td>\n",
       "      <td>3.084708</td>\n",
       "      <td>2.647238</td>\n",
       "      <td>1.230949</td>\n",
       "    </tr>\n",
       "    <tr>\n",
       "      <th>2021-04-29</th>\n",
       "      <td>5.796899</td>\n",
       "      <td>3.103567</td>\n",
       "      <td>2.664450</td>\n",
       "      <td>1.230364</td>\n",
       "    </tr>\n",
       "    <tr>\n",
       "      <th>2021-04-30</th>\n",
       "      <td>5.758903</td>\n",
       "      <td>3.082823</td>\n",
       "      <td>2.651698</td>\n",
       "      <td>1.213019</td>\n",
       "    </tr>\n",
       "  </tbody>\n",
       "</table>\n",
       "<p>2516 rows × 4 columns</p>\n",
       "</div>"
      ],
      "text/plain": [
       "                 QQQ      SPLG       DIA       VEU\n",
       "Date                                              \n",
       "2011-05-03  1.000000  1.000000  1.000000  1.000000\n",
       "2011-05-04  0.998467  0.995914  0.993350  0.988501\n",
       "2011-05-05  0.993014  0.992771  0.982945  0.970961\n",
       "2011-05-06  0.996252  0.992142  0.987874  0.975248\n",
       "2011-05-09  1.000000  0.997485  0.991316  0.979341\n",
       "...              ...       ...       ...       ...\n",
       "2021-04-26  5.820924  3.085337  2.658974  1.227636\n",
       "2021-04-27  5.795706  3.085337  2.658661  1.224128\n",
       "2021-04-28  5.776112  3.084708  2.647238  1.230949\n",
       "2021-04-29  5.796899  3.103567  2.664450  1.230364\n",
       "2021-04-30  5.758903  3.082823  2.651698  1.213019\n",
       "\n",
       "[2516 rows x 4 columns]"
      ]
     },
     "execution_count": 12,
     "metadata": {},
     "output_type": "execute_result"
    }
   ],
   "source": [
    "df"
   ]
  },
  {
   "cell_type": "code",
   "execution_count": 13,
   "metadata": {},
   "outputs": [
    {
     "data": {
      "text/plain": [
       "<Figure size 720x576 with 0 Axes>"
      ]
     },
     "metadata": {},
     "output_type": "display_data"
    }
   ],
   "source": [
    "# create histograms for returns, qqq_symbols list\n",
    "for x in range(len(dates_list)):\n",
    "    df = rel_returns(qqq_symbols, dates_list[x])\n",
    "    df.QQQ.hist(bins=50, figsize=(10,8), label='QQQ', alpha=0.5)\n",
    "    df.SPLG.hist(bins=50, label='SPLG', alpha=0.5)\n",
    "    df.DIA.hist(bins=50, label='DIA', alpha=0.5)\n",
    "    df.VEU.hist(bins=50, label='VEU', alpha=0.5)\n",
    "    plt.title(f'Volatility: {dates_str[x]}, {last_date}', fontsize=24)\n",
    "    plt.legend(fontsize=18)\n",
    "    plt.tight_layout()\n",
    "    plt.savefig(f\"../images/vol_hist/histogram_qqq_symbols_{dates_str[x]}.jpg\", dpi=75)\n",
    "    plt.clf()"
   ]
  },
  {
   "cell_type": "code",
   "execution_count": 14,
   "metadata": {},
   "outputs": [
    {
     "data": {
      "text/plain": [
       "<Figure size 720x576 with 0 Axes>"
      ]
     },
     "metadata": {},
     "output_type": "display_data"
    }
   ],
   "source": [
    "# create histograms kernel for clarity, qqq_symbols list\n",
    "for x in range(len(dates_list)):\n",
    "    df = rel_returns(qqq_symbols, dates_list[x])\n",
    "    df.QQQ.plot(kind='kde', label='QQQ', figsize=(10,8))\n",
    "    df.SPLG.plot(kind='kde', label='SPLG')\n",
    "    df.DIA.plot(kind='kde', label='DIA')\n",
    "    df.VEU.plot(kind='kde', label='VEU')\n",
    "    plt.title(f'Volatility Normalized: {dates_str[x]}, {last_date}', fontsize=24)\n",
    "    plt.legend(fontsize=18)\n",
    "    plt.tight_layout()\n",
    "    plt.grid()\n",
    "    plt.savefig(f\"../images/vol_hist/ked_hist_qqq_symbols_{dates_str[x]}.jpg\", dpi=75)\n",
    "    plt.clf()"
   ]
  },
  {
   "cell_type": "code",
   "execution_count": 15,
   "metadata": {},
   "outputs": [
    {
     "data": {
      "text/plain": [
       "<Figure size 720x576 with 0 Axes>"
      ]
     },
     "metadata": {},
     "output_type": "display_data"
    }
   ],
   "source": [
    "# repeat operations for sp_symbols, glob_symbols\n",
    "for x in range(len(dates_list)):\n",
    "    df = rel_returns(sp_symbols, dates_list[x])\n",
    "    df.QQQ.hist(bins=50, figsize=(10,8), label='QQQ', alpha=0.5)\n",
    "    df.SPLG.hist(bins=50, label='SPLG', alpha=0.5)\n",
    "    df.IVV.hist(bins=50, label='IVV', alpha=0.5)\n",
    "    df.VOO.hist(bins=50, label='VOO', alpha=0.5)\n",
    "    df.SPY.hist(bins=50, label='SPY', alpha=0.5)\n",
    "    df.DIA.hist(bins=50, label='DIA', alpha=0.5)\n",
    "    plt.title(f'Volatility: {dates_str[x]}, {last_date}', fontsize=24)\n",
    "    plt.legend(fontsize=18)\n",
    "    plt.tight_layout()\n",
    "    plt.savefig(f\"../images/vol_hist/histogram_sp_symbols_{dates_str[x]}.jpg\", dpi=75)\n",
    "    plt.clf()\n",
    "for x in range(len(dates_list)):\n",
    "    df = rel_returns(sp_symbols, dates_list[x])\n",
    "    df.QQQ.plot(kind='kde', label='QQQ', figsize=(10,8))\n",
    "    df.SPLG.plot(kind='kde', label='SPLG')\n",
    "    df.IVV.plot(kind='kde', label='IVV')\n",
    "    df.VOO.plot(kind='kde', label='VOO')\n",
    "    df.SPY.plot(kind='kde', label='SPY')\n",
    "    df.DIA.plot(kind='kde', label='DIA')\n",
    "    plt.title(f'Volatility Normalized: {dates_str[x]}, {last_date}', fontsize=24)\n",
    "    plt.legend(fontsize=18)\n",
    "    plt.tight_layout()\n",
    "    plt.grid()\n",
    "    plt.savefig(f\"../images/vol_hist/ked_hist_sp_symbols_{dates_str[x]}.jpg\", dpi=75)\n",
    "    plt.clf()"
   ]
  },
  {
   "cell_type": "code",
   "execution_count": 16,
   "metadata": {},
   "outputs": [
    {
     "data": {
      "text/plain": [
       "<Figure size 720x576 with 0 Axes>"
      ]
     },
     "metadata": {},
     "output_type": "display_data"
    }
   ],
   "source": [
    "for x in range(len(dates_list)):\n",
    "    df = rel_returns(glob_symbols, dates_list[x])\n",
    "    df.QQQ.hist(bins=50, figsize=(10,8), label='QQQ', alpha=0.5)\n",
    "    df.SPLG.hist(bins=50, label='SPLG', alpha=0.5)\n",
    "    df.ACWI.hist(bins=50, label='ACWI', alpha=0.5)\n",
    "    df.VEU.hist(bins=50, label='VEU', alpha=0.5)\n",
    "    df.VSS.hist(bins=50, label='VSS', alpha=0.5)\n",
    "    plt.title(f'Volatility: {dates_str[x]}, {last_date}', fontsize=24)\n",
    "    plt.legend(fontsize=18)\n",
    "    plt.tight_layout()\n",
    "    plt.savefig(f\"../images/vol_hist/histogram_glob_symbols_{dates_str[x]}.jpg\", dpi=75)\n",
    "    plt.clf()\n",
    "for x in range(len(dates_list)):\n",
    "    df = rel_returns(glob_symbols, dates_list[x])\n",
    "    df.QQQ.plot(kind='kde', label='QQQ', figsize=(10,8))\n",
    "    df.SPLG.plot(kind='kde', label='SPLG')\n",
    "    df.ACWI.plot(kind='kde', label='ACWI')\n",
    "    df.VEU.plot(kind='kde', label='VEU')\n",
    "    df.VSS.plot(kind='kde', label='VSS')\n",
    "    plt.title(f'Volatility Normalized: {dates_str[x]}, {last_date}', fontsize=24)\n",
    "    plt.legend(fontsize=18)\n",
    "    plt.tight_layout()\n",
    "    plt.grid()\n",
    "    plt.savefig(f\"../images/vol_hist/ked_hist_glob_symbols_{dates_str[x]}.jpg\", dpi=75)\n",
    "    plt.clf()"
   ]
  },
  {
   "cell_type": "markdown",
   "metadata": {},
   "source": [
    "### Correlation"
   ]
  },
  {
   "cell_type": "code",
   "execution_count": 17,
   "metadata": {},
   "outputs": [],
   "source": [
    "from pandas.plotting import scatter_matrix"
   ]
  },
  {
   "cell_type": "code",
   "execution_count": 18,
   "metadata": {},
   "outputs": [],
   "source": [
    "def scatter_plots(portfolio_list):\n",
    "    for portfolio in portfolio_list:\n",
    "        for x in range(len(dates_list)):\n",
    "            df = close_compare(portfolio, dates_list[x])\n",
    "            scatter_matrix(df, figsize=(10,10), color='dodgerblue', hist_kwds={'color':'lightblue', 'alpha':0.50, 'bins':50})\n",
    "            plt.tight_layout()\n",
    "            plt.savefig(f\"../images/correlation/scatter_{portfolio[-1]}_{dates_str[x]}.jpg\", dpi=150)\n",
    "            plt.clf()"
   ]
  },
  {
   "cell_type": "code",
   "execution_count": 19,
   "metadata": {},
   "outputs": [
    {
     "data": {
      "text/plain": [
       "<Figure size 720x720 with 0 Axes>"
      ]
     },
     "metadata": {},
     "output_type": "display_data"
    },
    {
     "data": {
      "text/plain": [
       "<Figure size 720x720 with 0 Axes>"
      ]
     },
     "metadata": {},
     "output_type": "display_data"
    },
    {
     "data": {
      "text/plain": [
       "<Figure size 720x720 with 0 Axes>"
      ]
     },
     "metadata": {},
     "output_type": "display_data"
    },
    {
     "data": {
      "text/plain": [
       "<Figure size 720x720 with 0 Axes>"
      ]
     },
     "metadata": {},
     "output_type": "display_data"
    },
    {
     "data": {
      "text/plain": [
       "<Figure size 720x720 with 0 Axes>"
      ]
     },
     "metadata": {},
     "output_type": "display_data"
    },
    {
     "data": {
      "text/plain": [
       "<Figure size 720x720 with 0 Axes>"
      ]
     },
     "metadata": {},
     "output_type": "display_data"
    },
    {
     "data": {
      "text/plain": [
       "<Figure size 720x720 with 0 Axes>"
      ]
     },
     "metadata": {},
     "output_type": "display_data"
    },
    {
     "data": {
      "text/plain": [
       "<Figure size 720x720 with 0 Axes>"
      ]
     },
     "metadata": {},
     "output_type": "display_data"
    },
    {
     "data": {
      "text/plain": [
       "<Figure size 720x720 with 0 Axes>"
      ]
     },
     "metadata": {},
     "output_type": "display_data"
    },
    {
     "data": {
      "text/plain": [
       "<Figure size 720x720 with 0 Axes>"
      ]
     },
     "metadata": {},
     "output_type": "display_data"
    },
    {
     "data": {
      "text/plain": [
       "<Figure size 720x720 with 0 Axes>"
      ]
     },
     "metadata": {},
     "output_type": "display_data"
    },
    {
     "data": {
      "text/plain": [
       "<Figure size 720x720 with 0 Axes>"
      ]
     },
     "metadata": {},
     "output_type": "display_data"
    },
    {
     "data": {
      "text/plain": [
       "<Figure size 720x720 with 0 Axes>"
      ]
     },
     "metadata": {},
     "output_type": "display_data"
    },
    {
     "data": {
      "text/plain": [
       "<Figure size 720x720 with 0 Axes>"
      ]
     },
     "metadata": {},
     "output_type": "display_data"
    },
    {
     "data": {
      "text/plain": [
       "<Figure size 720x720 with 0 Axes>"
      ]
     },
     "metadata": {},
     "output_type": "display_data"
    },
    {
     "data": {
      "text/plain": [
       "<Figure size 720x720 with 0 Axes>"
      ]
     },
     "metadata": {},
     "output_type": "display_data"
    },
    {
     "data": {
      "text/plain": [
       "<Figure size 720x720 with 0 Axes>"
      ]
     },
     "metadata": {},
     "output_type": "display_data"
    },
    {
     "data": {
      "text/plain": [
       "<Figure size 720x720 with 0 Axes>"
      ]
     },
     "metadata": {},
     "output_type": "display_data"
    }
   ],
   "source": [
    "scatter_plots(portfolios)"
   ]
  },
  {
   "cell_type": "markdown",
   "metadata": {},
   "source": [
    "### Monte Carlo Simulation\n",
    "Currently discontinued"
   ]
  },
  {
   "cell_type": "code",
   "execution_count": 20,
   "metadata": {},
   "outputs": [],
   "source": [
    "# create function that randomly selects a 60 day period 1000 times, plots the simulation and...\n",
    "# an easier to read quantile version\n",
    "#def monte_carlo(portfolio):\n",
    "    #for x in range(len(dates_list)):\n",
    "        #stocks = close_compare(portfolio, dates_list[x])\n",
    "        #prf_returns = (stocks.pct_change() +1)[1:]\n",
    "        #simulated = pd.DataFrame([((prf_returns.iloc[random.choices(range(len(prf_returns)), k=60)])\\\n",
    "                        #.mean(axis=1)).cumprod().values for x in range(1000)]).T\n",
    "        #simulated.plot(legend=False, linewidth=1, alpha=0.1, color='blue', figsize=(12,8))\n",
    "        #plt.tight_layout()\n",
    "        #plt.savefig(f\"../images/monte_carlo/simulated_{portfolio[-1]}_{dates_str[x]}.jpg\", dpi=150)\n",
    "        #plt.clf()\n",
    "        #simulated.quantile([0.05, 0.50, 0.95], axis=1).T.plot(figsize=(12,8))\n",
    "        #plt.legend(fontsize=18)\n",
    "        #plt.tight_layout()\n",
    "        #plt.savefig(f\"../images/monte_carlo/quantile_{portfolio[-1]}_{dates_str[x]}.jpg\", dpi=75)\n",
    "        #plt.clf()"
   ]
  },
  {
   "cell_type": "code",
   "execution_count": 21,
   "metadata": {},
   "outputs": [],
   "source": [
    "#monte_carlo(qqq_symbols)"
   ]
  },
  {
   "cell_type": "code",
   "execution_count": 22,
   "metadata": {},
   "outputs": [],
   "source": [
    "#monte_carlo(sp_symbols)"
   ]
  },
  {
   "cell_type": "code",
   "execution_count": 23,
   "metadata": {},
   "outputs": [],
   "source": [
    "#monte_carlo(glob_symbols)"
   ]
  },
  {
   "cell_type": "code",
   "execution_count": null,
   "metadata": {},
   "outputs": [],
   "source": []
  }
 ],
 "metadata": {
  "kernelspec": {
   "display_name": "Python 3",
   "language": "python",
   "name": "python3"
  },
  "language_info": {
   "codemirror_mode": {
    "name": "ipython",
    "version": 3
   },
   "file_extension": ".py",
   "mimetype": "text/x-python",
   "name": "python",
   "nbconvert_exporter": "python",
   "pygments_lexer": "ipython3",
   "version": "3.8.3"
  }
 },
 "nbformat": 4,
 "nbformat_minor": 4
}
