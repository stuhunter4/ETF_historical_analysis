{
 "cells": [
  {
   "cell_type": "code",
   "execution_count": 1,
   "metadata": {},
   "outputs": [],
   "source": [
    "import pandas_datareader.data as web\n",
    "import random\n",
    "import numpy as np\n",
    "import pandas as pd\n",
    "import seaborn as sns\n",
    "import matplotlib.pyplot as plt\n",
    "import datetime as dt\n",
    "#plt.style.use('ggplot')\n",
    "%matplotlib inline"
   ]
  },
  {
   "cell_type": "code",
   "execution_count": 2,
   "metadata": {},
   "outputs": [],
   "source": [
    "etf_df = pd.read_csv(\"resources/etf_df.csv\")"
   ]
  },
  {
   "cell_type": "markdown",
   "metadata": {},
   "source": [
    "### Period Datasets\n",
    "1M, 3M, 6M, 1Y, 5Y, 10Y, and MAX"
   ]
  },
  {
   "cell_type": "code",
   "execution_count": 3,
   "metadata": {},
   "outputs": [],
   "source": [
    "# last date configured\n",
    "last_date = list(etf_df.Date)[-1]\n",
    "last_split = last_date.split('-')\n",
    "d_list = [int(i) for i in last_split]\n",
    "date = dt.date(d_list[0], d_list[1], d_list[2])"
   ]
  },
  {
   "cell_type": "code",
   "execution_count": 4,
   "metadata": {},
   "outputs": [],
   "source": [
    "# calculate the dates from the last data point for 1m, 3m, 6m, 1y, 5y, and 10y...\n",
    "# ...then convert to string format for filtering DataFrame\n",
    "one_mo = (date - dt.timedelta(days=30.4167)).strftime(\"%Y-%m-%d\")\n",
    "three_mo = (date - dt.timedelta(days=91.2501)).strftime(\"%Y-%m-%d\")\n",
    "six_mo = (date - dt.timedelta(days=182.5)).strftime(\"%Y-%m-%d\")\n",
    "one_yr = (date - dt.timedelta(days=365)).strftime(\"%Y-%m-%d\")\n",
    "five_yr = (date - dt.timedelta(days=1825)).strftime(\"%Y-%m-%d\")\n",
    "ten_yr = (date - dt.timedelta(days=3650)).strftime(\"%Y-%m-%d\")"
   ]
  },
  {
   "cell_type": "code",
   "execution_count": 5,
   "metadata": {},
   "outputs": [
    {
     "data": {
      "text/html": [
       "<div>\n",
       "<style scoped>\n",
       "    .dataframe tbody tr th:only-of-type {\n",
       "        vertical-align: middle;\n",
       "    }\n",
       "\n",
       "    .dataframe tbody tr th {\n",
       "        vertical-align: top;\n",
       "    }\n",
       "\n",
       "    .dataframe thead th {\n",
       "        text-align: right;\n",
       "    }\n",
       "</style>\n",
       "<table border=\"1\" class=\"dataframe\">\n",
       "  <thead>\n",
       "    <tr style=\"text-align: right;\">\n",
       "      <th></th>\n",
       "      <th>Date</th>\n",
       "      <th>Open</th>\n",
       "      <th>High</th>\n",
       "      <th>Low</th>\n",
       "      <th>Close</th>\n",
       "      <th>Adj Close</th>\n",
       "      <th>Volume</th>\n",
       "      <th>symbol</th>\n",
       "    </tr>\n",
       "  </thead>\n",
       "  <tbody>\n",
       "    <tr>\n",
       "      <th>3091</th>\n",
       "      <td>2011-06-21</td>\n",
       "      <td>54.259998</td>\n",
       "      <td>55.290001</td>\n",
       "      <td>54.029999</td>\n",
       "      <td>55.230000</td>\n",
       "      <td>50.039310</td>\n",
       "      <td>55892800</td>\n",
       "      <td>QQQ</td>\n",
       "    </tr>\n",
       "    <tr>\n",
       "      <th>3092</th>\n",
       "      <td>2011-06-22</td>\n",
       "      <td>55.000000</td>\n",
       "      <td>55.320000</td>\n",
       "      <td>54.820000</td>\n",
       "      <td>54.830002</td>\n",
       "      <td>49.676914</td>\n",
       "      <td>36833300</td>\n",
       "      <td>QQQ</td>\n",
       "    </tr>\n",
       "    <tr>\n",
       "      <th>3093</th>\n",
       "      <td>2011-06-23</td>\n",
       "      <td>54.240002</td>\n",
       "      <td>55.369999</td>\n",
       "      <td>54.060001</td>\n",
       "      <td>55.340000</td>\n",
       "      <td>50.138988</td>\n",
       "      <td>80743300</td>\n",
       "      <td>QQQ</td>\n",
       "    </tr>\n",
       "    <tr>\n",
       "      <th>3094</th>\n",
       "      <td>2011-06-24</td>\n",
       "      <td>55.080002</td>\n",
       "      <td>55.130001</td>\n",
       "      <td>54.270000</td>\n",
       "      <td>54.380001</td>\n",
       "      <td>49.269207</td>\n",
       "      <td>56298300</td>\n",
       "      <td>QQQ</td>\n",
       "    </tr>\n",
       "    <tr>\n",
       "      <th>3095</th>\n",
       "      <td>2011-06-27</td>\n",
       "      <td>54.439999</td>\n",
       "      <td>55.529999</td>\n",
       "      <td>54.320000</td>\n",
       "      <td>55.250000</td>\n",
       "      <td>50.057430</td>\n",
       "      <td>49968900</td>\n",
       "      <td>QQQ</td>\n",
       "    </tr>\n",
       "    <tr>\n",
       "      <th>...</th>\n",
       "      <td>...</td>\n",
       "      <td>...</td>\n",
       "      <td>...</td>\n",
       "      <td>...</td>\n",
       "      <td>...</td>\n",
       "      <td>...</td>\n",
       "      <td>...</td>\n",
       "      <td>...</td>\n",
       "    </tr>\n",
       "    <tr>\n",
       "      <th>5602</th>\n",
       "      <td>2021-06-14</td>\n",
       "      <td>341.679993</td>\n",
       "      <td>344.519989</td>\n",
       "      <td>340.459991</td>\n",
       "      <td>344.510010</td>\n",
       "      <td>344.510010</td>\n",
       "      <td>27827700</td>\n",
       "      <td>QQQ</td>\n",
       "    </tr>\n",
       "    <tr>\n",
       "      <th>5603</th>\n",
       "      <td>2021-06-15</td>\n",
       "      <td>344.149994</td>\n",
       "      <td>344.470001</td>\n",
       "      <td>341.519989</td>\n",
       "      <td>342.260010</td>\n",
       "      <td>342.260010</td>\n",
       "      <td>35963800</td>\n",
       "      <td>QQQ</td>\n",
       "    </tr>\n",
       "    <tr>\n",
       "      <th>5604</th>\n",
       "      <td>2021-06-16</td>\n",
       "      <td>342.739990</td>\n",
       "      <td>343.839996</td>\n",
       "      <td>337.450012</td>\n",
       "      <td>341.010010</td>\n",
       "      <td>341.010010</td>\n",
       "      <td>55399500</td>\n",
       "      <td>QQQ</td>\n",
       "    </tr>\n",
       "    <tr>\n",
       "      <th>5605</th>\n",
       "      <td>2021-06-17</td>\n",
       "      <td>339.970001</td>\n",
       "      <td>346.380005</td>\n",
       "      <td>339.920013</td>\n",
       "      <td>345.339996</td>\n",
       "      <td>345.339996</td>\n",
       "      <td>59722700</td>\n",
       "      <td>QQQ</td>\n",
       "    </tr>\n",
       "    <tr>\n",
       "      <th>5606</th>\n",
       "      <td>2021-06-18</td>\n",
       "      <td>343.630005</td>\n",
       "      <td>344.809998</td>\n",
       "      <td>341.859985</td>\n",
       "      <td>342.630005</td>\n",
       "      <td>342.630005</td>\n",
       "      <td>55303200</td>\n",
       "      <td>QQQ</td>\n",
       "    </tr>\n",
       "  </tbody>\n",
       "</table>\n",
       "<p>2516 rows × 8 columns</p>\n",
       "</div>"
      ],
      "text/plain": [
       "            Date        Open        High         Low       Close   Adj Close  \\\n",
       "3091  2011-06-21   54.259998   55.290001   54.029999   55.230000   50.039310   \n",
       "3092  2011-06-22   55.000000   55.320000   54.820000   54.830002   49.676914   \n",
       "3093  2011-06-23   54.240002   55.369999   54.060001   55.340000   50.138988   \n",
       "3094  2011-06-24   55.080002   55.130001   54.270000   54.380001   49.269207   \n",
       "3095  2011-06-27   54.439999   55.529999   54.320000   55.250000   50.057430   \n",
       "...          ...         ...         ...         ...         ...         ...   \n",
       "5602  2021-06-14  341.679993  344.519989  340.459991  344.510010  344.510010   \n",
       "5603  2021-06-15  344.149994  344.470001  341.519989  342.260010  342.260010   \n",
       "5604  2021-06-16  342.739990  343.839996  337.450012  341.010010  341.010010   \n",
       "5605  2021-06-17  339.970001  346.380005  339.920013  345.339996  345.339996   \n",
       "5606  2021-06-18  343.630005  344.809998  341.859985  342.630005  342.630005   \n",
       "\n",
       "        Volume symbol  \n",
       "3091  55892800    QQQ  \n",
       "3092  36833300    QQQ  \n",
       "3093  80743300    QQQ  \n",
       "3094  56298300    QQQ  \n",
       "3095  49968900    QQQ  \n",
       "...        ...    ...  \n",
       "5602  27827700    QQQ  \n",
       "5603  35963800    QQQ  \n",
       "5604  55399500    QQQ  \n",
       "5605  59722700    QQQ  \n",
       "5606  55303200    QQQ  \n",
       "\n",
       "[2516 rows x 8 columns]"
      ]
     },
     "execution_count": 5,
     "metadata": {},
     "output_type": "execute_result"
    }
   ],
   "source": [
    "etf_df.loc[(etf_df.symbol == 'QQQ')&(etf_df.Date >= ten_yr)&(etf_df.Date <= last_date)]"
   ]
  },
  {
   "cell_type": "markdown",
   "metadata": {},
   "source": [
    "### 1. Relative Returns"
   ]
  },
  {
   "cell_type": "code",
   "execution_count": 6,
   "metadata": {},
   "outputs": [],
   "source": [
    "# three lists created to cover possible portfolio combinations to display\n",
    "qqq_symbols = ['QQQ', 'SPLG', 'DIA', 'VEU']\n",
    "sp_symbols = ['QQQ', 'SPLG', 'IVV', 'VOO', 'SPY', 'DIA']\n",
    "glob_symbols = ['QQQ', 'SPLG', 'ACWI', 'VEU', 'VSS']\n",
    "\n",
    "#list of lists...\n",
    "portfolios = [qqq_symbols, sp_symbols, glob_symbols]\n",
    "\n",
    "# list of years we need a portfolio display for\n",
    "dates_list = [one_mo, three_mo, six_mo, one_yr, five_yr, ten_yr]\n",
    "dates_str = ['1M', '3M', '6M', '1Y', '5Y', '10Y']"
   ]
  },
  {
   "cell_type": "code",
   "execution_count": 7,
   "metadata": {},
   "outputs": [],
   "source": [
    "# create function that exports a DataFrame for the list of symbols' relative returns\n",
    "def rel_returns(symbols, start):\n",
    "    df = pd.DataFrame(columns = symbols)\n",
    "    for symbol in symbols:\n",
    "        df_filter = etf_df.loc[(etf_df.symbol == symbol)&(etf_df.Date >= start)&(etf_df.Date <= last_date)]\n",
    "        df[symbol] = list(df_filter.Close)\n",
    "    df['Date'] = list(df_filter.Date)\n",
    "    df.set_index(\"Date\", inplace = True)\n",
    "    returns = (df/df.iloc[0])\n",
    "    return returns\n",
    "\n",
    "def close_compare(symbols, start):\n",
    "    df = pd.DataFrame(columns = symbols)\n",
    "    for symbol in symbols:\n",
    "        df_filter = etf_df.loc[(etf_df.symbol == symbol)&(etf_df.Date >= start)&(etf_df.Date <= last_date)]\n",
    "        df[symbol] = list(df_filter.Close)\n",
    "    df['Date'] = list(df_filter.Date)\n",
    "    df.set_index(\"Date\", inplace = True)\n",
    "    return df"
   ]
  },
  {
   "cell_type": "code",
   "execution_count": 8,
   "metadata": {},
   "outputs": [],
   "source": [
    "# create function that exports two charts for every period specified in dates_list...\n",
    "# ...one for Close price and one for relative returns\n",
    "def returns_charts(symbols):\n",
    "    for x in range(len(dates_list)):\n",
    "        new_df = rel_returns(symbols, dates_list[x])\n",
    "        new_df.plot(figsize=(10,8))\n",
    "        plt.title(f'Relative Returns: {dates_str[x]}, {last_date}', fontsize=24)\n",
    "        plt.xlabel('Date', fontsize=22)\n",
    "        plt.legend(fontsize=18)\n",
    "        plt.grid()\n",
    "        plt.tight_layout()\n",
    "        plt.savefig(f\"../images/returns/returns_{symbols[-1]}_{dates_str[x]}.jpg\", dpi=75)\n",
    "        plt.clf()\n",
    "        \n",
    "def close_charts(symbols):\n",
    "    for x in range(len(dates_list)):\n",
    "        new_df = close_compare(symbols, dates_list[x])\n",
    "        new_df.plot(figsize=(10,8))\n",
    "        plt.title(f'Close: {dates_str[x]}, {last_date}', fontsize=24)\n",
    "        plt.xlabel('Date', fontsize=22)\n",
    "        plt.legend(fontsize=18)\n",
    "        plt.grid()\n",
    "        plt.tight_layout()\n",
    "        plt.savefig(f\"../images/close/close_{symbols[-1]}_{dates_str[x]}.jpg\", dpi=75)\n",
    "        plt.clf()"
   ]
  },
  {
   "cell_type": "code",
   "execution_count": 9,
   "metadata": {},
   "outputs": [
    {
     "data": {
      "text/plain": [
       "<Figure size 720x576 with 0 Axes>"
      ]
     },
     "metadata": {},
     "output_type": "display_data"
    },
    {
     "data": {
      "text/plain": [
       "<Figure size 720x576 with 0 Axes>"
      ]
     },
     "metadata": {},
     "output_type": "display_data"
    },
    {
     "data": {
      "text/plain": [
       "<Figure size 720x576 with 0 Axes>"
      ]
     },
     "metadata": {},
     "output_type": "display_data"
    },
    {
     "data": {
      "text/plain": [
       "<Figure size 720x576 with 0 Axes>"
      ]
     },
     "metadata": {},
     "output_type": "display_data"
    },
    {
     "data": {
      "text/plain": [
       "<Figure size 720x576 with 0 Axes>"
      ]
     },
     "metadata": {},
     "output_type": "display_data"
    },
    {
     "data": {
      "text/plain": [
       "<Figure size 720x576 with 0 Axes>"
      ]
     },
     "metadata": {},
     "output_type": "display_data"
    },
    {
     "data": {
      "text/plain": [
       "<Figure size 720x576 with 0 Axes>"
      ]
     },
     "metadata": {},
     "output_type": "display_data"
    },
    {
     "data": {
      "text/plain": [
       "<Figure size 720x576 with 0 Axes>"
      ]
     },
     "metadata": {},
     "output_type": "display_data"
    },
    {
     "data": {
      "text/plain": [
       "<Figure size 720x576 with 0 Axes>"
      ]
     },
     "metadata": {},
     "output_type": "display_data"
    },
    {
     "data": {
      "text/plain": [
       "<Figure size 720x576 with 0 Axes>"
      ]
     },
     "metadata": {},
     "output_type": "display_data"
    },
    {
     "data": {
      "text/plain": [
       "<Figure size 720x576 with 0 Axes>"
      ]
     },
     "metadata": {},
     "output_type": "display_data"
    },
    {
     "data": {
      "text/plain": [
       "<Figure size 720x576 with 0 Axes>"
      ]
     },
     "metadata": {},
     "output_type": "display_data"
    },
    {
     "data": {
      "text/plain": [
       "<Figure size 720x576 with 0 Axes>"
      ]
     },
     "metadata": {},
     "output_type": "display_data"
    },
    {
     "data": {
      "text/plain": [
       "<Figure size 720x576 with 0 Axes>"
      ]
     },
     "metadata": {},
     "output_type": "display_data"
    },
    {
     "data": {
      "text/plain": [
       "<Figure size 720x576 with 0 Axes>"
      ]
     },
     "metadata": {},
     "output_type": "display_data"
    },
    {
     "data": {
      "text/plain": [
       "<Figure size 720x576 with 0 Axes>"
      ]
     },
     "metadata": {},
     "output_type": "display_data"
    },
    {
     "data": {
      "text/plain": [
       "<Figure size 720x576 with 0 Axes>"
      ]
     },
     "metadata": {},
     "output_type": "display_data"
    },
    {
     "data": {
      "text/plain": [
       "<Figure size 720x576 with 0 Axes>"
      ]
     },
     "metadata": {},
     "output_type": "display_data"
    }
   ],
   "source": [
    "returns_charts(qqq_symbols)\n",
    "returns_charts(sp_symbols)\n",
    "returns_charts(glob_symbols)"
   ]
  },
  {
   "cell_type": "code",
   "execution_count": 10,
   "metadata": {},
   "outputs": [
    {
     "data": {
      "text/plain": [
       "<Figure size 720x576 with 0 Axes>"
      ]
     },
     "metadata": {},
     "output_type": "display_data"
    },
    {
     "data": {
      "text/plain": [
       "<Figure size 720x576 with 0 Axes>"
      ]
     },
     "metadata": {},
     "output_type": "display_data"
    },
    {
     "data": {
      "text/plain": [
       "<Figure size 720x576 with 0 Axes>"
      ]
     },
     "metadata": {},
     "output_type": "display_data"
    },
    {
     "data": {
      "text/plain": [
       "<Figure size 720x576 with 0 Axes>"
      ]
     },
     "metadata": {},
     "output_type": "display_data"
    },
    {
     "data": {
      "text/plain": [
       "<Figure size 720x576 with 0 Axes>"
      ]
     },
     "metadata": {},
     "output_type": "display_data"
    },
    {
     "data": {
      "text/plain": [
       "<Figure size 720x576 with 0 Axes>"
      ]
     },
     "metadata": {},
     "output_type": "display_data"
    },
    {
     "data": {
      "text/plain": [
       "<Figure size 720x576 with 0 Axes>"
      ]
     },
     "metadata": {},
     "output_type": "display_data"
    },
    {
     "data": {
      "text/plain": [
       "<Figure size 720x576 with 0 Axes>"
      ]
     },
     "metadata": {},
     "output_type": "display_data"
    },
    {
     "data": {
      "text/plain": [
       "<Figure size 720x576 with 0 Axes>"
      ]
     },
     "metadata": {},
     "output_type": "display_data"
    },
    {
     "data": {
      "text/plain": [
       "<Figure size 720x576 with 0 Axes>"
      ]
     },
     "metadata": {},
     "output_type": "display_data"
    },
    {
     "data": {
      "text/plain": [
       "<Figure size 720x576 with 0 Axes>"
      ]
     },
     "metadata": {},
     "output_type": "display_data"
    },
    {
     "data": {
      "text/plain": [
       "<Figure size 720x576 with 0 Axes>"
      ]
     },
     "metadata": {},
     "output_type": "display_data"
    },
    {
     "data": {
      "text/plain": [
       "<Figure size 720x576 with 0 Axes>"
      ]
     },
     "metadata": {},
     "output_type": "display_data"
    },
    {
     "data": {
      "text/plain": [
       "<Figure size 720x576 with 0 Axes>"
      ]
     },
     "metadata": {},
     "output_type": "display_data"
    },
    {
     "data": {
      "text/plain": [
       "<Figure size 720x576 with 0 Axes>"
      ]
     },
     "metadata": {},
     "output_type": "display_data"
    },
    {
     "data": {
      "text/plain": [
       "<Figure size 720x576 with 0 Axes>"
      ]
     },
     "metadata": {},
     "output_type": "display_data"
    },
    {
     "data": {
      "text/plain": [
       "<Figure size 720x576 with 0 Axes>"
      ]
     },
     "metadata": {},
     "output_type": "display_data"
    },
    {
     "data": {
      "text/plain": [
       "<Figure size 720x576 with 0 Axes>"
      ]
     },
     "metadata": {},
     "output_type": "display_data"
    }
   ],
   "source": [
    "close_charts(qqq_symbols)\n",
    "close_charts(sp_symbols)\n",
    "close_charts(glob_symbols)"
   ]
  },
  {
   "cell_type": "markdown",
   "metadata": {},
   "source": [
    "### 2. Volatility - Histograms"
   ]
  },
  {
   "cell_type": "code",
   "execution_count": 11,
   "metadata": {},
   "outputs": [],
   "source": [
    "df = rel_returns(qqq_symbols, ten_yr)"
   ]
  },
  {
   "cell_type": "code",
   "execution_count": 12,
   "metadata": {},
   "outputs": [
    {
     "data": {
      "text/html": [
       "<div>\n",
       "<style scoped>\n",
       "    .dataframe tbody tr th:only-of-type {\n",
       "        vertical-align: middle;\n",
       "    }\n",
       "\n",
       "    .dataframe tbody tr th {\n",
       "        vertical-align: top;\n",
       "    }\n",
       "\n",
       "    .dataframe thead th {\n",
       "        text-align: right;\n",
       "    }\n",
       "</style>\n",
       "<table border=\"1\" class=\"dataframe\">\n",
       "  <thead>\n",
       "    <tr style=\"text-align: right;\">\n",
       "      <th></th>\n",
       "      <th>QQQ</th>\n",
       "      <th>SPLG</th>\n",
       "      <th>DIA</th>\n",
       "      <th>VEU</th>\n",
       "    </tr>\n",
       "    <tr>\n",
       "      <th>Date</th>\n",
       "      <th></th>\n",
       "      <th></th>\n",
       "      <th></th>\n",
       "      <th></th>\n",
       "    </tr>\n",
       "  </thead>\n",
       "  <tbody>\n",
       "    <tr>\n",
       "      <th>2011-06-21</th>\n",
       "      <td>1.000000</td>\n",
       "      <td>1.000000</td>\n",
       "      <td>1.000000</td>\n",
       "      <td>1.000000</td>\n",
       "    </tr>\n",
       "    <tr>\n",
       "      <th>2011-06-22</th>\n",
       "      <td>0.992758</td>\n",
       "      <td>1.004811</td>\n",
       "      <td>0.993585</td>\n",
       "      <td>0.990321</td>\n",
       "    </tr>\n",
       "    <tr>\n",
       "      <th>2011-06-23</th>\n",
       "      <td>1.001992</td>\n",
       "      <td>1.000166</td>\n",
       "      <td>0.989555</td>\n",
       "      <td>0.983114</td>\n",
       "    </tr>\n",
       "    <tr>\n",
       "      <th>2011-06-24</th>\n",
       "      <td>0.984610</td>\n",
       "      <td>0.991208</td>\n",
       "      <td>0.980344</td>\n",
       "      <td>0.975288</td>\n",
       "    </tr>\n",
       "    <tr>\n",
       "      <th>2011-06-27</th>\n",
       "      <td>1.000362</td>\n",
       "      <td>0.992037</td>\n",
       "      <td>0.988568</td>\n",
       "      <td>0.983320</td>\n",
       "    </tr>\n",
       "    <tr>\n",
       "      <th>...</th>\n",
       "      <td>...</td>\n",
       "      <td>...</td>\n",
       "      <td>...</td>\n",
       "      <td>...</td>\n",
       "    </tr>\n",
       "    <tr>\n",
       "      <th>2021-06-14</th>\n",
       "      <td>6.237733</td>\n",
       "      <td>3.318514</td>\n",
       "      <td>2.831647</td>\n",
       "      <td>1.344316</td>\n",
       "    </tr>\n",
       "    <tr>\n",
       "      <th>2021-06-15</th>\n",
       "      <td>6.196995</td>\n",
       "      <td>3.312541</td>\n",
       "      <td>2.824328</td>\n",
       "      <td>1.342669</td>\n",
       "    </tr>\n",
       "    <tr>\n",
       "      <th>2021-06-16</th>\n",
       "      <td>6.174362</td>\n",
       "      <td>3.293962</td>\n",
       "      <td>2.802533</td>\n",
       "      <td>1.331137</td>\n",
       "    </tr>\n",
       "    <tr>\n",
       "      <th>2021-06-17</th>\n",
       "      <td>6.252761</td>\n",
       "      <td>3.292634</td>\n",
       "      <td>2.785180</td>\n",
       "      <td>1.326194</td>\n",
       "    </tr>\n",
       "    <tr>\n",
       "      <th>2021-06-18</th>\n",
       "      <td>6.203694</td>\n",
       "      <td>3.248839</td>\n",
       "      <td>2.738383</td>\n",
       "      <td>1.304366</td>\n",
       "    </tr>\n",
       "  </tbody>\n",
       "</table>\n",
       "<p>2516 rows × 4 columns</p>\n",
       "</div>"
      ],
      "text/plain": [
       "                 QQQ      SPLG       DIA       VEU\n",
       "Date                                              \n",
       "2011-06-21  1.000000  1.000000  1.000000  1.000000\n",
       "2011-06-22  0.992758  1.004811  0.993585  0.990321\n",
       "2011-06-23  1.001992  1.000166  0.989555  0.983114\n",
       "2011-06-24  0.984610  0.991208  0.980344  0.975288\n",
       "2011-06-27  1.000362  0.992037  0.988568  0.983320\n",
       "...              ...       ...       ...       ...\n",
       "2021-06-14  6.237733  3.318514  2.831647  1.344316\n",
       "2021-06-15  6.196995  3.312541  2.824328  1.342669\n",
       "2021-06-16  6.174362  3.293962  2.802533  1.331137\n",
       "2021-06-17  6.252761  3.292634  2.785180  1.326194\n",
       "2021-06-18  6.203694  3.248839  2.738383  1.304366\n",
       "\n",
       "[2516 rows x 4 columns]"
      ]
     },
     "execution_count": 12,
     "metadata": {},
     "output_type": "execute_result"
    }
   ],
   "source": [
    "df"
   ]
  },
  {
   "cell_type": "code",
   "execution_count": 13,
   "metadata": {},
   "outputs": [
    {
     "data": {
      "text/plain": [
       "<Figure size 720x576 with 0 Axes>"
      ]
     },
     "metadata": {},
     "output_type": "display_data"
    }
   ],
   "source": [
    "# create histograms for returns, qqq_symbols list\n",
    "for x in range(len(dates_list)):\n",
    "    df = rel_returns(qqq_symbols, dates_list[x])\n",
    "    df.QQQ.hist(bins=50, figsize=(10,8), label='QQQ', alpha=0.5)\n",
    "    df.SPLG.hist(bins=50, label='SPLG', alpha=0.5)\n",
    "    df.DIA.hist(bins=50, label='DIA', alpha=0.5)\n",
    "    df.VEU.hist(bins=50, label='VEU', alpha=0.5)\n",
    "    plt.title(f'Volatility: {dates_str[x]}, {last_date}', fontsize=24)\n",
    "    plt.legend(fontsize=18)\n",
    "    plt.tight_layout()\n",
    "    plt.savefig(f\"../images/vol_hist/histogram_qqq_symbols_{dates_str[x]}.jpg\", dpi=75)\n",
    "    plt.clf()"
   ]
  },
  {
   "cell_type": "code",
   "execution_count": 14,
   "metadata": {},
   "outputs": [
    {
     "data": {
      "text/plain": [
       "<Figure size 720x576 with 0 Axes>"
      ]
     },
     "metadata": {},
     "output_type": "display_data"
    }
   ],
   "source": [
    "# create histograms kernel for clarity, qqq_symbols list\n",
    "for x in range(len(dates_list)):\n",
    "    df = rel_returns(qqq_symbols, dates_list[x])\n",
    "    df.QQQ.plot(kind='kde', label='QQQ', figsize=(10,8))\n",
    "    df.SPLG.plot(kind='kde', label='SPLG')\n",
    "    df.DIA.plot(kind='kde', label='DIA')\n",
    "    df.VEU.plot(kind='kde', label='VEU')\n",
    "    plt.title(f'Volatility Normalized: {dates_str[x]}, {last_date}', fontsize=24)\n",
    "    plt.legend(fontsize=18)\n",
    "    plt.tight_layout()\n",
    "    plt.grid()\n",
    "    plt.savefig(f\"../images/vol_hist/ked_hist_qqq_symbols_{dates_str[x]}.jpg\", dpi=75)\n",
    "    plt.clf()"
   ]
  },
  {
   "cell_type": "code",
   "execution_count": 15,
   "metadata": {},
   "outputs": [
    {
     "data": {
      "text/plain": [
       "<Figure size 720x576 with 0 Axes>"
      ]
     },
     "metadata": {},
     "output_type": "display_data"
    }
   ],
   "source": [
    "# repeat operations for sp_symbols, glob_symbols\n",
    "for x in range(len(dates_list)):\n",
    "    df = rel_returns(sp_symbols, dates_list[x])\n",
    "    df.QQQ.hist(bins=50, figsize=(10,8), label='QQQ', alpha=0.5)\n",
    "    df.SPLG.hist(bins=50, label='SPLG', alpha=0.5)\n",
    "    df.IVV.hist(bins=50, label='IVV', alpha=0.5)\n",
    "    df.VOO.hist(bins=50, label='VOO', alpha=0.5)\n",
    "    df.SPY.hist(bins=50, label='SPY', alpha=0.5)\n",
    "    df.DIA.hist(bins=50, label='DIA', alpha=0.5)\n",
    "    plt.title(f'Volatility: {dates_str[x]}, {last_date}', fontsize=24)\n",
    "    plt.legend(fontsize=18)\n",
    "    plt.tight_layout()\n",
    "    plt.savefig(f\"../images/vol_hist/histogram_sp_symbols_{dates_str[x]}.jpg\", dpi=75)\n",
    "    plt.clf()\n",
    "for x in range(len(dates_list)):\n",
    "    df = rel_returns(sp_symbols, dates_list[x])\n",
    "    df.QQQ.plot(kind='kde', label='QQQ', figsize=(10,8))\n",
    "    df.SPLG.plot(kind='kde', label='SPLG')\n",
    "    df.IVV.plot(kind='kde', label='IVV')\n",
    "    df.VOO.plot(kind='kde', label='VOO')\n",
    "    df.SPY.plot(kind='kde', label='SPY')\n",
    "    df.DIA.plot(kind='kde', label='DIA')\n",
    "    plt.title(f'Volatility Normalized: {dates_str[x]}, {last_date}', fontsize=24)\n",
    "    plt.legend(fontsize=18)\n",
    "    plt.tight_layout()\n",
    "    plt.grid()\n",
    "    plt.savefig(f\"../images/vol_hist/ked_hist_sp_symbols_{dates_str[x]}.jpg\", dpi=75)\n",
    "    plt.clf()"
   ]
  },
  {
   "cell_type": "code",
   "execution_count": 16,
   "metadata": {},
   "outputs": [
    {
     "data": {
      "text/plain": [
       "<Figure size 720x576 with 0 Axes>"
      ]
     },
     "metadata": {},
     "output_type": "display_data"
    }
   ],
   "source": [
    "for x in range(len(dates_list)):\n",
    "    df = rel_returns(glob_symbols, dates_list[x])\n",
    "    df.QQQ.hist(bins=50, figsize=(10,8), label='QQQ', alpha=0.5)\n",
    "    df.SPLG.hist(bins=50, label='SPLG', alpha=0.5)\n",
    "    df.ACWI.hist(bins=50, label='ACWI', alpha=0.5)\n",
    "    df.VEU.hist(bins=50, label='VEU', alpha=0.5)\n",
    "    df.VSS.hist(bins=50, label='VSS', alpha=0.5)\n",
    "    plt.title(f'Volatility: {dates_str[x]}, {last_date}', fontsize=24)\n",
    "    plt.legend(fontsize=18)\n",
    "    plt.tight_layout()\n",
    "    plt.savefig(f\"../images/vol_hist/histogram_glob_symbols_{dates_str[x]}.jpg\", dpi=75)\n",
    "    plt.clf()\n",
    "for x in range(len(dates_list)):\n",
    "    df = rel_returns(glob_symbols, dates_list[x])\n",
    "    df.QQQ.plot(kind='kde', label='QQQ', figsize=(10,8))\n",
    "    df.SPLG.plot(kind='kde', label='SPLG')\n",
    "    df.ACWI.plot(kind='kde', label='ACWI')\n",
    "    df.VEU.plot(kind='kde', label='VEU')\n",
    "    df.VSS.plot(kind='kde', label='VSS')\n",
    "    plt.title(f'Volatility Normalized: {dates_str[x]}, {last_date}', fontsize=24)\n",
    "    plt.legend(fontsize=18)\n",
    "    plt.tight_layout()\n",
    "    plt.grid()\n",
    "    plt.savefig(f\"../images/vol_hist/ked_hist_glob_symbols_{dates_str[x]}.jpg\", dpi=75)\n",
    "    plt.clf()"
   ]
  },
  {
   "cell_type": "markdown",
   "metadata": {},
   "source": [
    "### Correlation"
   ]
  },
  {
   "cell_type": "code",
   "execution_count": 17,
   "metadata": {},
   "outputs": [],
   "source": [
    "from pandas.plotting import scatter_matrix"
   ]
  },
  {
   "cell_type": "code",
   "execution_count": 18,
   "metadata": {},
   "outputs": [],
   "source": [
    "def scatter_plots(portfolio_list):\n",
    "    for portfolio in portfolio_list:\n",
    "        for x in range(len(dates_list)):\n",
    "            df = close_compare(portfolio, dates_list[x])\n",
    "            scatter_matrix(df, figsize=(10,10), color='dodgerblue', hist_kwds={'color':'lightblue', 'alpha':0.50, 'bins':50})\n",
    "            plt.tight_layout()\n",
    "            plt.savefig(f\"../images/correlation/scatter_{portfolio[-1]}_{dates_str[x]}.jpg\", dpi=150)\n",
    "            plt.clf()"
   ]
  },
  {
   "cell_type": "code",
   "execution_count": 19,
   "metadata": {},
   "outputs": [
    {
     "data": {
      "text/plain": [
       "<Figure size 720x720 with 0 Axes>"
      ]
     },
     "metadata": {},
     "output_type": "display_data"
    },
    {
     "data": {
      "text/plain": [
       "<Figure size 720x720 with 0 Axes>"
      ]
     },
     "metadata": {},
     "output_type": "display_data"
    },
    {
     "data": {
      "text/plain": [
       "<Figure size 720x720 with 0 Axes>"
      ]
     },
     "metadata": {},
     "output_type": "display_data"
    },
    {
     "data": {
      "text/plain": [
       "<Figure size 720x720 with 0 Axes>"
      ]
     },
     "metadata": {},
     "output_type": "display_data"
    },
    {
     "data": {
      "text/plain": [
       "<Figure size 720x720 with 0 Axes>"
      ]
     },
     "metadata": {},
     "output_type": "display_data"
    },
    {
     "data": {
      "text/plain": [
       "<Figure size 720x720 with 0 Axes>"
      ]
     },
     "metadata": {},
     "output_type": "display_data"
    },
    {
     "data": {
      "text/plain": [
       "<Figure size 720x720 with 0 Axes>"
      ]
     },
     "metadata": {},
     "output_type": "display_data"
    },
    {
     "data": {
      "text/plain": [
       "<Figure size 720x720 with 0 Axes>"
      ]
     },
     "metadata": {},
     "output_type": "display_data"
    },
    {
     "data": {
      "text/plain": [
       "<Figure size 720x720 with 0 Axes>"
      ]
     },
     "metadata": {},
     "output_type": "display_data"
    },
    {
     "data": {
      "text/plain": [
       "<Figure size 720x720 with 0 Axes>"
      ]
     },
     "metadata": {},
     "output_type": "display_data"
    },
    {
     "data": {
      "text/plain": [
       "<Figure size 720x720 with 0 Axes>"
      ]
     },
     "metadata": {},
     "output_type": "display_data"
    },
    {
     "data": {
      "text/plain": [
       "<Figure size 720x720 with 0 Axes>"
      ]
     },
     "metadata": {},
     "output_type": "display_data"
    },
    {
     "data": {
      "text/plain": [
       "<Figure size 720x720 with 0 Axes>"
      ]
     },
     "metadata": {},
     "output_type": "display_data"
    },
    {
     "data": {
      "text/plain": [
       "<Figure size 720x720 with 0 Axes>"
      ]
     },
     "metadata": {},
     "output_type": "display_data"
    },
    {
     "data": {
      "text/plain": [
       "<Figure size 720x720 with 0 Axes>"
      ]
     },
     "metadata": {},
     "output_type": "display_data"
    },
    {
     "data": {
      "text/plain": [
       "<Figure size 720x720 with 0 Axes>"
      ]
     },
     "metadata": {},
     "output_type": "display_data"
    },
    {
     "data": {
      "text/plain": [
       "<Figure size 720x720 with 0 Axes>"
      ]
     },
     "metadata": {},
     "output_type": "display_data"
    },
    {
     "data": {
      "text/plain": [
       "<Figure size 720x720 with 0 Axes>"
      ]
     },
     "metadata": {},
     "output_type": "display_data"
    }
   ],
   "source": [
    "scatter_plots(portfolios)"
   ]
  },
  {
   "cell_type": "markdown",
   "metadata": {},
   "source": [
    "### Monte Carlo Simulation\n",
    "Currently discontinued"
   ]
  },
  {
   "cell_type": "code",
   "execution_count": 20,
   "metadata": {},
   "outputs": [],
   "source": [
    "# create function that randomly selects a 60 day period 1000 times, plots the simulation and...\n",
    "# an easier to read quantile version\n",
    "#def monte_carlo(portfolio):\n",
    "    #for x in range(len(dates_list)):\n",
    "        #stocks = close_compare(portfolio, dates_list[x])\n",
    "        #prf_returns = (stocks.pct_change() +1)[1:]\n",
    "        #simulated = pd.DataFrame([((prf_returns.iloc[random.choices(range(len(prf_returns)), k=60)])\\\n",
    "                        #.mean(axis=1)).cumprod().values for x in range(1000)]).T\n",
    "        #simulated.plot(legend=False, linewidth=1, alpha=0.1, color='blue', figsize=(12,8))\n",
    "        #plt.tight_layout()\n",
    "        #plt.savefig(f\"../images/monte_carlo/simulated_{portfolio[-1]}_{dates_str[x]}.jpg\", dpi=150)\n",
    "        #plt.clf()\n",
    "        #simulated.quantile([0.05, 0.50, 0.95], axis=1).T.plot(figsize=(12,8))\n",
    "        #plt.legend(fontsize=18)\n",
    "        #plt.tight_layout()\n",
    "        #plt.savefig(f\"../images/monte_carlo/quantile_{portfolio[-1]}_{dates_str[x]}.jpg\", dpi=75)\n",
    "        #plt.clf()"
   ]
  },
  {
   "cell_type": "code",
   "execution_count": 21,
   "metadata": {},
   "outputs": [],
   "source": [
    "#monte_carlo(qqq_symbols)"
   ]
  },
  {
   "cell_type": "code",
   "execution_count": 22,
   "metadata": {},
   "outputs": [],
   "source": [
    "#monte_carlo(sp_symbols)"
   ]
  },
  {
   "cell_type": "code",
   "execution_count": 23,
   "metadata": {},
   "outputs": [],
   "source": [
    "#monte_carlo(glob_symbols)"
   ]
  },
  {
   "cell_type": "code",
   "execution_count": null,
   "metadata": {},
   "outputs": [],
   "source": []
  }
 ],
 "metadata": {
  "kernelspec": {
   "display_name": "Python 3",
   "language": "python",
   "name": "python3"
  },
  "language_info": {
   "codemirror_mode": {
    "name": "ipython",
    "version": 3
   },
   "file_extension": ".py",
   "mimetype": "text/x-python",
   "name": "python",
   "nbconvert_exporter": "python",
   "pygments_lexer": "ipython3",
   "version": "3.8.3"
  }
 },
 "nbformat": 4,
 "nbformat_minor": 4
}
